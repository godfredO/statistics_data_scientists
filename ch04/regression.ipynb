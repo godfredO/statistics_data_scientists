{
 "cells": [
  {
   "cell_type": "code",
   "execution_count": 658,
   "metadata": {},
   "outputs": [],
   "source": [
    "from pathlib import Path\n",
    "\n",
    "import pandas as pd\n",
    "import numpy as np\n",
    "from sklearn.metrics import r2_score, mean_squared_error\n",
    "from sklearn.linear_model import LinearRegression\n",
    "\n",
    "import statsmodels.api as sm\n",
    "import statsmodels.formula.api as smf\n",
    "from statsmodels.stats.outliers_influence import OLSInfluence\n",
    "\n",
    "from pygam import LinearGAM, s, l\n",
    "from pygam.datasets import wage\n",
    "\n",
    "\n",
    "import seaborn as sns\n",
    "import matplotlib.pyplot as plt\n",
    "\n",
    "from dmba import stepwise_selection\n",
    "from dmba import AIC_score\n",
    "\n",
    "import warnings\n",
    "warnings.filterwarnings('ignore')\n",
    "\n",
    "%matplotlib inline"
   ]
  },
  {
   "cell_type": "markdown",
   "metadata": {},
   "source": [
    "<b><h3>Regression and Prediction</h3></b>\n",
    "\n",
    "Is the variable X (or more likey $X_1$,...,$X_p$) associated with a variable Y, and if so, what is the relationship and can we use it to predict Y ie the prediction of an outcome (target) variable based on the values of other \"predictor\" variables. This process of training a model on data where the outcome is known, for subsequent application to data where the outcome is not known, is termed supervised learning. In anomaly detection, the regression diagnostics originally intended for data analysis and improving the regression model can be used to detect unusual records."
   ]
  },
  {
   "cell_type": "markdown",
   "metadata": {},
   "source": [
    "<b><h3>Simple Linear Regression</h3></b>\n",
    "\n",
    "Simple linear regression provides a model of the relationship between the magnitude of one variable and that of a second - for example, as X increases, Y also increases. Or as X increases, Y decreases. Correlation is another way to measure how two variables are related. The difference is that while correlation measures the strength of an association between two variables, regression quantifies the nature of the relationship."
   ]
  },
  {
   "cell_type": "markdown",
   "metadata": {},
   "source": [
    "<b><h4>The Regression Equation</h4></b>\n",
    "\n",
    "Simple linear regression estimates how much Y will change when X changes by a certain amount. With the correlation coefficient, the variables X and Y are interchangeable. With regression, we are trying to predict the variable Y from X using a linear relationship (ie, a line):\n",
    "\n",
    "$Y$ = $b_0$ + $b_1X$\n",
    "\n",
    "The scikit-learn LinearRegression() model can be instantiated and fitted to data using the predict() method. The fitted model to learn the intercept (intercept_ attribute ) and coefficients (coefficient_ attribute) . Predictions are made by passing a 2D numpy ndarray to the predict() method (we can just pass a data frame and the underlying 2D nd array will be used.)"
   ]
  },
  {
   "cell_type": "code",
   "execution_count": 659,
   "metadata": {},
   "outputs": [
    {
     "data": {
      "text/html": [
       "<div>\n",
       "<style scoped>\n",
       "    .dataframe tbody tr th:only-of-type {\n",
       "        vertical-align: middle;\n",
       "    }\n",
       "\n",
       "    .dataframe tbody tr th {\n",
       "        vertical-align: top;\n",
       "    }\n",
       "\n",
       "    .dataframe thead th {\n",
       "        text-align: right;\n",
       "    }\n",
       "</style>\n",
       "<table border=\"1\" class=\"dataframe\">\n",
       "  <thead>\n",
       "    <tr style=\"text-align: right;\">\n",
       "      <th></th>\n",
       "      <th>PEFR</th>\n",
       "      <th>Exposure</th>\n",
       "    </tr>\n",
       "  </thead>\n",
       "  <tbody>\n",
       "    <tr>\n",
       "      <th>0</th>\n",
       "      <td>390</td>\n",
       "      <td>0</td>\n",
       "    </tr>\n",
       "    <tr>\n",
       "      <th>1</th>\n",
       "      <td>410</td>\n",
       "      <td>0</td>\n",
       "    </tr>\n",
       "    <tr>\n",
       "      <th>2</th>\n",
       "      <td>430</td>\n",
       "      <td>0</td>\n",
       "    </tr>\n",
       "    <tr>\n",
       "      <th>3</th>\n",
       "      <td>460</td>\n",
       "      <td>0</td>\n",
       "    </tr>\n",
       "    <tr>\n",
       "      <th>4</th>\n",
       "      <td>420</td>\n",
       "      <td>1</td>\n",
       "    </tr>\n",
       "  </tbody>\n",
       "</table>\n",
       "</div>"
      ],
      "text/plain": [
       "   PEFR  Exposure\n",
       "0   390         0\n",
       "1   410         0\n",
       "2   430         0\n",
       "3   460         0\n",
       "4   420         1"
      ]
     },
     "execution_count": 659,
     "metadata": {},
     "output_type": "execute_result"
    }
   ],
   "source": [
    "# Number of years a worker has been exposed to cotton dust (Exposure) versus a measure of lung capacity  PEFR\n",
    "# (peak expiratory flow rate)\n",
    "import pandas as pd\n",
    "lung = pd.read_csv('../data/LungDisease.csv')\n",
    "lung.head()"
   ]
  },
  {
   "cell_type": "code",
   "execution_count": 660,
   "metadata": {},
   "outputs": [
    {
     "data": {
      "image/png": "[encoded data removed]",
      "text/plain": [
       "<Figure size 640x480 with 1 Axes>"
      ]
     },
     "metadata": {},
     "output_type": "display_data"
    }
   ],
   "source": [
    "ax = lung.plot.scatter(x='Exposure', y='PEFR')\n",
    "ax.set_xlabel('Exposure')\n",
    "ax.set_ylabel('PEFR')\n",
    "plt.tight_layout()"
   ]
  },
  {
   "cell_type": "code",
   "execution_count": 661,
   "metadata": {},
   "outputs": [
    {
     "name": "stdout",
     "output_type": "stream",
     "text": [
      "Intercept:  424.583\n",
      "Coefficient Exposure: -4.185\n"
     ]
    }
   ],
   "source": [
    "predictors = ['Exposure']\n",
    "outcome = 'PEFR'\n",
    "\n",
    "model = LinearRegression()\n",
    "model.fit(lung[predictors], lung[outcome])\n",
    "print(f\"Intercept: {model.intercept_ : .3f}\")\n",
    "print(f\"Coefficient Exposure: {model.coef_[0] : .3f}\")"
   ]
  },
  {
   "cell_type": "code",
   "execution_count": 662,
   "metadata": {},
   "outputs": [
    {
     "data": {
      "text/plain": [
       "array([-4.18457649])"
      ]
     },
     "execution_count": 662,
     "metadata": {},
     "output_type": "execute_result"
    }
   ],
   "source": [
    "model.coef_"
   ]
  },
  {
   "cell_type": "code",
   "execution_count": 663,
   "metadata": {},
   "outputs": [
    {
     "data": {
      "image/png": "[encoded data removed]",
      "text/plain": [
       "<Figure size 400x400 with 1 Axes>"
      ]
     },
     "metadata": {},
     "output_type": "display_data"
    }
   ],
   "source": [
    "fig, ax = plt.subplots(figsize=(4,4))\n",
    "ax.plot((0,23), model.predict(np.array([[0],[23]])))\n",
    "ax.set_xlabel('Exposure')\n",
    "ax.set_ylabel('PEFR')\n",
    "ax.set_xlim(0,23)\n",
    "ax.set_ylim(295,450)\n",
    "ax.text(0.4, model.intercept_, s=r'$b_0$', size='larger')\n",
    "\n",
    "# drawing the intercept line\n",
    "x = pd.DataFrame({'Exposure':[7.5, 17.5]})\n",
    "y = model.predict(x)\n",
    "ax.plot((7.5,7.5,17.5), (y[0], y[1], y[1]), 'r--') # inner point share same x as first point, same y as second pint\n",
    "ax.text(5,np.mean(y), s=r'$\\Delta Y$', size='larger') # LaTEX\n",
    "ax.text(12,y[1]-10, s=r'$\\Delta X$', size='larger')\n",
    "ax.text(12, 390, s=r'$b_1=\\frac{\\Delta Y}{\\Delta X}$', size='larger')\n",
    "\n",
    "plt.tight_layout()"
   ]
  },
  {
   "cell_type": "markdown",
   "metadata": {},
   "source": [
    "<b><h4>Fitted Models</h4></b>\n",
    "\n",
    "Important concepts in regression analysis are the fitted values (the predictions) and residuals (prediction errors). In general, the data doesnt fall exactly on a line, so the regression equation should include an explicit error term $e_r$:\n",
    "\n",
    "$Y_i$ = $b_0\\;+\\;b_1X_i\\;+\\,e_i$\n",
    "\n",
    "The fitted values, also referred to as the predicted values, are typically denoted by $\\hat Y_i$. These are given by:\n",
    "\n",
    "$\\hat Y_i$ = $\\hat b_0\\;+\\;\\hat b_1X_i$\n",
    "\n",
    "The notation $\\hat b_0$ and $\\hat b_1$ indicates that the coefficients are estimated versus known. The \"hat\" notation is used to differentiate between estimates and known values. So the symbol $\\hat b$ (\"b-hat\") is an estimate of the unknown parameter $b$. Statisticians differentiate between the estimate and the true values because the estimate has uncertainty whereas the true value is fixed.\n",
    "\n",
    "We compute the residuals $\\hat e_i$ by subtracting the predicted values from the original data:\n",
    "\n",
    "$\\hat e_i$ = $Y_i$ - $\\hat Y_i$\n",
    "\n",
    "With scikit-learn's LinearRegression() model, we use the predict() method on the training data to get the fitted values and subsequently the residuals."
   ]
  },
  {
   "cell_type": "code",
   "execution_count": 664,
   "metadata": {},
   "outputs": [],
   "source": [
    "fitted = model.predict(lung[predictors])\n",
    "residuals = lung[outcome] - fitted"
   ]
  },
  {
   "cell_type": "code",
   "execution_count": 665,
   "metadata": {},
   "outputs": [
    {
     "data": {
      "image/png": "[encoded data removed]",
      "text/plain": [
       "<Figure size 640x480 with 1 Axes>"
      ]
     },
     "metadata": {},
     "output_type": "display_data"
    }
   ],
   "source": [
    "ax = lung.plot.scatter('Exposure', 'PEFR')\n",
    "ax.plot(lung.Exposure, fitted)\n",
    "for x, yactual, yfitted in zip(lung.Exposure, lung.PEFR, fitted):\n",
    "    ax.plot((x,x), (yactual, yfitted), '--', color='C1')\n",
    "plt.tight_layout()"
   ]
  },
  {
   "cell_type": "markdown",
   "metadata": {},
   "source": [
    "<b><h4>Least Squares</h4></b>\n",
    "\n",
    "How is the model fit to the data? When there is a clear relationship, you could imagine fitting a line by hand. In practice, the regression line is the estimate that minimizes the sum of squared residual values, also called the residual sum of squares or RSS:\n",
    "\n",
    "$RSS$ = $\\sum_{i=i}^n(Y_i - \\hat Y_i)^2$  = $\\sum_{i=1}^n(Y_i - \\hat b_0 - \\hat b_1X_i)^2$\n",
    "\n",
    "The estimates $\\hat b_0$ and $\\hat b_1$ are the values that minimizes RSS.\n",
    "\n",
    "The method of minimizing the sum of the squared residuals is termed least squares regression or ordinary least squares (OLS) regression. Least squares, like the mean, are sensitive to outliers, although this tends to be a significant problem only in small or moderate-sized data sets."
   ]
  },
  {
   "cell_type": "markdown",
   "metadata": {},
   "source": [
    "<b><h4>Prediction Versus Explanation (Profiling)</h4></b>\n",
    "\n",
    "Historically, a primary use of regression was to illuminate a supposed linear relationship between predictor variables and an outcome variable. The goal has been to understand a relationship and explain it using the data that the regression was fit to. In this case, the primary focus is on the estimated slope of the regression equation, $\\hat b$. Economists want to know the relationship between consumer spending and GDP growth. Public health officials want to understand whether a public information campaig is effective in promoting safe sex practices. In such cases, the focus is not on promoting individual cases but rather on understanding the overall relationship among variables.\n",
    "\n",
    "With the advent of big data, regression is widely used to form a model to predict individual outcomes for new data (ie a predictive model) rather than explain data in hand. In this instance, the main items of interest are the fitted values $\\bar Y$. In marketing, regression can be used to predict the change in revenue in response to the size of an ad campaign. Universities use regression to predict student's GPA based on their SAT scores.\n",
    "\n",
    "A regression model that fits the data well is set up such that the changes in X lead to changes in Y. However, by itself, the regression equation does not prove the direction of causation. Conclusions about causation must come from a broader understanding about the relationship. For example, a regression equation might show a definite relationship between the number of clicks on a web ad and number of conversions. It is our knowledge of the marketing process, not the regression equation, that leads us to the conclusion that clicks on the ad lead to sales,and not vice versa."
   ]
  },
  {
   "cell_type": "markdown",
   "metadata": {},
   "source": [
    "<b><h3>Multiple Linear Regression</h3></b>\n",
    "\n",
    "When there are multiple predictors, the equation is simply extended to accomodate them:\n",
    "\n",
    "$Y$ = $b_0\\;+\\;b_1X_1\\;+\\;b_2X_2\\;+\\;...\\;+\\;b_pX_p\\;+\\;e$\n",
    "\n",
    "Instead of a line, we now have a linear model - the relationship between each coefficient and its variable (feature) is linear. All of the other concepts in simple linear regression, such as fitting by least squares and the definition of fitted values and residuals, extend to the multiple linear regression setting. For example, the fitted values are given by:\n",
    "\n",
    "$\\hat Y$ = $\\hat b_0\\;+\\;\\hat b_1X_{1,i}\\;+\\;\\hat b_2X_{2,i}\\;+\\;...\\;+\\;\\hat b_pX_{p,i}$\n",
    "\n",
    "In Python, scikit-learn's LinearRegression() model can be used for multiple linear regression as well."
   ]
  },
  {
   "cell_type": "markdown",
   "metadata": {},
   "source": [
    "<b><h4>Example : King County Housing Data</h4></b>\n",
    "\n",
    "An example of using multiple linear regression is in estimating the value of houses. County assessors must estimate the value of a house for the purposes of assessing taxes. Real estate professionals and home buyers consult popular websites like Zillow to ascertain a fair price. Data from the prices for which houses were sold can be used for this."
   ]
  },
  {
   "cell_type": "code",
   "execution_count": 666,
   "metadata": {},
   "outputs": [
    {
     "data": {
      "text/html": [
       "<div>\n",
       "<style scoped>\n",
       "    .dataframe tbody tr th:only-of-type {\n",
       "        vertical-align: middle;\n",
       "    }\n",
       "\n",
       "    .dataframe tbody tr th {\n",
       "        vertical-align: top;\n",
       "    }\n",
       "\n",
       "    .dataframe thead th {\n",
       "        text-align: right;\n",
       "    }\n",
       "</style>\n",
       "<table border=\"1\" class=\"dataframe\">\n",
       "  <thead>\n",
       "    <tr style=\"text-align: right;\">\n",
       "      <th></th>\n",
       "      <th>DocumentDate</th>\n",
       "      <th>SalePrice</th>\n",
       "      <th>PropertyID</th>\n",
       "      <th>PropertyType</th>\n",
       "      <th>ym</th>\n",
       "      <th>zhvi_px</th>\n",
       "      <th>zhvi_idx</th>\n",
       "      <th>AdjSalePrice</th>\n",
       "      <th>NbrLivingUnits</th>\n",
       "      <th>SqFtLot</th>\n",
       "      <th>...</th>\n",
       "      <th>Bathrooms</th>\n",
       "      <th>Bedrooms</th>\n",
       "      <th>BldgGrade</th>\n",
       "      <th>YrBuilt</th>\n",
       "      <th>YrRenovated</th>\n",
       "      <th>TrafficNoise</th>\n",
       "      <th>LandVal</th>\n",
       "      <th>ImpsVal</th>\n",
       "      <th>ZipCode</th>\n",
       "      <th>NewConstruction</th>\n",
       "    </tr>\n",
       "  </thead>\n",
       "  <tbody>\n",
       "    <tr>\n",
       "      <th>1</th>\n",
       "      <td>2014-09-16</td>\n",
       "      <td>280000</td>\n",
       "      <td>1000102</td>\n",
       "      <td>Multiplex</td>\n",
       "      <td>2014-09-01</td>\n",
       "      <td>405100</td>\n",
       "      <td>0.930836</td>\n",
       "      <td>300805.0</td>\n",
       "      <td>2</td>\n",
       "      <td>9373</td>\n",
       "      <td>...</td>\n",
       "      <td>3.00</td>\n",
       "      <td>6</td>\n",
       "      <td>7</td>\n",
       "      <td>1991</td>\n",
       "      <td>0</td>\n",
       "      <td>0</td>\n",
       "      <td>70000</td>\n",
       "      <td>229000</td>\n",
       "      <td>98002</td>\n",
       "      <td>False</td>\n",
       "    </tr>\n",
       "    <tr>\n",
       "      <th>2</th>\n",
       "      <td>2006-06-16</td>\n",
       "      <td>1000000</td>\n",
       "      <td>1200013</td>\n",
       "      <td>Single Family</td>\n",
       "      <td>2006-06-01</td>\n",
       "      <td>404400</td>\n",
       "      <td>0.929228</td>\n",
       "      <td>1076162.0</td>\n",
       "      <td>1</td>\n",
       "      <td>20156</td>\n",
       "      <td>...</td>\n",
       "      <td>3.75</td>\n",
       "      <td>4</td>\n",
       "      <td>10</td>\n",
       "      <td>2005</td>\n",
       "      <td>0</td>\n",
       "      <td>0</td>\n",
       "      <td>203000</td>\n",
       "      <td>590000</td>\n",
       "      <td>98166</td>\n",
       "      <td>True</td>\n",
       "    </tr>\n",
       "    <tr>\n",
       "      <th>3</th>\n",
       "      <td>2007-01-29</td>\n",
       "      <td>745000</td>\n",
       "      <td>1200019</td>\n",
       "      <td>Single Family</td>\n",
       "      <td>2007-01-01</td>\n",
       "      <td>425600</td>\n",
       "      <td>0.977941</td>\n",
       "      <td>761805.0</td>\n",
       "      <td>1</td>\n",
       "      <td>26036</td>\n",
       "      <td>...</td>\n",
       "      <td>1.75</td>\n",
       "      <td>4</td>\n",
       "      <td>8</td>\n",
       "      <td>1947</td>\n",
       "      <td>0</td>\n",
       "      <td>0</td>\n",
       "      <td>183000</td>\n",
       "      <td>275000</td>\n",
       "      <td>98166</td>\n",
       "      <td>False</td>\n",
       "    </tr>\n",
       "    <tr>\n",
       "      <th>4</th>\n",
       "      <td>2008-02-25</td>\n",
       "      <td>425000</td>\n",
       "      <td>2800016</td>\n",
       "      <td>Single Family</td>\n",
       "      <td>2008-02-01</td>\n",
       "      <td>418400</td>\n",
       "      <td>0.961397</td>\n",
       "      <td>442065.0</td>\n",
       "      <td>1</td>\n",
       "      <td>8618</td>\n",
       "      <td>...</td>\n",
       "      <td>3.75</td>\n",
       "      <td>5</td>\n",
       "      <td>7</td>\n",
       "      <td>1966</td>\n",
       "      <td>0</td>\n",
       "      <td>0</td>\n",
       "      <td>104000</td>\n",
       "      <td>229000</td>\n",
       "      <td>98168</td>\n",
       "      <td>False</td>\n",
       "    </tr>\n",
       "    <tr>\n",
       "      <th>5</th>\n",
       "      <td>2013-03-29</td>\n",
       "      <td>240000</td>\n",
       "      <td>2800024</td>\n",
       "      <td>Single Family</td>\n",
       "      <td>2013-03-01</td>\n",
       "      <td>351600</td>\n",
       "      <td>0.807904</td>\n",
       "      <td>297065.0</td>\n",
       "      <td>1</td>\n",
       "      <td>8620</td>\n",
       "      <td>...</td>\n",
       "      <td>1.75</td>\n",
       "      <td>4</td>\n",
       "      <td>7</td>\n",
       "      <td>1948</td>\n",
       "      <td>0</td>\n",
       "      <td>0</td>\n",
       "      <td>104000</td>\n",
       "      <td>205000</td>\n",
       "      <td>98168</td>\n",
       "      <td>False</td>\n",
       "    </tr>\n",
       "  </tbody>\n",
       "</table>\n",
       "<p>5 rows × 22 columns</p>\n",
       "</div>"
      ],
      "text/plain": [
       "  DocumentDate  SalePrice  PropertyID   PropertyType          ym  zhvi_px  \\\n",
       "1   2014-09-16     280000     1000102      Multiplex  2014-09-01   405100   \n",
       "2   2006-06-16    1000000     1200013  Single Family  2006-06-01   404400   \n",
       "3   2007-01-29     745000     1200019  Single Family  2007-01-01   425600   \n",
       "4   2008-02-25     425000     2800016  Single Family  2008-02-01   418400   \n",
       "5   2013-03-29     240000     2800024  Single Family  2013-03-01   351600   \n",
       "\n",
       "   zhvi_idx  AdjSalePrice  NbrLivingUnits  SqFtLot  ...  Bathrooms  Bedrooms  \\\n",
       "1  0.930836      300805.0               2     9373  ...       3.00         6   \n",
       "2  0.929228     1076162.0               1    20156  ...       3.75         4   \n",
       "3  0.977941      761805.0               1    26036  ...       1.75         4   \n",
       "4  0.961397      442065.0               1     8618  ...       3.75         5   \n",
       "5  0.807904      297065.0               1     8620  ...       1.75         4   \n",
       "\n",
       "   BldgGrade  YrBuilt  YrRenovated  TrafficNoise  LandVal  ImpsVal  ZipCode  \\\n",
       "1          7     1991            0             0    70000   229000    98002   \n",
       "2         10     2005            0             0   203000   590000    98166   \n",
       "3          8     1947            0             0   183000   275000    98166   \n",
       "4          7     1966            0             0   104000   229000    98168   \n",
       "5          7     1948            0             0   104000   205000    98168   \n",
       "\n",
       "   NewConstruction  \n",
       "1            False  \n",
       "2             True  \n",
       "3            False  \n",
       "4            False  \n",
       "5            False  \n",
       "\n",
       "[5 rows x 22 columns]"
      ]
     },
     "execution_count": 666,
     "metadata": {},
     "output_type": "execute_result"
    }
   ],
   "source": [
    "house = pd.read_csv('../data/house_sales.csv', sep='\\t')\n",
    "house.head()"
   ]
  },
  {
   "cell_type": "code",
   "execution_count": 667,
   "metadata": {},
   "outputs": [
    {
     "data": {
      "text/html": [
       "<div>\n",
       "<style scoped>\n",
       "    .dataframe tbody tr th:only-of-type {\n",
       "        vertical-align: middle;\n",
       "    }\n",
       "\n",
       "    .dataframe tbody tr th {\n",
       "        vertical-align: top;\n",
       "    }\n",
       "\n",
       "    .dataframe thead th {\n",
       "        text-align: right;\n",
       "    }\n",
       "</style>\n",
       "<table border=\"1\" class=\"dataframe\">\n",
       "  <thead>\n",
       "    <tr style=\"text-align: right;\">\n",
       "      <th></th>\n",
       "      <th>AdjSalePrice</th>\n",
       "      <th>SqFtTotLiving</th>\n",
       "      <th>SqFtLot</th>\n",
       "      <th>Bathrooms</th>\n",
       "      <th>Bedrooms</th>\n",
       "      <th>BldgGrade</th>\n",
       "    </tr>\n",
       "  </thead>\n",
       "  <tbody>\n",
       "    <tr>\n",
       "      <th>1</th>\n",
       "      <td>300805.0</td>\n",
       "      <td>2400</td>\n",
       "      <td>9373</td>\n",
       "      <td>3.00</td>\n",
       "      <td>6</td>\n",
       "      <td>7</td>\n",
       "    </tr>\n",
       "    <tr>\n",
       "      <th>2</th>\n",
       "      <td>1076162.0</td>\n",
       "      <td>3764</td>\n",
       "      <td>20156</td>\n",
       "      <td>3.75</td>\n",
       "      <td>4</td>\n",
       "      <td>10</td>\n",
       "    </tr>\n",
       "    <tr>\n",
       "      <th>3</th>\n",
       "      <td>761805.0</td>\n",
       "      <td>2060</td>\n",
       "      <td>26036</td>\n",
       "      <td>1.75</td>\n",
       "      <td>4</td>\n",
       "      <td>8</td>\n",
       "    </tr>\n",
       "    <tr>\n",
       "      <th>4</th>\n",
       "      <td>442065.0</td>\n",
       "      <td>3200</td>\n",
       "      <td>8618</td>\n",
       "      <td>3.75</td>\n",
       "      <td>5</td>\n",
       "      <td>7</td>\n",
       "    </tr>\n",
       "    <tr>\n",
       "      <th>5</th>\n",
       "      <td>297065.0</td>\n",
       "      <td>1720</td>\n",
       "      <td>8620</td>\n",
       "      <td>1.75</td>\n",
       "      <td>4</td>\n",
       "      <td>7</td>\n",
       "    </tr>\n",
       "  </tbody>\n",
       "</table>\n",
       "</div>"
      ],
      "text/plain": [
       "   AdjSalePrice  SqFtTotLiving  SqFtLot  Bathrooms  Bedrooms  BldgGrade\n",
       "1      300805.0           2400     9373       3.00         6          7\n",
       "2     1076162.0           3764    20156       3.75         4         10\n",
       "3      761805.0           2060    26036       1.75         4          8\n",
       "4      442065.0           3200     8618       3.75         5          7\n",
       "5      297065.0           1720     8620       1.75         4          7"
      ]
     },
     "execution_count": 667,
     "metadata": {},
     "output_type": "execute_result"
    }
   ],
   "source": [
    "predictors = ['SqFtTotLiving', 'SqFtLot', 'Bathrooms', \n",
    "              'Bedrooms', 'BldgGrade']\n",
    "outcome = 'AdjSalePrice'   \n",
    "\n",
    "house[[outcome,*predictors ]].head()"
   ]
  },
  {
   "cell_type": "code",
   "execution_count": 668,
   "metadata": {},
   "outputs": [
    {
     "data": {
      "text/html": [
       "<style>#sk-container-id-24 {color: black;background-color: white;}#sk-container-id-24 pre{padding: 0;}#sk-container-id-24 div.sk-toggleable {background-color: white;}#sk-container-id-24 label.sk-toggleable__label {cursor: pointer;display: block;width: 100%;margin-bottom: 0;padding: 0.3em;box-sizing: border-box;text-align: center;}#sk-container-id-24 label.sk-toggleable__label-arrow:before {content: \"▸\";float: left;margin-right: 0.25em;color: #696969;}#sk-container-id-24 label.sk-toggleable__label-arrow:hover:before {color: black;}#sk-container-id-24 div.sk-estimator:hover label.sk-toggleable__label-arrow:before {color: black;}#sk-container-id-24 div.sk-toggleable__content {max-height: 0;max-width: 0;overflow: hidden;text-align: left;background-color: #f0f8ff;}#sk-container-id-24 div.sk-toggleable__content pre {margin: 0.2em;color: black;border-radius: 0.25em;background-color: #f0f8ff;}#sk-container-id-24 input.sk-toggleable__control:checked~div.sk-toggleable__content {max-height: 200px;max-width: 100%;overflow: auto;}#sk-container-id-24 input.sk-toggleable__control:checked~label.sk-toggleable__label-arrow:before {content: \"▾\";}#sk-container-id-24 div.sk-estimator input.sk-toggleable__control:checked~label.sk-toggleable__label {background-color: #d4ebff;}#sk-container-id-24 div.sk-label input.sk-toggleable__control:checked~label.sk-toggleable__label {background-color: #d4ebff;}#sk-container-id-24 input.sk-hidden--visually {border: 0;clip: rect(1px 1px 1px 1px);clip: rect(1px, 1px, 1px, 1px);height: 1px;margin: -1px;overflow: hidden;padding: 0;position: absolute;width: 1px;}#sk-container-id-24 div.sk-estimator {font-family: monospace;background-color: #f0f8ff;border: 1px dotted black;border-radius: 0.25em;box-sizing: border-box;margin-bottom: 0.5em;}#sk-container-id-24 div.sk-estimator:hover {background-color: #d4ebff;}#sk-container-id-24 div.sk-parallel-item::after {content: \"\";width: 100%;border-bottom: 1px solid gray;flex-grow: 1;}#sk-container-id-24 div.sk-label:hover label.sk-toggleable__label {background-color: #d4ebff;}#sk-container-id-24 div.sk-serial::before {content: \"\";position: absolute;border-left: 1px solid gray;box-sizing: border-box;top: 0;bottom: 0;left: 50%;z-index: 0;}#sk-container-id-24 div.sk-serial {display: flex;flex-direction: column;align-items: center;background-color: white;padding-right: 0.2em;padding-left: 0.2em;position: relative;}#sk-container-id-24 div.sk-item {position: relative;z-index: 1;}#sk-container-id-24 div.sk-parallel {display: flex;align-items: stretch;justify-content: center;background-color: white;position: relative;}#sk-container-id-24 div.sk-item::before, #sk-container-id-24 div.sk-parallel-item::before {content: \"\";position: absolute;border-left: 1px solid gray;box-sizing: border-box;top: 0;bottom: 0;left: 50%;z-index: -1;}#sk-container-id-24 div.sk-parallel-item {display: flex;flex-direction: column;z-index: 1;position: relative;background-color: white;}#sk-container-id-24 div.sk-parallel-item:first-child::after {align-self: flex-end;width: 50%;}#sk-container-id-24 div.sk-parallel-item:last-child::after {align-self: flex-start;width: 50%;}#sk-container-id-24 div.sk-parallel-item:only-child::after {width: 0;}#sk-container-id-24 div.sk-dashed-wrapped {border: 1px dashed gray;margin: 0 0.4em 0.5em 0.4em;box-sizing: border-box;padding-bottom: 0.4em;background-color: white;}#sk-container-id-24 div.sk-label label {font-family: monospace;font-weight: bold;display: inline-block;line-height: 1.2em;}#sk-container-id-24 div.sk-label-container {text-align: center;}#sk-container-id-24 div.sk-container {/* jupyter's `normalize.less` sets `[hidden] { display: none; }` but bootstrap.min.css set `[hidden] { display: none !important; }` so we also need the `!important` here to be able to override the default hidden behavior on the sphinx rendered scikit-learn.org. See: https://github.com/scikit-learn/scikit-learn/issues/21755 */display: inline-block !important;position: relative;}#sk-container-id-24 div.sk-text-repr-fallback {display: none;}</style><div id=\"sk-container-id-24\" class=\"sk-top-container\"><div class=\"sk-text-repr-fallback\"><pre>LinearRegression()</pre><b>In a Jupyter environment, please rerun this cell to show the HTML representation or trust the notebook. <br />On GitHub, the HTML representation is unable to render, please try loading this page with nbviewer.org.</b></div><div class=\"sk-container\" hidden><div class=\"sk-item\"><div class=\"sk-estimator sk-toggleable\"><input class=\"sk-toggleable__control sk-hidden--visually\" id=\"sk-estimator-id-24\" type=\"checkbox\" checked><label for=\"sk-estimator-id-24\" class=\"sk-toggleable__label sk-toggleable__label-arrow\">LinearRegression</label><div class=\"sk-toggleable__content\"><pre>LinearRegression()</pre></div></div></div></div></div>"
      ],
      "text/plain": [
       "LinearRegression()"
      ]
     },
     "execution_count": 668,
     "metadata": {},
     "output_type": "execute_result"
    }
   ],
   "source": [
    "house_lm = LinearRegression()\n",
    "house_lm.fit(house[predictors], house[outcome])"
   ]
  },
  {
   "cell_type": "code",
   "execution_count": 669,
   "metadata": {},
   "outputs": [
    {
     "name": "stdout",
     "output_type": "stream",
     "text": [
      "Intercept: -521871.368\n",
      "\n"
     ]
    },
    {
     "data": {
      "text/html": [
       "<div>\n",
       "<style scoped>\n",
       "    .dataframe tbody tr th:only-of-type {\n",
       "        vertical-align: middle;\n",
       "    }\n",
       "\n",
       "    .dataframe tbody tr th {\n",
       "        vertical-align: top;\n",
       "    }\n",
       "\n",
       "    .dataframe thead th {\n",
       "        text-align: right;\n",
       "    }\n",
       "</style>\n",
       "<table border=\"1\" class=\"dataframe\">\n",
       "  <thead>\n",
       "    <tr style=\"text-align: right;\">\n",
       "      <th></th>\n",
       "      <th>Coefficients</th>\n",
       "    </tr>\n",
       "  </thead>\n",
       "  <tbody>\n",
       "    <tr>\n",
       "      <th>SqFtTotLiving</th>\n",
       "      <td>228.830604</td>\n",
       "    </tr>\n",
       "    <tr>\n",
       "      <th>SqFtLot</th>\n",
       "      <td>-0.060467</td>\n",
       "    </tr>\n",
       "    <tr>\n",
       "      <th>Bathrooms</th>\n",
       "      <td>-19442.840398</td>\n",
       "    </tr>\n",
       "    <tr>\n",
       "      <th>Bedrooms</th>\n",
       "      <td>-47769.955185</td>\n",
       "    </tr>\n",
       "    <tr>\n",
       "      <th>BldgGrade</th>\n",
       "      <td>106106.963079</td>\n",
       "    </tr>\n",
       "  </tbody>\n",
       "</table>\n",
       "</div>"
      ],
      "text/plain": [
       "                Coefficients\n",
       "SqFtTotLiving     228.830604\n",
       "SqFtLot            -0.060467\n",
       "Bathrooms      -19442.840398\n",
       "Bedrooms       -47769.955185\n",
       "BldgGrade      106106.963079"
      ]
     },
     "execution_count": 669,
     "metadata": {},
     "output_type": "execute_result"
    }
   ],
   "source": [
    "print(f\"Intercept: {house_lm.intercept_:.3f}\\n\")\n",
    "coefs = pd.DataFrame({'Coefficients':house_lm.coef_}, index=predictors)\n",
    "coefs"
   ]
  },
  {
   "cell_type": "markdown",
   "metadata": {},
   "source": [
    "The interpretation of the coefficients is as with simple linear regression: the predicted value $\\bar Y$ changes by the coefficient $b_j$ for each unit change in $X_j$ assuming all the other variables, X_k for k $\\neq$ j, remain the same. For example, adding an extra finished square foot to a house increases increases the estimated value by roughly $229 with all other variables remaning the same."
   ]
  },
  {
   "cell_type": "markdown",
   "metadata": {},
   "source": [
    "<b><h4>Assessing the Model</h4></b>\n",
    "\n",
    "The most important performane metric from a data science perspective is root mean squared error or RMSE. RMSE is the square root of the average squared error in the predicted $\\hat y_i$ values:\n",
    "\n",
    "$RMSE$ = $\\sqrt{\\frac{\\sum_{i=1}^n(y_i - \\hat y_i)^2}{n}}$\n",
    "\n",
    "This measures the overall accuracy of the model and is a basis for comparing it to other models (including models fit using machine learning techniques). \n",
    "\n",
    "Similar to RMSE is the residual standard error, or RSE. In this case we have p predictors, and the RSE is given by:\n",
    "\n",
    "$RSE$ = $\\sqrt {\\frac{\\sum_{i=1}^n(y_i - \\hat  y_i)}{(n-p-1)}}$\n",
    "\n",
    "The only difference is that the denominator is the degrees of fredom, as opposed to the number of records. In practice, for linear regression, the difference between RMSE and RSE is very small, particularly for big data applications.\n",
    "\n",
    "scikit-learn provides a number of metrics for regression and classification. Here, we use mean_squared error to get RMSE and r2_score for the coefficent of determination."
   ]
  },
  {
   "cell_type": "code",
   "execution_count": 670,
   "metadata": {},
   "outputs": [
    {
     "name": "stdout",
     "output_type": "stream",
     "text": [
      "RMSE: 261220\n",
      "r2 : 0.5406\n"
     ]
    }
   ],
   "source": [
    "fitted = house_lm.predict(house[predictors])\n",
    "RMSE = np.sqrt(mean_squared_error(house[outcome], fitted))\n",
    "r2 = r2_score(house[outcome], fitted)\n",
    "print(f\"RMSE: {RMSE :.0f}\")\n",
    "print(f\"r2 : {r2:.4f}\")"
   ]
  },
  {
   "cell_type": "markdown",
   "metadata": {},
   "source": [
    "statsmodels provides a more detailed analysis of the regression model in Python. As statsmodels doesn't add an intercept automatically, we need to add a constant column with value 1 to the predictors. We use the pandas assign() method for this. This method is used to assign new columns to a DataFrame, returning a new object with all original columns in addition to new ones."
   ]
  },
  {
   "cell_type": "code",
   "execution_count": 671,
   "metadata": {},
   "outputs": [
    {
     "data": {
      "text/html": [
       "<table class=\"simpletable\">\n",
       "<caption>OLS Regression Results</caption>\n",
       "<tr>\n",
       "  <th>Dep. Variable:</th>      <td>AdjSalePrice</td>   <th>  R-squared:         </th>  <td>   0.541</td>  \n",
       "</tr>\n",
       "<tr>\n",
       "  <th>Model:</th>                   <td>OLS</td>       <th>  Adj. R-squared:    </th>  <td>   0.540</td>  \n",
       "</tr>\n",
       "<tr>\n",
       "  <th>Method:</th>             <td>Least Squares</td>  <th>  F-statistic:       </th>  <td>   5338.</td>  \n",
       "</tr>\n",
       "<tr>\n",
       "  <th>Date:</th>             <td>Tue, 19 Sep 2023</td> <th>  Prob (F-statistic):</th>   <td>  0.00</td>   \n",
       "</tr>\n",
       "<tr>\n",
       "  <th>Time:</th>                 <td>11:47:05</td>     <th>  Log-Likelihood:    </th> <td>-3.1517e+05</td>\n",
       "</tr>\n",
       "<tr>\n",
       "  <th>No. Observations:</th>      <td> 22687</td>      <th>  AIC:               </th>  <td>6.304e+05</td> \n",
       "</tr>\n",
       "<tr>\n",
       "  <th>Df Residuals:</th>          <td> 22681</td>      <th>  BIC:               </th>  <td>6.304e+05</td> \n",
       "</tr>\n",
       "<tr>\n",
       "  <th>Df Model:</th>              <td>     5</td>      <th>                     </th>      <td> </td>     \n",
       "</tr>\n",
       "<tr>\n",
       "  <th>Covariance Type:</th>      <td>nonrobust</td>    <th>                     </th>      <td> </td>     \n",
       "</tr>\n",
       "</table>\n",
       "<table class=\"simpletable\">\n",
       "<tr>\n",
       "        <td></td>           <th>coef</th>     <th>std err</th>      <th>t</th>      <th>P>|t|</th>  <th>[0.025</th>    <th>0.975]</th>  \n",
       "</tr>\n",
       "<tr>\n",
       "  <th>SqFtTotLiving</th> <td>  228.8306</td> <td>    3.899</td> <td>   58.694</td> <td> 0.000</td> <td>  221.189</td> <td>  236.472</td>\n",
       "</tr>\n",
       "<tr>\n",
       "  <th>SqFtLot</th>       <td>   -0.0605</td> <td>    0.061</td> <td>   -0.988</td> <td> 0.323</td> <td>   -0.180</td> <td>    0.059</td>\n",
       "</tr>\n",
       "<tr>\n",
       "  <th>Bathrooms</th>     <td>-1.944e+04</td> <td> 3625.388</td> <td>   -5.363</td> <td> 0.000</td> <td>-2.65e+04</td> <td>-1.23e+04</td>\n",
       "</tr>\n",
       "<tr>\n",
       "  <th>Bedrooms</th>      <td>-4.777e+04</td> <td> 2489.732</td> <td>  -19.187</td> <td> 0.000</td> <td>-5.27e+04</td> <td>-4.29e+04</td>\n",
       "</tr>\n",
       "<tr>\n",
       "  <th>BldgGrade</th>     <td> 1.061e+05</td> <td> 2396.445</td> <td>   44.277</td> <td> 0.000</td> <td> 1.01e+05</td> <td> 1.11e+05</td>\n",
       "</tr>\n",
       "<tr>\n",
       "  <th>const</th>         <td>-5.219e+05</td> <td> 1.57e+04</td> <td>  -33.342</td> <td> 0.000</td> <td>-5.53e+05</td> <td>-4.91e+05</td>\n",
       "</tr>\n",
       "</table>\n",
       "<table class=\"simpletable\">\n",
       "<tr>\n",
       "  <th>Omnibus:</th>       <td>29676.557</td> <th>  Durbin-Watson:     </th>   <td>   1.247</td>  \n",
       "</tr>\n",
       "<tr>\n",
       "  <th>Prob(Omnibus):</th>  <td> 0.000</td>   <th>  Jarque-Bera (JB):  </th> <td>19390738.346</td>\n",
       "</tr>\n",
       "<tr>\n",
       "  <th>Skew:</th>           <td> 6.889</td>   <th>  Prob(JB):          </th>   <td>    0.00</td>  \n",
       "</tr>\n",
       "<tr>\n",
       "  <th>Kurtosis:</th>       <td>145.559</td>  <th>  Cond. No.          </th>   <td>2.86e+05</td>  \n",
       "</tr>\n",
       "</table><br/><br/>Notes:<br/>[1] Standard Errors assume that the covariance matrix of the errors is correctly specified.<br/>[2] The condition number is large, 2.86e+05. This might indicate that there are<br/>strong multicollinearity or other numerical problems."
      ],
      "text/plain": [
       "<class 'statsmodels.iolib.summary.Summary'>\n",
       "\"\"\"\n",
       "                            OLS Regression Results                            \n",
       "==============================================================================\n",
       "Dep. Variable:           AdjSalePrice   R-squared:                       0.541\n",
       "Model:                            OLS   Adj. R-squared:                  0.540\n",
       "Method:                 Least Squares   F-statistic:                     5338.\n",
       "Date:                Tue, 19 Sep 2023   Prob (F-statistic):               0.00\n",
       "Time:                        11:47:05   Log-Likelihood:            -3.1517e+05\n",
       "No. Observations:               22687   AIC:                         6.304e+05\n",
       "Df Residuals:                   22681   BIC:                         6.304e+05\n",
       "Df Model:                           5                                         \n",
       "Covariance Type:            nonrobust                                         \n",
       "=================================================================================\n",
       "                    coef    std err          t      P>|t|      [0.025      0.975]\n",
       "---------------------------------------------------------------------------------\n",
       "SqFtTotLiving   228.8306      3.899     58.694      0.000     221.189     236.472\n",
       "SqFtLot          -0.0605      0.061     -0.988      0.323      -0.180       0.059\n",
       "Bathrooms     -1.944e+04   3625.388     -5.363      0.000   -2.65e+04   -1.23e+04\n",
       "Bedrooms      -4.777e+04   2489.732    -19.187      0.000   -5.27e+04   -4.29e+04\n",
       "BldgGrade      1.061e+05   2396.445     44.277      0.000    1.01e+05    1.11e+05\n",
       "const         -5.219e+05   1.57e+04    -33.342      0.000   -5.53e+05   -4.91e+05\n",
       "==============================================================================\n",
       "Omnibus:                    29676.557   Durbin-Watson:                   1.247\n",
       "Prob(Omnibus):                  0.000   Jarque-Bera (JB):         19390738.346\n",
       "Skew:                           6.889   Prob(JB):                         0.00\n",
       "Kurtosis:                     145.559   Cond. No.                     2.86e+05\n",
       "==============================================================================\n",
       "\n",
       "Notes:\n",
       "[1] Standard Errors assume that the covariance matrix of the errors is correctly specified.\n",
       "[2] The condition number is large, 2.86e+05. This might indicate that there are\n",
       "strong multicollinearity or other numerical problems.\n",
       "\"\"\""
      ]
     },
     "execution_count": 671,
     "metadata": {},
     "output_type": "execute_result"
    }
   ],
   "source": [
    "model = sm.OLS(house[outcome], house[predictors].assign(const=1)) # note endogenous(endog) = y, exogenous(exog) = x\n",
    "results = model.fit()\n",
    "results.summary()"
   ]
  },
  {
   "cell_type": "markdown",
   "metadata": {},
   "source": [
    "Another useful metricis the coefficient of determination, also called the R-squared statistic or $R^2$.<b> R-squared ranges from 0 to 1 and measures the proportion of variation in the data that is accounted for in the model</b>. It is useful mainly in explanatary uses of regression where you want to assess how well the model fits the data. The formula for $R^2$ is:\n",
    "\n",
    "$R^2$ = 1 - $\\frac{\\sum_{i=1}^n(y_i - \\bar y_i)^2}{\\sum_{i=1}^n(y_i - \\bar y)^2}$"
   ]
  },
  {
   "cell_type": "markdown",
   "metadata": {},
   "source": [
    "The denominator is proportional to the variance of $Y$ given that it is the squared deviation. The numerator is the squared error. The output from statsmodels also reports an adjusted R-squared, which adjusts for the degrees of freedom, effectively penalizing the addition of more predictors to a model. Seldom is this significantly different from R-squared in multiple regression with large data sets.\n",
    "\n",
    "Along with the estimated coefficients, statsmodels report the standard error of the coefficients (SE) and a t-statistic:\n",
    "\n",
    "$t_b$ = $\\frac{\\hat b}{SE(\\hat b)}$\n",
    "\n",
    "The t-statistic  - and its mirror image, the p-value - measures the extent to which a coefficient is \"statistically significant\" - that is, outside the range of what a random chance arrangement of predictor and target variable might produce. The higher the t-statistic (and the lower the p-value), the more significant the predictor. Sine parsimony is a valuable model feature, it is useful to have a tool like this to guide choice of variables to include as predictors."
   ]
  },
  {
   "cell_type": "markdown",
   "metadata": {},
   "source": [
    "<b><h4>Cross-Validation</h4></b>\n",
    "\n",
    "Classic statistical regression metrics ($R^2$, F-statistics, and p-values) are all \"in-sample\" metrics - they are applied to the same data that was used to fit the model. Intuitively, you can see that it would make a lot of sense to set aside some of the original data, not use it to fit the model, and then apply the model to the set-aside (holdout) data to see how well it does. Normally, you would use a majority of the data to fit the model and use a smaller portion to test the model.\n",
    "\n",
    "This idea of \"out-of-sample\" validation is not new, but it did not really take hold until larger data sets became more prevalent; with a small data set, analysts typically want to use all the data and fit the best possible model.\n",
    "\n",
    "Using a holdout sample, though, leaves you subject to some uncertainty that arises simply from variability in the small holdout sample. How different would the assessment be if you selected a different holdout sample?\n",
    "\n",
    "Cross-validation extends the idea of a holdout sample to multiple sequential holdout samples. The algorithm for basic k-fold cross-validation is as follows:\n",
    "1. Set aside 1/k of the data as a holdout sample.\n",
    "2. Train the model on the remaining data.\n",
    "3. Apply (score) the model to the 1/k holdout, and record needed model assessment metrics.\n",
    "4. Restore the first 1/k of the data, and set aside the next 1/k (excluding any records that got picked the first time).\n",
    "5. Repeat steps 2 and 3.\n",
    "6. Repeat until each record has been used in the holdout portion.\n",
    "7. Average or otherwise combine the model assessment metrics.\n",
    "\n",
    "The division of the data into the training sample and the holdout smaple is also called a fold."
   ]
  },
  {
   "cell_type": "markdown",
   "metadata": {},
   "source": [
    "<b><h4>Model Selection and Stepwise Regression</h4></b>\n",
    "\n",
    "In some problems, many variables could be used as predictors in a regression. For example, to predict house value, additional variables such as the basement size or year built could be used.  In Python, we need to convert the categorical and boolean variables into numbers using pandas.get_dummies() ie one-hot encoding , we set drop_first=True to avoid multicollinearity. This function will detect all the categorical columns and convert them to appropriate dummies. In the example below PropertyType is originally categorical and is converted to PropertyType_Single Family and PropertyType_Townhouse dummy variables, dropping PropertyType_Multiplex, the first unique PropertyType value. pandas.get_dummies() doesnt convert boolean columns so we have to manually convert those, for example the NewConstruction column below."
   ]
  },
  {
   "cell_type": "code",
   "execution_count": 672,
   "metadata": {},
   "outputs": [
    {
     "data": {
      "text/plain": [
       "(22687, 12)"
      ]
     },
     "execution_count": 672,
     "metadata": {},
     "output_type": "execute_result"
    }
   ],
   "source": [
    "predictors = ['SqFtTotLiving', 'SqFtLot', 'Bathrooms', 'Bedrooms',\n",
    "              'BldgGrade', 'PropertyType', 'NbrLivingUnits',\n",
    "              'SqFtFinBasement', 'YrBuilt', 'YrRenovated', \n",
    "              'NewConstruction']\n",
    "\n",
    "X = pd.get_dummies(house[predictors], drop_first=True)\n",
    "X.shape"
   ]
  },
  {
   "cell_type": "code",
   "execution_count": 673,
   "metadata": {},
   "outputs": [
    {
     "data": {
      "text/plain": [
       "Index(['SqFtTotLiving', 'SqFtLot', 'Bathrooms', 'Bedrooms', 'BldgGrade',\n",
       "       'NbrLivingUnits', 'SqFtFinBasement', 'YrBuilt', 'YrRenovated',\n",
       "       'NewConstruction', 'PropertyType_Single Family',\n",
       "       'PropertyType_Townhouse'],\n",
       "      dtype='object')"
      ]
     },
     "execution_count": 673,
     "metadata": {},
     "output_type": "execute_result"
    }
   ],
   "source": [
    "X.columns"
   ]
  },
  {
   "cell_type": "code",
   "execution_count": 674,
   "metadata": {},
   "outputs": [
    {
     "data": {
      "text/plain": [
       "array(['Multiplex', 'Single Family', 'Townhouse'], dtype=object)"
      ]
     },
     "execution_count": 674,
     "metadata": {},
     "output_type": "execute_result"
    }
   ],
   "source": [
    "house.PropertyType.unique()"
   ]
  },
  {
   "cell_type": "code",
   "execution_count": 675,
   "metadata": {},
   "outputs": [],
   "source": [
    "X['NewConstruction'] = [1 if nc else 0 for nc in X['NewConstruction']]"
   ]
  },
  {
   "cell_type": "code",
   "execution_count": 676,
   "metadata": {},
   "outputs": [
    {
     "data": {
      "text/html": [
       "<table class=\"simpletable\">\n",
       "<caption>OLS Regression Results</caption>\n",
       "<tr>\n",
       "  <th>Dep. Variable:</th>      <td>AdjSalePrice</td>   <th>  R-squared:         </th>  <td>   0.595</td>  \n",
       "</tr>\n",
       "<tr>\n",
       "  <th>Model:</th>                   <td>OLS</td>       <th>  Adj. R-squared:    </th>  <td>   0.594</td>  \n",
       "</tr>\n",
       "<tr>\n",
       "  <th>Method:</th>             <td>Least Squares</td>  <th>  F-statistic:       </th>  <td>   2771.</td>  \n",
       "</tr>\n",
       "<tr>\n",
       "  <th>Date:</th>             <td>Tue, 19 Sep 2023</td> <th>  Prob (F-statistic):</th>   <td>  0.00</td>   \n",
       "</tr>\n",
       "<tr>\n",
       "  <th>Time:</th>                 <td>11:47:05</td>     <th>  Log-Likelihood:    </th> <td>-3.1375e+05</td>\n",
       "</tr>\n",
       "<tr>\n",
       "  <th>No. Observations:</th>      <td> 22687</td>      <th>  AIC:               </th>  <td>6.275e+05</td> \n",
       "</tr>\n",
       "<tr>\n",
       "  <th>Df Residuals:</th>          <td> 22674</td>      <th>  BIC:               </th>  <td>6.276e+05</td> \n",
       "</tr>\n",
       "<tr>\n",
       "  <th>Df Model:</th>              <td>    12</td>      <th>                     </th>      <td> </td>     \n",
       "</tr>\n",
       "<tr>\n",
       "  <th>Covariance Type:</th>      <td>nonrobust</td>    <th>                     </th>      <td> </td>     \n",
       "</tr>\n",
       "</table>\n",
       "<table class=\"simpletable\">\n",
       "<tr>\n",
       "               <td></td>                 <th>coef</th>     <th>std err</th>      <th>t</th>      <th>P>|t|</th>  <th>[0.025</th>    <th>0.975]</th>  \n",
       "</tr>\n",
       "<tr>\n",
       "  <th>SqFtTotLiving</th>              <td>  198.6364</td> <td>    4.234</td> <td>   46.920</td> <td> 0.000</td> <td>  190.338</td> <td>  206.934</td>\n",
       "</tr>\n",
       "<tr>\n",
       "  <th>SqFtLot</th>                    <td>    0.0771</td> <td>    0.058</td> <td>    1.330</td> <td> 0.184</td> <td>   -0.037</td> <td>    0.191</td>\n",
       "</tr>\n",
       "<tr>\n",
       "  <th>Bathrooms</th>                  <td> 4.286e+04</td> <td> 3808.114</td> <td>   11.255</td> <td> 0.000</td> <td> 3.54e+04</td> <td> 5.03e+04</td>\n",
       "</tr>\n",
       "<tr>\n",
       "  <th>Bedrooms</th>                   <td>-5.187e+04</td> <td> 2396.904</td> <td>  -21.638</td> <td> 0.000</td> <td>-5.66e+04</td> <td>-4.72e+04</td>\n",
       "</tr>\n",
       "<tr>\n",
       "  <th>BldgGrade</th>                  <td> 1.373e+05</td> <td> 2441.242</td> <td>   56.228</td> <td> 0.000</td> <td> 1.32e+05</td> <td> 1.42e+05</td>\n",
       "</tr>\n",
       "<tr>\n",
       "  <th>NbrLivingUnits</th>             <td> 5723.8438</td> <td> 1.76e+04</td> <td>    0.326</td> <td> 0.744</td> <td>-2.87e+04</td> <td> 4.01e+04</td>\n",
       "</tr>\n",
       "<tr>\n",
       "  <th>SqFtFinBasement</th>            <td>    7.0611</td> <td>    4.627</td> <td>    1.526</td> <td> 0.127</td> <td>   -2.009</td> <td>   16.131</td>\n",
       "</tr>\n",
       "<tr>\n",
       "  <th>YrBuilt</th>                    <td>-3574.2210</td> <td>   77.228</td> <td>  -46.282</td> <td> 0.000</td> <td>-3725.593</td> <td>-3422.849</td>\n",
       "</tr>\n",
       "<tr>\n",
       "  <th>YrRenovated</th>                <td>   -2.5311</td> <td>    3.924</td> <td>   -0.645</td> <td> 0.519</td> <td>  -10.222</td> <td>    5.160</td>\n",
       "</tr>\n",
       "<tr>\n",
       "  <th>NewConstruction</th>            <td>-2489.1122</td> <td> 5936.692</td> <td>   -0.419</td> <td> 0.675</td> <td>-1.41e+04</td> <td> 9147.211</td>\n",
       "</tr>\n",
       "<tr>\n",
       "  <th>PropertyType_Single Family</th> <td> 2.997e+04</td> <td> 2.61e+04</td> <td>    1.149</td> <td> 0.251</td> <td>-2.12e+04</td> <td> 8.11e+04</td>\n",
       "</tr>\n",
       "<tr>\n",
       "  <th>PropertyType_Townhouse</th>     <td> 9.286e+04</td> <td>  2.7e+04</td> <td>    3.438</td> <td> 0.001</td> <td> 3.99e+04</td> <td> 1.46e+05</td>\n",
       "</tr>\n",
       "<tr>\n",
       "  <th>const</th>                      <td> 6.182e+06</td> <td> 1.55e+05</td> <td>   39.902</td> <td> 0.000</td> <td> 5.88e+06</td> <td> 6.49e+06</td>\n",
       "</tr>\n",
       "</table>\n",
       "<table class=\"simpletable\">\n",
       "<tr>\n",
       "  <th>Omnibus:</th>       <td>31006.128</td> <th>  Durbin-Watson:     </th>   <td>   1.393</td>  \n",
       "</tr>\n",
       "<tr>\n",
       "  <th>Prob(Omnibus):</th>  <td> 0.000</td>   <th>  Jarque-Bera (JB):  </th> <td>26251977.078</td>\n",
       "</tr>\n",
       "<tr>\n",
       "  <th>Skew:</th>           <td> 7.427</td>   <th>  Prob(JB):          </th>   <td>    0.00</td>  \n",
       "</tr>\n",
       "<tr>\n",
       "  <th>Kurtosis:</th>       <td>168.984</td>  <th>  Cond. No.          </th>   <td>2.98e+06</td>  \n",
       "</tr>\n",
       "</table><br/><br/>Notes:<br/>[1] Standard Errors assume that the covariance matrix of the errors is correctly specified.<br/>[2] The condition number is large, 2.98e+06. This might indicate that there are<br/>strong multicollinearity or other numerical problems."
      ],
      "text/plain": [
       "<class 'statsmodels.iolib.summary.Summary'>\n",
       "\"\"\"\n",
       "                            OLS Regression Results                            \n",
       "==============================================================================\n",
       "Dep. Variable:           AdjSalePrice   R-squared:                       0.595\n",
       "Model:                            OLS   Adj. R-squared:                  0.594\n",
       "Method:                 Least Squares   F-statistic:                     2771.\n",
       "Date:                Tue, 19 Sep 2023   Prob (F-statistic):               0.00\n",
       "Time:                        11:47:05   Log-Likelihood:            -3.1375e+05\n",
       "No. Observations:               22687   AIC:                         6.275e+05\n",
       "Df Residuals:                   22674   BIC:                         6.276e+05\n",
       "Df Model:                          12                                         \n",
       "Covariance Type:            nonrobust                                         \n",
       "==============================================================================================\n",
       "                                 coef    std err          t      P>|t|      [0.025      0.975]\n",
       "----------------------------------------------------------------------------------------------\n",
       "SqFtTotLiving                198.6364      4.234     46.920      0.000     190.338     206.934\n",
       "SqFtLot                        0.0771      0.058      1.330      0.184      -0.037       0.191\n",
       "Bathrooms                   4.286e+04   3808.114     11.255      0.000    3.54e+04    5.03e+04\n",
       "Bedrooms                   -5.187e+04   2396.904    -21.638      0.000   -5.66e+04   -4.72e+04\n",
       "BldgGrade                   1.373e+05   2441.242     56.228      0.000    1.32e+05    1.42e+05\n",
       "NbrLivingUnits              5723.8438   1.76e+04      0.326      0.744   -2.87e+04    4.01e+04\n",
       "SqFtFinBasement                7.0611      4.627      1.526      0.127      -2.009      16.131\n",
       "YrBuilt                    -3574.2210     77.228    -46.282      0.000   -3725.593   -3422.849\n",
       "YrRenovated                   -2.5311      3.924     -0.645      0.519     -10.222       5.160\n",
       "NewConstruction            -2489.1122   5936.692     -0.419      0.675   -1.41e+04    9147.211\n",
       "PropertyType_Single Family  2.997e+04   2.61e+04      1.149      0.251   -2.12e+04    8.11e+04\n",
       "PropertyType_Townhouse      9.286e+04    2.7e+04      3.438      0.001    3.99e+04    1.46e+05\n",
       "const                       6.182e+06   1.55e+05     39.902      0.000    5.88e+06    6.49e+06\n",
       "==============================================================================\n",
       "Omnibus:                    31006.128   Durbin-Watson:                   1.393\n",
       "Prob(Omnibus):                  0.000   Jarque-Bera (JB):         26251977.078\n",
       "Skew:                           7.427   Prob(JB):                         0.00\n",
       "Kurtosis:                     168.984   Cond. No.                     2.98e+06\n",
       "==============================================================================\n",
       "\n",
       "Notes:\n",
       "[1] Standard Errors assume that the covariance matrix of the errors is correctly specified.\n",
       "[2] The condition number is large, 2.98e+06. This might indicate that there are\n",
       "strong multicollinearity or other numerical problems.\n",
       "\"\"\""
      ]
     },
     "execution_count": 676,
     "metadata": {},
     "output_type": "execute_result"
    }
   ],
   "source": [
    "house_full = sm.OLS(house[outcome], X.assign(const=1))\n",
    "results = house_full.fit()\n",
    "results.summary()"
   ]
  },
  {
   "cell_type": "markdown",
   "metadata": {},
   "source": [
    "Adding more variables, however, does not necessarily mean we have a better model. Statisticians use the principle of Occam's razor to guide the choice of a model: all things being equal a simpler model should be used in preference to a more complicated model. Including additional variables always reduces RMSE and increases $R^2$ for the training data. Hence, these are not appropriate to help guide the model choice. One approach to including model complexity is to use the adjusted $R^2$:\n",
    "\n",
    "$R^2_{adj} \\;=\\; 1 \\;-\\; (1 \\;-\\; R^2)\\frac{n-1}{n-P-1}$\n",
    "\n",
    "where n is the number of recores and P is the number of variables in the model.\n",
    "\n",
    "Akaike's Information Criteria (AIC) is a metric that penalizes adding terms to a model. In the case of regression, AIC has the form:\n",
    "\n",
    "$AIC\\;=\\;2P\\;+\\;nlog(RSS/n)$\n",
    "\n",
    "where P is the number of variables and n is the number of records. The goal is to find the model that minimizes AIC; models with k more extra variables are penalized by 2k.\n",
    "\n",
    "How do we find the model that minimizes $AIC$ or maximizes adjusted $R^2$? One way is to search through all possible models, an approach call <em>all subset regression</em>. This is computationally expensive and is not feasible for problems with large data and many variables. An attractive alternative is to use <em>stepwise regression</em>. It could start with a full model and successively drop variables that don't contribute meaningfully. This is called <em>backward elimination</em>. Alternatively oone could start with a constant model and successively add variables (<em>forward selection</em>). As a third option we can also successively add and drop predictors to find a model that lowers AIC or adjusted %R^2$. The python package $dmba$ can be used for implementing stepwise regression with AIC as follows:\n",
    "1. Define a function that returns a fitted model for a given set of variables. \n",
    "2. Define a function that returns a fitted model for a given set of variables. In this case, we use the AIC_score implemented in the dmba package.\n",
    "\n",
    "For the example below, the function chose a model in which several variables were dropped house_full: SqFtLot, NbrLivingUnits, YrRenovated, and NewConstruction."
   ]
  },
  {
   "cell_type": "code",
   "execution_count": 677,
   "metadata": {},
   "outputs": [
    {
     "name": "stdout",
     "output_type": "stream",
     "text": [
      "Variables: SqFtTotLiving, SqFtLot, Bathrooms, Bedrooms, BldgGrade, NbrLivingUnits, SqFtFinBasement, YrBuilt, YrRenovated, NewConstruction, PropertyType_Single Family, PropertyType_Townhouse\n",
      "Start: score=647988.32, constant\n",
      "Step: score=633013.35, add SqFtTotLiving\n",
      "Step: score=630793.74, add BldgGrade\n",
      "Step: score=628230.29, add YrBuilt\n"
     ]
    },
    {
     "name": "stdout",
     "output_type": "stream",
     "text": [
      "Step: score=627784.16, add Bedrooms\n",
      "Step: score=627602.21, add Bathrooms\n",
      "Step: score=627525.65, add PropertyType_Townhouse\n",
      "Step: score=627525.08, add SqFtFinBasement\n",
      "Step: score=627524.98, add PropertyType_Single Family\n",
      "Step: score=627524.98, unchanged None\n",
      "Intercept: 6178645.017033\n",
      "Coefficients:\n",
      "  SqFtTotLiving:  199.27755304201781\n",
      "  BldgGrade:  137159.56022619802\n",
      "  YrBuilt:  -3565.424939249281\n",
      "  Bedrooms:  -51947.38367361341\n",
      "  Bathrooms:  42396.16452771811\n",
      "  PropertyType_Townhouse:  84479.16203300335\n",
      "  SqFtFinBasement:  7.046974967583083\n",
      "  PropertyType_Single Family:  22912.055187017646\n"
     ]
    }
   ],
   "source": [
    "y = house[outcome]\n",
    "\n",
    "def train_model(variables):\n",
    "    if len(variables) == 0:\n",
    "        return None\n",
    "    model = LinearRegression()\n",
    "    model.fit(X[variables], y)\n",
    "    return model\n",
    "\n",
    "def score_model(model, variables):\n",
    "    if len(variables) == 0:\n",
    "        return AIC_score(y,[y.mean()]*len(y), model, df=1)\n",
    "    return AIC_score(y, model.predict(X[variables]), model)\n",
    "\n",
    "best_model, best_variables = stepwise_selection(X.columns, train_model, score_model, verbose=True)\n",
    "\n",
    "print(f\"Intercept: {best_model.intercept_:3f}\")\n",
    "print('Coefficients:')\n",
    "for name, coef in zip(best_variables, best_model.coef_):\n",
    "    print(f\"  {name}:  {coef}\")"
   ]
  },
  {
   "cell_type": "markdown",
   "metadata": {},
   "source": [
    "Simpler yet are <em>forward selection</em> and backward selection. In forward selection, you start with no predictors and add them one by one, at each step adding the predictor aht has the largest contribution to $R^2$ and stopping when the contribution is no longer statistically significant. In backward selection, or backward elimination, you start with a full model and take away predictors that are not statistically significant unitl you are left with a model in which all predictors are statistically significant.\n",
    "\n",
    "Penalized regression is similar in spirit to AIC. Instead of explicitly searching through a discrete set of models, the model-fitting equation incorporates a constraint that penalizes the model for too many variables (parameters). Rather than eliminating predictor variables entirely - as with stepwise, forward and backward selection - penalized regression applies the penalty by reducing coefficients, in some cases to near zero. Common penalized regression methods are <em>ridge regression and lasso regression</em>.\n",
    "\n",
    "Stepwise regression and all subset regression are <em>in-sample</em> methods to assess and tune models. This means the model selection is possibly subject to overfitting (fitting the noise in the data) and may not perform as well when applied to new data. One common approach to avoid this is to use cross-validation to validate the models. In linear regression, overfitting is typically not a major issue, due t the simple (linear) global structure imposed on the data. For more sophisticated types of models, particularly iterative procedures that respond to local data structure, cross-validation is a very important tool."
   ]
  },
  {
   "cell_type": "markdown",
   "metadata": {},
   "source": [
    "<b><h4>Weighted Regression</h4></b>\n",
    "\n",
    "Weighted regression is used by statisticians for a variety of purposes; in particular, it is important for analysis of complex surveys. Data scientists may find weighted regression useful in two cases:\n",
    "- Inverse-variance weightting when different observations have been measured with different precision; the higher variance one receiving lower weights.\n",
    "- Analysis of data where rows represents multiple cases; the weight variable encodes how many original observations each row represents.\n",
    "\n",
    "For example, with the housing data, older sales are less reliable than more recent sales. Using the DocumentDate to determine the year of the sale, we can compute a Weight as the number of years since 2005 (the beginning of the data). Most models in scikit-learn accept weights as the keyword argument sample_weight in th call of the fit() method."
   ]
  },
  {
   "cell_type": "code",
   "execution_count": 678,
   "metadata": {},
   "outputs": [],
   "source": [
    "house['Year'] = pd.to_datetime(house['DocumentDate']).dt.year"
   ]
  },
  {
   "cell_type": "code",
   "execution_count": 679,
   "metadata": {},
   "outputs": [],
   "source": [
    "house['Weight'] = house.Year - 2005"
   ]
  },
  {
   "cell_type": "code",
   "execution_count": 680,
   "metadata": {},
   "outputs": [],
   "source": [
    "predictors = ['SqFtTotLiving','SqFtLot','Bathrooms','Bedrooms','BldgGrade']"
   ]
  },
  {
   "cell_type": "code",
   "execution_count": 681,
   "metadata": {},
   "outputs": [
    {
     "data": {
      "text/html": [
       "<style>#sk-container-id-25 {color: black;background-color: white;}#sk-container-id-25 pre{padding: 0;}#sk-container-id-25 div.sk-toggleable {background-color: white;}#sk-container-id-25 label.sk-toggleable__label {cursor: pointer;display: block;width: 100%;margin-bottom: 0;padding: 0.3em;box-sizing: border-box;text-align: center;}#sk-container-id-25 label.sk-toggleable__label-arrow:before {content: \"▸\";float: left;margin-right: 0.25em;color: #696969;}#sk-container-id-25 label.sk-toggleable__label-arrow:hover:before {color: black;}#sk-container-id-25 div.sk-estimator:hover label.sk-toggleable__label-arrow:before {color: black;}#sk-container-id-25 div.sk-toggleable__content {max-height: 0;max-width: 0;overflow: hidden;text-align: left;background-color: #f0f8ff;}#sk-container-id-25 div.sk-toggleable__content pre {margin: 0.2em;color: black;border-radius: 0.25em;background-color: #f0f8ff;}#sk-container-id-25 input.sk-toggleable__control:checked~div.sk-toggleable__content {max-height: 200px;max-width: 100%;overflow: auto;}#sk-container-id-25 input.sk-toggleable__control:checked~label.sk-toggleable__label-arrow:before {content: \"▾\";}#sk-container-id-25 div.sk-estimator input.sk-toggleable__control:checked~label.sk-toggleable__label {background-color: #d4ebff;}#sk-container-id-25 div.sk-label input.sk-toggleable__control:checked~label.sk-toggleable__label {background-color: #d4ebff;}#sk-container-id-25 input.sk-hidden--visually {border: 0;clip: rect(1px 1px 1px 1px);clip: rect(1px, 1px, 1px, 1px);height: 1px;margin: -1px;overflow: hidden;padding: 0;position: absolute;width: 1px;}#sk-container-id-25 div.sk-estimator {font-family: monospace;background-color: #f0f8ff;border: 1px dotted black;border-radius: 0.25em;box-sizing: border-box;margin-bottom: 0.5em;}#sk-container-id-25 div.sk-estimator:hover {background-color: #d4ebff;}#sk-container-id-25 div.sk-parallel-item::after {content: \"\";width: 100%;border-bottom: 1px solid gray;flex-grow: 1;}#sk-container-id-25 div.sk-label:hover label.sk-toggleable__label {background-color: #d4ebff;}#sk-container-id-25 div.sk-serial::before {content: \"\";position: absolute;border-left: 1px solid gray;box-sizing: border-box;top: 0;bottom: 0;left: 50%;z-index: 0;}#sk-container-id-25 div.sk-serial {display: flex;flex-direction: column;align-items: center;background-color: white;padding-right: 0.2em;padding-left: 0.2em;position: relative;}#sk-container-id-25 div.sk-item {position: relative;z-index: 1;}#sk-container-id-25 div.sk-parallel {display: flex;align-items: stretch;justify-content: center;background-color: white;position: relative;}#sk-container-id-25 div.sk-item::before, #sk-container-id-25 div.sk-parallel-item::before {content: \"\";position: absolute;border-left: 1px solid gray;box-sizing: border-box;top: 0;bottom: 0;left: 50%;z-index: -1;}#sk-container-id-25 div.sk-parallel-item {display: flex;flex-direction: column;z-index: 1;position: relative;background-color: white;}#sk-container-id-25 div.sk-parallel-item:first-child::after {align-self: flex-end;width: 50%;}#sk-container-id-25 div.sk-parallel-item:last-child::after {align-self: flex-start;width: 50%;}#sk-container-id-25 div.sk-parallel-item:only-child::after {width: 0;}#sk-container-id-25 div.sk-dashed-wrapped {border: 1px dashed gray;margin: 0 0.4em 0.5em 0.4em;box-sizing: border-box;padding-bottom: 0.4em;background-color: white;}#sk-container-id-25 div.sk-label label {font-family: monospace;font-weight: bold;display: inline-block;line-height: 1.2em;}#sk-container-id-25 div.sk-label-container {text-align: center;}#sk-container-id-25 div.sk-container {/* jupyter's `normalize.less` sets `[hidden] { display: none; }` but bootstrap.min.css set `[hidden] { display: none !important; }` so we also need the `!important` here to be able to override the default hidden behavior on the sphinx rendered scikit-learn.org. See: https://github.com/scikit-learn/scikit-learn/issues/21755 */display: inline-block !important;position: relative;}#sk-container-id-25 div.sk-text-repr-fallback {display: none;}</style><div id=\"sk-container-id-25\" class=\"sk-top-container\"><div class=\"sk-text-repr-fallback\"><pre>LinearRegression()</pre><b>In a Jupyter environment, please rerun this cell to show the HTML representation or trust the notebook. <br />On GitHub, the HTML representation is unable to render, please try loading this page with nbviewer.org.</b></div><div class=\"sk-container\" hidden><div class=\"sk-item\"><div class=\"sk-estimator sk-toggleable\"><input class=\"sk-toggleable__control sk-hidden--visually\" id=\"sk-estimator-id-25\" type=\"checkbox\" checked><label for=\"sk-estimator-id-25\" class=\"sk-toggleable__label sk-toggleable__label-arrow\">LinearRegression</label><div class=\"sk-toggleable__content\"><pre>LinearRegression()</pre></div></div></div></div></div>"
      ],
      "text/plain": [
       "LinearRegression()"
      ]
     },
     "execution_count": 681,
     "metadata": {},
     "output_type": "execute_result"
    }
   ],
   "source": [
    "house_wt = LinearRegression()\n",
    "house_wt.fit(house[predictors], house[outcome], sample_weight=house.Weight)"
   ]
  },
  {
   "cell_type": "code",
   "execution_count": 682,
   "metadata": {},
   "outputs": [
    {
     "data": {
      "text/html": [
       "<div>\n",
       "<style scoped>\n",
       "    .dataframe tbody tr th:only-of-type {\n",
       "        vertical-align: middle;\n",
       "    }\n",
       "\n",
       "    .dataframe tbody tr th {\n",
       "        vertical-align: top;\n",
       "    }\n",
       "\n",
       "    .dataframe thead th {\n",
       "        text-align: right;\n",
       "    }\n",
       "</style>\n",
       "<table border=\"1\" class=\"dataframe\">\n",
       "  <thead>\n",
       "    <tr style=\"text-align: right;\">\n",
       "      <th></th>\n",
       "      <th>predictor</th>\n",
       "      <th>house_lm</th>\n",
       "      <th>house_wt</th>\n",
       "    </tr>\n",
       "  </thead>\n",
       "  <tbody>\n",
       "    <tr>\n",
       "      <th>0</th>\n",
       "      <td>SqFtTotLiving</td>\n",
       "      <td>228.830604</td>\n",
       "      <td>245.024089</td>\n",
       "    </tr>\n",
       "    <tr>\n",
       "      <th>1</th>\n",
       "      <td>SqFtLot</td>\n",
       "      <td>-0.060467</td>\n",
       "      <td>-0.292415</td>\n",
       "    </tr>\n",
       "    <tr>\n",
       "      <th>2</th>\n",
       "      <td>Bathrooms</td>\n",
       "      <td>-19442.840398</td>\n",
       "      <td>-26085.970109</td>\n",
       "    </tr>\n",
       "    <tr>\n",
       "      <th>3</th>\n",
       "      <td>Bedrooms</td>\n",
       "      <td>-47769.955185</td>\n",
       "      <td>-53608.876436</td>\n",
       "    </tr>\n",
       "    <tr>\n",
       "      <th>4</th>\n",
       "      <td>BldgGrade</td>\n",
       "      <td>106106.963079</td>\n",
       "      <td>115242.434726</td>\n",
       "    </tr>\n",
       "    <tr>\n",
       "      <th>0</th>\n",
       "      <td>intercept</td>\n",
       "      <td>-521871.368188</td>\n",
       "      <td>-584189.329446</td>\n",
       "    </tr>\n",
       "  </tbody>\n",
       "</table>\n",
       "</div>"
      ],
      "text/plain": [
       "       predictor       house_lm       house_wt\n",
       "0  SqFtTotLiving     228.830604     245.024089\n",
       "1        SqFtLot      -0.060467      -0.292415\n",
       "2      Bathrooms  -19442.840398  -26085.970109\n",
       "3       Bedrooms  -47769.955185  -53608.876436\n",
       "4      BldgGrade  106106.963079  115242.434726\n",
       "0      intercept -521871.368188 -584189.329446"
      ]
     },
     "execution_count": 682,
     "metadata": {},
     "output_type": "execute_result"
    }
   ],
   "source": [
    "pd.concat([\n",
    "pd.DataFrame({\n",
    "        'predictor':predictors,\n",
    "        'house_lm':house_lm.coef_, \n",
    "        'house_wt': house_wt.coef_}),\n",
    "pd.DataFrame({\n",
    "    'predictor' : ['intercept'],\n",
    "    'house_lm' : house_lm.intercept_,\n",
    "    'house_wt' : house_wt.intercept_\n",
    "})])\n",
    "        "
   ]
  },
  {
   "cell_type": "markdown",
   "metadata": {},
   "source": [
    "The intercept and coefficients in the weighted regression are slightly different from the original regression."
   ]
  },
  {
   "cell_type": "markdown",
   "metadata": {},
   "source": [
    "<b><h3>Prediction Using Regression</h3></b>\n",
    "\n",
    "The primary purpose of regression in data science is prediction. This is useful to keep in mind, since regression, being an old and established statistical method, comes wih baggage that is more relevant to its traditional role as a tool for explanatory modeling than to prediction."
   ]
  },
  {
   "cell_type": "markdown",
   "metadata": {},
   "source": [
    "<b><h4>The Dangers of Exrapolation</h4></b>\n",
    "\n",
    "Regression models should not be used to extrapolate beyond the range of the data (leaving aside the use of regression for time series forecasting). The model is valid only for predictor values for which the data has sufficient values. As an extreme case, suppose model_lm is used to predict the value of a 5,000 square-foot empty lot. In such a case, all the predictors related to the building would have a value of 0, and the regression equation would yield an absurd prediction of -521,900 + 5,000*-0.0605 = $-522,202. Why did this happen? The data contains only parcels with buildings= there are no records corresponding to a vacant land. Consequently, the model has no information to tell it how to predict the sales price of vacant land."
   ]
  },
  {
   "cell_type": "markdown",
   "metadata": {},
   "source": [
    "<b><h4>Confidence and Prediction Intervals</h4></b>\n",
    "\n",
    "Much of statistics involves understanding and measuring variablity (uncertainty). The t-statistics and p-values reported in regression output deal wit this in a formal way, which is sometimes useful for variable selection. More useful metrics are confidence intervals, which are uncertainty intervals placed around regression coefficients and predictions. An easy way to understand this is via the bootstrap. The most common regression intervals are those for regression parameters (coefficients). Here is a bootstrap algorithm for generating confidence intervals for regression parameters (coefficients) for a data set with P predictors and n records (rows):\n",
    "1. Consider each rows (including outcome variable) as a single \"ticket\" and place all the n tickets in a box.\n",
    "2. Draw a ticket at random, record the values, and replace it in the box.\n",
    "3. Repeat step 2 n times; you now have one bootstrap resample.\n",
    "4. Fit a regression to the bootstrap sample, and record the estimated coefficients.\n",
    "5. Repeat steps 2 through 4, say, 1,000 times.\n",
    "6. You now have 1,000 bootstrap values for each coefficient; find the appropriate percentiles for each (eg 5th and 95th for a 90% confidence interval).\n",
    "\n",
    "The conceptual meaning and interpretation are the same, and not of central importance to data scientists, because they concertn the regression coefficients. Of greater interest to data scientists are intervals around predicted y values ($\\bar Y_i$). The uncertainty around $\\bar Y_i$ comes from two sources:\n",
    "- Uncertainty about what the relevant predictor variables and their coefficients are\n",
    "- Additional eror inherent in individual data points\n",
    "\n",
    "The individual data point error can be thought of as follows: even if we knew for certain what the regression equation was (eg if we had a huge number of records to fit it), the actual outcome values for a given set of predictor values will vary. For example, several houses - each with 8 rooms, a 6,500-square-foot lot, 3 bathrooms, and a basement - might have different sale prices. We can model this individual error with the residuals from the fitted values. The bootstrap algorithm for modeling both the regression model error and the individual data point error would look as follows:\n",
    "1. Take a bootstrap sample from the data.\n",
    "2. Fit the regression, and predict the new value.\n",
    "3. Take a single residual at random from the original regression fit, add it to the predicted value, and record the result.\n",
    "4. Repeat stesp 1 through 3, say 1,000 times.\n",
    "5. Find the 2.5th and 97.5th percentiles of the results."
   ]
  },
  {
   "cell_type": "markdown",
   "metadata": {},
   "source": [
    "<b><h4>Prediction Interval or Confidence Interval</h4></b>\n",
    "\n",
    "A prediction interval pertains to uncertainty around a single value, while a confidence interval pertains to a mean or other statistic calculated from multiple values. Thus a prediction interval will typically be much wider than a confidence interval for the same value. We model this individual value error in the bootstrap model by selecting an individual residual to tack on to the predicted value. Since data scientists are interested in specific individual predictions, a prediction interval would be more appropriate. Using a confidence interval when you should be using a prediction interval will greatly underestimate the uncertainty in a given predicted value."
   ]
  },
  {
   "cell_type": "markdown",
   "metadata": {},
   "source": [
    "<b><h3>Factor Variables in Regression</h3></b>\n",
    "\n",
    "Factor variables, also termed categorical variables, take on a limited number of discrete values. For example, a loan purpose, can be \"debt consolidation\", \"wedding\", \"car\", and so on. The binary yes/no variable, also called an <em>indicator</em> variable, is a special case of a factor variable. Regression requires numerical inputs, so factor variables need to be recoded to use in the model. The most common approach is to convert a variable into a set of binary dummy variables."
   ]
  },
  {
   "cell_type": "markdown",
   "metadata": {},
   "source": [
    "<b><h4>Dummy Variables Representation</h4></b>\n",
    "\n",
    "In the King County housing data, there is a factor varaible for the property type. There are three possible values: Multiplex, Single Family, and Townhouse. To use this factor variable, we need to convert it to a set of binary variables. We do this by creating a binary variable for each possible value of the factor variable. \n",
    "\n",
    "In certain machine learning algorithms, such as nearest neighbors and tree models, one hot encoding is the standard way to represent factor variables. In the regression setting, a factor variable with P distinct levels is usually represented by a matrix with only P - 1 columns. This is because a regression model typically includes an intercept term. With an intercept, once you have defined the values for P - 1 binaries, the value for the Pth is known and could be considered redundant. Adding the Pth column will cause a multicollinearity error.\n",
    "\n",
    "In Python, we can convert categorical variables to dummies using the pandas method get_dummies(), which by default returns a one hot encoding of the categorical variable. The keyword argument drop_first will return P-1 columns, excluding the first factor as <em>reference</em>; use this to avoid multicollinearity."
   ]
  },
  {
   "cell_type": "code",
   "execution_count": 683,
   "metadata": {},
   "outputs": [
    {
     "data": {
      "text/plain": [
       "1        Multiplex\n",
       "2    Single Family\n",
       "3    Single Family\n",
       "4    Single Family\n",
       "5    Single Family\n",
       "Name: PropertyType, dtype: object"
      ]
     },
     "execution_count": 683,
     "metadata": {},
     "output_type": "execute_result"
    }
   ],
   "source": [
    "house.PropertyType.head()"
   ]
  },
  {
   "cell_type": "code",
   "execution_count": 684,
   "metadata": {},
   "outputs": [
    {
     "data": {
      "text/html": [
       "<div>\n",
       "<style scoped>\n",
       "    .dataframe tbody tr th:only-of-type {\n",
       "        vertical-align: middle;\n",
       "    }\n",
       "\n",
       "    .dataframe tbody tr th {\n",
       "        vertical-align: top;\n",
       "    }\n",
       "\n",
       "    .dataframe thead th {\n",
       "        text-align: right;\n",
       "    }\n",
       "</style>\n",
       "<table border=\"1\" class=\"dataframe\">\n",
       "  <thead>\n",
       "    <tr style=\"text-align: right;\">\n",
       "      <th></th>\n",
       "      <th>Multiplex</th>\n",
       "      <th>Single Family</th>\n",
       "      <th>Townhouse</th>\n",
       "    </tr>\n",
       "  </thead>\n",
       "  <tbody>\n",
       "    <tr>\n",
       "      <th>1</th>\n",
       "      <td>1</td>\n",
       "      <td>0</td>\n",
       "      <td>0</td>\n",
       "    </tr>\n",
       "    <tr>\n",
       "      <th>2</th>\n",
       "      <td>0</td>\n",
       "      <td>1</td>\n",
       "      <td>0</td>\n",
       "    </tr>\n",
       "    <tr>\n",
       "      <th>3</th>\n",
       "      <td>0</td>\n",
       "      <td>1</td>\n",
       "      <td>0</td>\n",
       "    </tr>\n",
       "    <tr>\n",
       "      <th>4</th>\n",
       "      <td>0</td>\n",
       "      <td>1</td>\n",
       "      <td>0</td>\n",
       "    </tr>\n",
       "    <tr>\n",
       "      <th>5</th>\n",
       "      <td>0</td>\n",
       "      <td>1</td>\n",
       "      <td>0</td>\n",
       "    </tr>\n",
       "  </tbody>\n",
       "</table>\n",
       "</div>"
      ],
      "text/plain": [
       "   Multiplex  Single Family  Townhouse\n",
       "1          1              0          0\n",
       "2          0              1          0\n",
       "3          0              1          0\n",
       "4          0              1          0\n",
       "5          0              1          0"
      ]
     },
     "execution_count": 684,
     "metadata": {},
     "output_type": "execute_result"
    }
   ],
   "source": [
    "pd.get_dummies(house['PropertyType']).head()"
   ]
  },
  {
   "cell_type": "code",
   "execution_count": 685,
   "metadata": {},
   "outputs": [
    {
     "data": {
      "text/html": [
       "<div>\n",
       "<style scoped>\n",
       "    .dataframe tbody tr th:only-of-type {\n",
       "        vertical-align: middle;\n",
       "    }\n",
       "\n",
       "    .dataframe tbody tr th {\n",
       "        vertical-align: top;\n",
       "    }\n",
       "\n",
       "    .dataframe thead th {\n",
       "        text-align: right;\n",
       "    }\n",
       "</style>\n",
       "<table border=\"1\" class=\"dataframe\">\n",
       "  <thead>\n",
       "    <tr style=\"text-align: right;\">\n",
       "      <th></th>\n",
       "      <th>Single Family</th>\n",
       "      <th>Townhouse</th>\n",
       "    </tr>\n",
       "  </thead>\n",
       "  <tbody>\n",
       "    <tr>\n",
       "      <th>1</th>\n",
       "      <td>0</td>\n",
       "      <td>0</td>\n",
       "    </tr>\n",
       "    <tr>\n",
       "      <th>2</th>\n",
       "      <td>1</td>\n",
       "      <td>0</td>\n",
       "    </tr>\n",
       "    <tr>\n",
       "      <th>3</th>\n",
       "      <td>1</td>\n",
       "      <td>0</td>\n",
       "    </tr>\n",
       "    <tr>\n",
       "      <th>4</th>\n",
       "      <td>1</td>\n",
       "      <td>0</td>\n",
       "    </tr>\n",
       "    <tr>\n",
       "      <th>5</th>\n",
       "      <td>1</td>\n",
       "      <td>0</td>\n",
       "    </tr>\n",
       "  </tbody>\n",
       "</table>\n",
       "</div>"
      ],
      "text/plain": [
       "   Single Family  Townhouse\n",
       "1              0          0\n",
       "2              1          0\n",
       "3              1          0\n",
       "4              1          0\n",
       "5              1          0"
      ]
     },
     "execution_count": 685,
     "metadata": {},
     "output_type": "execute_result"
    }
   ],
   "source": [
    "pd.get_dummies(house['PropertyType'], drop_first=True).head()"
   ]
  },
  {
   "cell_type": "code",
   "execution_count": 686,
   "metadata": {},
   "outputs": [],
   "source": [
    "X = pd.get_dummies(house[[*predictors,'PropertyType'] ], drop_first=True) #"
   ]
  },
  {
   "cell_type": "code",
   "execution_count": 687,
   "metadata": {},
   "outputs": [
    {
     "name": "stdout",
     "output_type": "stream",
     "text": [
      "Intercept: -446841.366\n",
      "Coefficients: \n",
      "SqFtTotLiving: 223.37362892503862\n",
      "SqFtLot: -0.0703679813681326\n",
      "Bathrooms: -15979.013473414965\n",
      "Bedrooms: -50889.73218483036\n",
      "BldgGrade: 109416.30516146174\n",
      "PropertyType_Single Family: -84678.21629549288\n",
      "PropertyType_Townhouse: -115121.97921609206\n"
     ]
    }
   ],
   "source": [
    "house_lm_factor = LinearRegression()\n",
    "house_lm_factor.fit(X, house[outcome])\n",
    "print(f\"Intercept: {house_lm_factor.intercept_:.3f}\")\n",
    "print(f\"Coefficients: \")\n",
    "for name, coef in zip(X.columns, house_lm_factor.coef_):\n",
    "    print(f\"{name}: {coef}\")"
   ]
  },
  {
   "cell_type": "markdown",
   "metadata": {},
   "source": [
    "<b><h4>Factor Variables with Many Levels</h4></b>\n",
    "\n",
    "Some factor variables can produce a huge number of binary dummies - zip codes are a factor variable, and there are 43,000 zip codes in the US. In such cases, it is useful to explore the data, and the relationships between predictor variables and the outcome, to determine whether useful information is contained in the categories. If so, you must further decide whether it is useful to retain all factors, or whether the levels should be consolidated."
   ]
  },
  {
   "cell_type": "code",
   "execution_count": 688,
   "metadata": {},
   "outputs": [
    {
     "data": {
      "text/plain": [
       "80"
      ]
     },
     "execution_count": 688,
     "metadata": {},
     "output_type": "execute_result"
    }
   ],
   "source": [
    "len(house['ZipCode'].unique())"
   ]
  },
  {
   "cell_type": "code",
   "execution_count": 689,
   "metadata": {},
   "outputs": [
    {
     "data": {
      "text/plain": [
       "98038    788\n",
       "98103    671\n",
       "98042    641\n",
       "98115    620\n",
       "98117    619\n",
       "        ... \n",
       "98288      4\n",
       "98224      3\n",
       "98068      1\n",
       "98113      1\n",
       "98043      1\n",
       "Name: ZipCode, Length: 80, dtype: int64"
      ]
     },
     "execution_count": 689,
     "metadata": {},
     "output_type": "execute_result"
    }
   ],
   "source": [
    "house['ZipCode'].value_counts()"
   ]
  },
  {
   "cell_type": "markdown",
   "metadata": {},
   "source": [
    "ZipCode is an imporrant variable, since it is a proxy for the effect of location on the value of a house. Including all levels require 79 coefficients corresponding to 79 degrees of freedom. Moreover, several zip codes have only one sale. \n",
    "One approach is to group the zip codes according to another variable, such as the target, sale price. Even better is to form zip code groups using the residuals from an initial model. \n",
    "\n",
    "In the code below, we calculate the residuals of each row by comparing to the prediction of our previous model to the actual sale price value. Then we group by the zip code and for each group we create a dictionary of the zipcode, the size of the group, and the median residual of the group. Then we unpack the rows of dicts into a list which is fed into the data frame constructor. We then sort the resulting data frame by the median_residual column. When unpacking you can use * into square brackets [] or access the underlying numpy ndarrays using .values into the list() constructor. The resulting data frame is named zip_groups. \n",
    "\n",
    "To this data frame, we add a cum_counts column which generates cumulative counts, followed by binning the rows into 5 bins, based on this cumulative count, yielding a ZipGroup column.Note that when we bin using linear cuts we set labels=False to have the bin number returned instead of the bin label. We select the ZipCode and ZipGroup into a separate data frame which we join to the original house data frame on the ZipCode column, essentially adding the ZipGroup column to the original data frame. We have essentially binned our ZipCodes, into 5 groups based on the median residuals form a simpler model. We finally set the ZipGroup column as a category type (hence an ordinal category), which categorizes the zip code into one of five groups, from least expensive(1) to most expensive(5).\n"
   ]
  },
  {
   "cell_type": "code",
   "execution_count": 690,
   "metadata": {},
   "outputs": [
    {
     "data": {
      "text/html": [
       "<div>\n",
       "<style scoped>\n",
       "    .dataframe tbody tr th:only-of-type {\n",
       "        vertical-align: middle;\n",
       "    }\n",
       "\n",
       "    .dataframe tbody tr th {\n",
       "        vertical-align: top;\n",
       "    }\n",
       "\n",
       "    .dataframe thead th {\n",
       "        text-align: right;\n",
       "    }\n",
       "</style>\n",
       "<table border=\"1\" class=\"dataframe\">\n",
       "  <thead>\n",
       "    <tr style=\"text-align: right;\">\n",
       "      <th></th>\n",
       "      <th>ZipCode</th>\n",
       "      <th>residual</th>\n",
       "    </tr>\n",
       "  </thead>\n",
       "  <tbody>\n",
       "    <tr>\n",
       "      <th>1</th>\n",
       "      <td>98002</td>\n",
       "      <td>-123750.814194</td>\n",
       "    </tr>\n",
       "    <tr>\n",
       "      <th>2</th>\n",
       "      <td>98166</td>\n",
       "      <td>-59145.413089</td>\n",
       "    </tr>\n",
       "    <tr>\n",
       "      <th>3</th>\n",
       "      <td>98166</td>\n",
       "      <td>190108.725716</td>\n",
       "    </tr>\n",
       "    <tr>\n",
       "      <th>4</th>\n",
       "      <td>98168</td>\n",
       "      <td>-198788.774412</td>\n",
       "    </tr>\n",
       "    <tr>\n",
       "      <th>5</th>\n",
       "      <td>98168</td>\n",
       "      <td>-91774.996129</td>\n",
       "    </tr>\n",
       "    <tr>\n",
       "      <th>...</th>\n",
       "      <td>...</td>\n",
       "      <td>...</td>\n",
       "    </tr>\n",
       "    <tr>\n",
       "      <th>27057</th>\n",
       "      <td>98126</td>\n",
       "      <td>61921.802132</td>\n",
       "    </tr>\n",
       "    <tr>\n",
       "      <th>27058</th>\n",
       "      <td>98040</td>\n",
       "      <td>140828.931399</td>\n",
       "    </tr>\n",
       "    <tr>\n",
       "      <th>27061</th>\n",
       "      <td>98055</td>\n",
       "      <td>72322.919386</td>\n",
       "    </tr>\n",
       "    <tr>\n",
       "      <th>27062</th>\n",
       "      <td>98166</td>\n",
       "      <td>-3875.703833</td>\n",
       "    </tr>\n",
       "    <tr>\n",
       "      <th>27063</th>\n",
       "      <td>98103</td>\n",
       "      <td>246575.629954</td>\n",
       "    </tr>\n",
       "  </tbody>\n",
       "</table>\n",
       "<p>22687 rows × 2 columns</p>\n",
       "</div>"
      ],
      "text/plain": [
       "       ZipCode       residual\n",
       "1        98002 -123750.814194\n",
       "2        98166  -59145.413089\n",
       "3        98166  190108.725716\n",
       "4        98168 -198788.774412\n",
       "5        98168  -91774.996129\n",
       "...        ...            ...\n",
       "27057    98126   61921.802132\n",
       "27058    98040  140828.931399\n",
       "27061    98055   72322.919386\n",
       "27062    98166   -3875.703833\n",
       "27063    98103  246575.629954\n",
       "\n",
       "[22687 rows x 2 columns]"
      ]
     },
     "execution_count": 690,
     "metadata": {},
     "output_type": "execute_result"
    }
   ],
   "source": [
    "zip_residuals = pd.DataFrame({\n",
    "        'ZipCode' : house['ZipCode'],\n",
    "        'residual': house[outcome] - house_lm.predict(house[predictors])\n",
    "    })\n",
    "zip_residuals"
   ]
  },
  {
   "cell_type": "code",
   "execution_count": 691,
   "metadata": {},
   "outputs": [
    {
     "data": {
      "text/html": [
       "<div>\n",
       "<style scoped>\n",
       "    .dataframe tbody tr th:only-of-type {\n",
       "        vertical-align: middle;\n",
       "    }\n",
       "\n",
       "    .dataframe tbody tr th {\n",
       "        vertical-align: top;\n",
       "    }\n",
       "\n",
       "    .dataframe thead th {\n",
       "        text-align: right;\n",
       "    }\n",
       "</style>\n",
       "<table border=\"1\" class=\"dataframe\">\n",
       "  <thead>\n",
       "    <tr style=\"text-align: right;\">\n",
       "      <th></th>\n",
       "      <th>ZipCode</th>\n",
       "      <th>count</th>\n",
       "      <th>median_residual</th>\n",
       "    </tr>\n",
       "  </thead>\n",
       "  <tbody>\n",
       "    <tr>\n",
       "      <th>36</th>\n",
       "      <td>98057</td>\n",
       "      <td>4</td>\n",
       "      <td>-537321.644462</td>\n",
       "    </tr>\n",
       "    <tr>\n",
       "      <th>27</th>\n",
       "      <td>98043</td>\n",
       "      <td>1</td>\n",
       "      <td>-307661.343614</td>\n",
       "    </tr>\n",
       "    <tr>\n",
       "      <th>46</th>\n",
       "      <td>98092</td>\n",
       "      <td>289</td>\n",
       "      <td>-193569.183599</td>\n",
       "    </tr>\n",
       "    <tr>\n",
       "      <th>23</th>\n",
       "      <td>98038</td>\n",
       "      <td>788</td>\n",
       "      <td>-150066.477035</td>\n",
       "    </tr>\n",
       "    <tr>\n",
       "      <th>31</th>\n",
       "      <td>98051</td>\n",
       "      <td>32</td>\n",
       "      <td>-142352.869593</td>\n",
       "    </tr>\n",
       "    <tr>\n",
       "      <th>...</th>\n",
       "      <td>...</td>\n",
       "      <td>...</td>\n",
       "      <td>...</td>\n",
       "    </tr>\n",
       "    <tr>\n",
       "      <th>60</th>\n",
       "      <td>98119</td>\n",
       "      <td>260</td>\n",
       "      <td>174462.549290</td>\n",
       "    </tr>\n",
       "    <tr>\n",
       "      <th>54</th>\n",
       "      <td>98112</td>\n",
       "      <td>357</td>\n",
       "      <td>232788.487256</td>\n",
       "    </tr>\n",
       "    <tr>\n",
       "      <th>25</th>\n",
       "      <td>98040</td>\n",
       "      <td>244</td>\n",
       "      <td>254004.002463</td>\n",
       "    </tr>\n",
       "    <tr>\n",
       "      <th>3</th>\n",
       "      <td>98004</td>\n",
       "      <td>293</td>\n",
       "      <td>383596.028729</td>\n",
       "    </tr>\n",
       "    <tr>\n",
       "      <th>24</th>\n",
       "      <td>98039</td>\n",
       "      <td>47</td>\n",
       "      <td>740960.478872</td>\n",
       "    </tr>\n",
       "  </tbody>\n",
       "</table>\n",
       "<p>80 rows × 3 columns</p>\n",
       "</div>"
      ],
      "text/plain": [
       "    ZipCode  count  median_residual\n",
       "36    98057      4   -537321.644462\n",
       "27    98043      1   -307661.343614\n",
       "46    98092    289   -193569.183599\n",
       "23    98038    788   -150066.477035\n",
       "31    98051     32   -142352.869593\n",
       "..      ...    ...              ...\n",
       "60    98119    260    174462.549290\n",
       "54    98112    357    232788.487256\n",
       "25    98040    244    254004.002463\n",
       "3     98004    293    383596.028729\n",
       "24    98039     47    740960.478872\n",
       "\n",
       "[80 rows x 3 columns]"
      ]
     },
     "execution_count": 691,
     "metadata": {},
     "output_type": "execute_result"
    }
   ],
   "source": [
    "zip_groups = pd.DataFrame(\n",
    "    [*pd.DataFrame({\n",
    "        'ZipCode' : house['ZipCode'],\n",
    "        'residual' : house[outcome] - house_lm.predict(house[predictors]),\n",
    "    })\n",
    "    .groupby('ZipCode')\n",
    "    .apply(lambda x:{\n",
    "        'ZipCode' : x.name,\n",
    "        'count' : len(x),\n",
    "        'median_residual' : x.residual.median()\n",
    "    })\n",
    "]).sort_values('median_residual')\n",
    "\n",
    "zip_groups"
   ]
  },
  {
   "cell_type": "code",
   "execution_count": 692,
   "metadata": {},
   "outputs": [
    {
     "data": {
      "text/html": [
       "<div>\n",
       "<style scoped>\n",
       "    .dataframe tbody tr th:only-of-type {\n",
       "        vertical-align: middle;\n",
       "    }\n",
       "\n",
       "    .dataframe tbody tr th {\n",
       "        vertical-align: top;\n",
       "    }\n",
       "\n",
       "    .dataframe thead th {\n",
       "        text-align: right;\n",
       "    }\n",
       "</style>\n",
       "<table border=\"1\" class=\"dataframe\">\n",
       "  <thead>\n",
       "    <tr style=\"text-align: right;\">\n",
       "      <th></th>\n",
       "      <th>ZipCode</th>\n",
       "      <th>count</th>\n",
       "      <th>median_residual</th>\n",
       "      <th>cum_count</th>\n",
       "      <th>ZipGroup</th>\n",
       "    </tr>\n",
       "  </thead>\n",
       "  <tbody>\n",
       "    <tr>\n",
       "      <th>36</th>\n",
       "      <td>98057</td>\n",
       "      <td>4</td>\n",
       "      <td>-537321.644462</td>\n",
       "      <td>4</td>\n",
       "      <td>0</td>\n",
       "    </tr>\n",
       "    <tr>\n",
       "      <th>27</th>\n",
       "      <td>98043</td>\n",
       "      <td>1</td>\n",
       "      <td>-307661.343614</td>\n",
       "      <td>5</td>\n",
       "      <td>0</td>\n",
       "    </tr>\n",
       "    <tr>\n",
       "      <th>46</th>\n",
       "      <td>98092</td>\n",
       "      <td>289</td>\n",
       "      <td>-193569.183599</td>\n",
       "      <td>294</td>\n",
       "      <td>0</td>\n",
       "    </tr>\n",
       "    <tr>\n",
       "      <th>23</th>\n",
       "      <td>98038</td>\n",
       "      <td>788</td>\n",
       "      <td>-150066.477035</td>\n",
       "      <td>1082</td>\n",
       "      <td>0</td>\n",
       "    </tr>\n",
       "    <tr>\n",
       "      <th>31</th>\n",
       "      <td>98051</td>\n",
       "      <td>32</td>\n",
       "      <td>-142352.869593</td>\n",
       "      <td>1114</td>\n",
       "      <td>0</td>\n",
       "    </tr>\n",
       "    <tr>\n",
       "      <th>...</th>\n",
       "      <td>...</td>\n",
       "      <td>...</td>\n",
       "      <td>...</td>\n",
       "      <td>...</td>\n",
       "      <td>...</td>\n",
       "    </tr>\n",
       "    <tr>\n",
       "      <th>60</th>\n",
       "      <td>98119</td>\n",
       "      <td>260</td>\n",
       "      <td>174462.549290</td>\n",
       "      <td>21746</td>\n",
       "      <td>4</td>\n",
       "    </tr>\n",
       "    <tr>\n",
       "      <th>54</th>\n",
       "      <td>98112</td>\n",
       "      <td>357</td>\n",
       "      <td>232788.487256</td>\n",
       "      <td>22103</td>\n",
       "      <td>4</td>\n",
       "    </tr>\n",
       "    <tr>\n",
       "      <th>25</th>\n",
       "      <td>98040</td>\n",
       "      <td>244</td>\n",
       "      <td>254004.002463</td>\n",
       "      <td>22347</td>\n",
       "      <td>4</td>\n",
       "    </tr>\n",
       "    <tr>\n",
       "      <th>3</th>\n",
       "      <td>98004</td>\n",
       "      <td>293</td>\n",
       "      <td>383596.028729</td>\n",
       "      <td>22640</td>\n",
       "      <td>4</td>\n",
       "    </tr>\n",
       "    <tr>\n",
       "      <th>24</th>\n",
       "      <td>98039</td>\n",
       "      <td>47</td>\n",
       "      <td>740960.478872</td>\n",
       "      <td>22687</td>\n",
       "      <td>4</td>\n",
       "    </tr>\n",
       "  </tbody>\n",
       "</table>\n",
       "<p>80 rows × 5 columns</p>\n",
       "</div>"
      ],
      "text/plain": [
       "    ZipCode  count  median_residual  cum_count  ZipGroup\n",
       "36    98057      4   -537321.644462          4         0\n",
       "27    98043      1   -307661.343614          5         0\n",
       "46    98092    289   -193569.183599        294         0\n",
       "23    98038    788   -150066.477035       1082         0\n",
       "31    98051     32   -142352.869593       1114         0\n",
       "..      ...    ...              ...        ...       ...\n",
       "60    98119    260    174462.549290      21746         4\n",
       "54    98112    357    232788.487256      22103         4\n",
       "25    98040    244    254004.002463      22347         4\n",
       "3     98004    293    383596.028729      22640         4\n",
       "24    98039     47    740960.478872      22687         4\n",
       "\n",
       "[80 rows x 5 columns]"
      ]
     },
     "execution_count": 692,
     "metadata": {},
     "output_type": "execute_result"
    }
   ],
   "source": [
    "zip_groups['cum_count'] = np.cumsum(zip_groups['count'])\n",
    "zip_groups['ZipGroup'] = pd.qcut(zip_groups['cum_count'], 5, labels=False)\n",
    "zip_groups"
   ]
  },
  {
   "cell_type": "code",
   "execution_count": 693,
   "metadata": {},
   "outputs": [
    {
     "data": {
      "text/html": [
       "<div>\n",
       "<style scoped>\n",
       "    .dataframe tbody tr th:only-of-type {\n",
       "        vertical-align: middle;\n",
       "    }\n",
       "\n",
       "    .dataframe tbody tr th {\n",
       "        vertical-align: top;\n",
       "    }\n",
       "\n",
       "    .dataframe thead th {\n",
       "        text-align: right;\n",
       "    }\n",
       "</style>\n",
       "<table border=\"1\" class=\"dataframe\">\n",
       "  <thead>\n",
       "    <tr style=\"text-align: right;\">\n",
       "      <th></th>\n",
       "      <th>ZipGroup</th>\n",
       "    </tr>\n",
       "    <tr>\n",
       "      <th>ZipCode</th>\n",
       "      <th></th>\n",
       "    </tr>\n",
       "  </thead>\n",
       "  <tbody>\n",
       "    <tr>\n",
       "      <th>98057</th>\n",
       "      <td>0</td>\n",
       "    </tr>\n",
       "    <tr>\n",
       "      <th>98043</th>\n",
       "      <td>0</td>\n",
       "    </tr>\n",
       "    <tr>\n",
       "      <th>98092</th>\n",
       "      <td>0</td>\n",
       "    </tr>\n",
       "    <tr>\n",
       "      <th>98038</th>\n",
       "      <td>0</td>\n",
       "    </tr>\n",
       "    <tr>\n",
       "      <th>98051</th>\n",
       "      <td>0</td>\n",
       "    </tr>\n",
       "    <tr>\n",
       "      <th>...</th>\n",
       "      <td>...</td>\n",
       "    </tr>\n",
       "    <tr>\n",
       "      <th>98119</th>\n",
       "      <td>4</td>\n",
       "    </tr>\n",
       "    <tr>\n",
       "      <th>98112</th>\n",
       "      <td>4</td>\n",
       "    </tr>\n",
       "    <tr>\n",
       "      <th>98040</th>\n",
       "      <td>4</td>\n",
       "    </tr>\n",
       "    <tr>\n",
       "      <th>98004</th>\n",
       "      <td>4</td>\n",
       "    </tr>\n",
       "    <tr>\n",
       "      <th>98039</th>\n",
       "      <td>4</td>\n",
       "    </tr>\n",
       "  </tbody>\n",
       "</table>\n",
       "<p>80 rows × 1 columns</p>\n",
       "</div>"
      ],
      "text/plain": [
       "         ZipGroup\n",
       "ZipCode          \n",
       "98057           0\n",
       "98043           0\n",
       "98092           0\n",
       "98038           0\n",
       "98051           0\n",
       "...           ...\n",
       "98119           4\n",
       "98112           4\n",
       "98040           4\n",
       "98004           4\n",
       "98039           4\n",
       "\n",
       "[80 rows x 1 columns]"
      ]
     },
     "execution_count": 693,
     "metadata": {},
     "output_type": "execute_result"
    }
   ],
   "source": [
    "to_join = zip_groups[['ZipCode', 'ZipGroup']].set_index('ZipCode')\n",
    "to_join"
   ]
  },
  {
   "cell_type": "code",
   "execution_count": 694,
   "metadata": {},
   "outputs": [],
   "source": [
    "house = house.join(to_join, on='ZipCode')\n",
    "house['ZipGroup'] = house['ZipGroup'].astype('category')"
   ]
  },
  {
   "cell_type": "code",
   "execution_count": 695,
   "metadata": {},
   "outputs": [
    {
     "data": {
      "text/html": [
       "<div>\n",
       "<style scoped>\n",
       "    .dataframe tbody tr th:only-of-type {\n",
       "        vertical-align: middle;\n",
       "    }\n",
       "\n",
       "    .dataframe tbody tr th {\n",
       "        vertical-align: top;\n",
       "    }\n",
       "\n",
       "    .dataframe thead th {\n",
       "        text-align: right;\n",
       "    }\n",
       "</style>\n",
       "<table border=\"1\" class=\"dataframe\">\n",
       "  <thead>\n",
       "    <tr style=\"text-align: right;\">\n",
       "      <th></th>\n",
       "      <th>1</th>\n",
       "      <th>2</th>\n",
       "      <th>3</th>\n",
       "      <th>4</th>\n",
       "      <th>5</th>\n",
       "    </tr>\n",
       "  </thead>\n",
       "  <tbody>\n",
       "    <tr>\n",
       "      <th>DocumentDate</th>\n",
       "      <td>2014-09-16</td>\n",
       "      <td>2006-06-16</td>\n",
       "      <td>2007-01-29</td>\n",
       "      <td>2008-02-25</td>\n",
       "      <td>2013-03-29</td>\n",
       "    </tr>\n",
       "    <tr>\n",
       "      <th>SalePrice</th>\n",
       "      <td>280000</td>\n",
       "      <td>1000000</td>\n",
       "      <td>745000</td>\n",
       "      <td>425000</td>\n",
       "      <td>240000</td>\n",
       "    </tr>\n",
       "    <tr>\n",
       "      <th>PropertyID</th>\n",
       "      <td>1000102</td>\n",
       "      <td>1200013</td>\n",
       "      <td>1200019</td>\n",
       "      <td>2800016</td>\n",
       "      <td>2800024</td>\n",
       "    </tr>\n",
       "    <tr>\n",
       "      <th>PropertyType</th>\n",
       "      <td>Multiplex</td>\n",
       "      <td>Single Family</td>\n",
       "      <td>Single Family</td>\n",
       "      <td>Single Family</td>\n",
       "      <td>Single Family</td>\n",
       "    </tr>\n",
       "    <tr>\n",
       "      <th>ym</th>\n",
       "      <td>2014-09-01</td>\n",
       "      <td>2006-06-01</td>\n",
       "      <td>2007-01-01</td>\n",
       "      <td>2008-02-01</td>\n",
       "      <td>2013-03-01</td>\n",
       "    </tr>\n",
       "    <tr>\n",
       "      <th>zhvi_px</th>\n",
       "      <td>405100</td>\n",
       "      <td>404400</td>\n",
       "      <td>425600</td>\n",
       "      <td>418400</td>\n",
       "      <td>351600</td>\n",
       "    </tr>\n",
       "    <tr>\n",
       "      <th>zhvi_idx</th>\n",
       "      <td>0.930836</td>\n",
       "      <td>0.929228</td>\n",
       "      <td>0.977941</td>\n",
       "      <td>0.961397</td>\n",
       "      <td>0.807904</td>\n",
       "    </tr>\n",
       "    <tr>\n",
       "      <th>AdjSalePrice</th>\n",
       "      <td>300805.0</td>\n",
       "      <td>1076162.0</td>\n",
       "      <td>761805.0</td>\n",
       "      <td>442065.0</td>\n",
       "      <td>297065.0</td>\n",
       "    </tr>\n",
       "    <tr>\n",
       "      <th>NbrLivingUnits</th>\n",
       "      <td>2</td>\n",
       "      <td>1</td>\n",
       "      <td>1</td>\n",
       "      <td>1</td>\n",
       "      <td>1</td>\n",
       "    </tr>\n",
       "    <tr>\n",
       "      <th>SqFtLot</th>\n",
       "      <td>9373</td>\n",
       "      <td>20156</td>\n",
       "      <td>26036</td>\n",
       "      <td>8618</td>\n",
       "      <td>8620</td>\n",
       "    </tr>\n",
       "    <tr>\n",
       "      <th>SqFtTotLiving</th>\n",
       "      <td>2400</td>\n",
       "      <td>3764</td>\n",
       "      <td>2060</td>\n",
       "      <td>3200</td>\n",
       "      <td>1720</td>\n",
       "    </tr>\n",
       "    <tr>\n",
       "      <th>SqFtFinBasement</th>\n",
       "      <td>0</td>\n",
       "      <td>1452</td>\n",
       "      <td>900</td>\n",
       "      <td>1640</td>\n",
       "      <td>0</td>\n",
       "    </tr>\n",
       "    <tr>\n",
       "      <th>Bathrooms</th>\n",
       "      <td>3.0</td>\n",
       "      <td>3.75</td>\n",
       "      <td>1.75</td>\n",
       "      <td>3.75</td>\n",
       "      <td>1.75</td>\n",
       "    </tr>\n",
       "    <tr>\n",
       "      <th>Bedrooms</th>\n",
       "      <td>6</td>\n",
       "      <td>4</td>\n",
       "      <td>4</td>\n",
       "      <td>5</td>\n",
       "      <td>4</td>\n",
       "    </tr>\n",
       "    <tr>\n",
       "      <th>BldgGrade</th>\n",
       "      <td>7</td>\n",
       "      <td>10</td>\n",
       "      <td>8</td>\n",
       "      <td>7</td>\n",
       "      <td>7</td>\n",
       "    </tr>\n",
       "    <tr>\n",
       "      <th>YrBuilt</th>\n",
       "      <td>1991</td>\n",
       "      <td>2005</td>\n",
       "      <td>1947</td>\n",
       "      <td>1966</td>\n",
       "      <td>1948</td>\n",
       "    </tr>\n",
       "    <tr>\n",
       "      <th>YrRenovated</th>\n",
       "      <td>0</td>\n",
       "      <td>0</td>\n",
       "      <td>0</td>\n",
       "      <td>0</td>\n",
       "      <td>0</td>\n",
       "    </tr>\n",
       "    <tr>\n",
       "      <th>TrafficNoise</th>\n",
       "      <td>0</td>\n",
       "      <td>0</td>\n",
       "      <td>0</td>\n",
       "      <td>0</td>\n",
       "      <td>0</td>\n",
       "    </tr>\n",
       "    <tr>\n",
       "      <th>LandVal</th>\n",
       "      <td>70000</td>\n",
       "      <td>203000</td>\n",
       "      <td>183000</td>\n",
       "      <td>104000</td>\n",
       "      <td>104000</td>\n",
       "    </tr>\n",
       "    <tr>\n",
       "      <th>ImpsVal</th>\n",
       "      <td>229000</td>\n",
       "      <td>590000</td>\n",
       "      <td>275000</td>\n",
       "      <td>229000</td>\n",
       "      <td>205000</td>\n",
       "    </tr>\n",
       "    <tr>\n",
       "      <th>ZipCode</th>\n",
       "      <td>98002</td>\n",
       "      <td>98166</td>\n",
       "      <td>98166</td>\n",
       "      <td>98168</td>\n",
       "      <td>98168</td>\n",
       "    </tr>\n",
       "    <tr>\n",
       "      <th>NewConstruction</th>\n",
       "      <td>False</td>\n",
       "      <td>True</td>\n",
       "      <td>False</td>\n",
       "      <td>False</td>\n",
       "      <td>False</td>\n",
       "    </tr>\n",
       "    <tr>\n",
       "      <th>Year</th>\n",
       "      <td>2014</td>\n",
       "      <td>2006</td>\n",
       "      <td>2007</td>\n",
       "      <td>2008</td>\n",
       "      <td>2013</td>\n",
       "    </tr>\n",
       "    <tr>\n",
       "      <th>Weight</th>\n",
       "      <td>9</td>\n",
       "      <td>1</td>\n",
       "      <td>2</td>\n",
       "      <td>3</td>\n",
       "      <td>8</td>\n",
       "    </tr>\n",
       "    <tr>\n",
       "      <th>ZipGroup</th>\n",
       "      <td>2</td>\n",
       "      <td>2</td>\n",
       "      <td>2</td>\n",
       "      <td>2</td>\n",
       "      <td>2</td>\n",
       "    </tr>\n",
       "  </tbody>\n",
       "</table>\n",
       "</div>"
      ],
      "text/plain": [
       "                          1              2              3              4  \\\n",
       "DocumentDate     2014-09-16     2006-06-16     2007-01-29     2008-02-25   \n",
       "SalePrice            280000        1000000         745000         425000   \n",
       "PropertyID          1000102        1200013        1200019        2800016   \n",
       "PropertyType      Multiplex  Single Family  Single Family  Single Family   \n",
       "ym               2014-09-01     2006-06-01     2007-01-01     2008-02-01   \n",
       "zhvi_px              405100         404400         425600         418400   \n",
       "zhvi_idx           0.930836       0.929228       0.977941       0.961397   \n",
       "AdjSalePrice       300805.0      1076162.0       761805.0       442065.0   \n",
       "NbrLivingUnits            2              1              1              1   \n",
       "SqFtLot                9373          20156          26036           8618   \n",
       "SqFtTotLiving          2400           3764           2060           3200   \n",
       "SqFtFinBasement           0           1452            900           1640   \n",
       "Bathrooms               3.0           3.75           1.75           3.75   \n",
       "Bedrooms                  6              4              4              5   \n",
       "BldgGrade                 7             10              8              7   \n",
       "YrBuilt                1991           2005           1947           1966   \n",
       "YrRenovated               0              0              0              0   \n",
       "TrafficNoise              0              0              0              0   \n",
       "LandVal               70000         203000         183000         104000   \n",
       "ImpsVal              229000         590000         275000         229000   \n",
       "ZipCode               98002          98166          98166          98168   \n",
       "NewConstruction       False           True          False          False   \n",
       "Year                   2014           2006           2007           2008   \n",
       "Weight                    9              1              2              3   \n",
       "ZipGroup                  2              2              2              2   \n",
       "\n",
       "                             5  \n",
       "DocumentDate        2013-03-29  \n",
       "SalePrice               240000  \n",
       "PropertyID             2800024  \n",
       "PropertyType     Single Family  \n",
       "ym                  2013-03-01  \n",
       "zhvi_px                 351600  \n",
       "zhvi_idx              0.807904  \n",
       "AdjSalePrice          297065.0  \n",
       "NbrLivingUnits               1  \n",
       "SqFtLot                   8620  \n",
       "SqFtTotLiving             1720  \n",
       "SqFtFinBasement              0  \n",
       "Bathrooms                 1.75  \n",
       "Bedrooms                     4  \n",
       "BldgGrade                    7  \n",
       "YrBuilt                   1948  \n",
       "YrRenovated                  0  \n",
       "TrafficNoise                 0  \n",
       "LandVal                 104000  \n",
       "ImpsVal                 205000  \n",
       "ZipCode                  98168  \n",
       "NewConstruction          False  \n",
       "Year                      2013  \n",
       "Weight                       8  \n",
       "ZipGroup                     2  "
      ]
     },
     "execution_count": 695,
     "metadata": {},
     "output_type": "execute_result"
    }
   ],
   "source": [
    "house.head(5).transpose()"
   ]
  },
  {
   "cell_type": "markdown",
   "metadata": {},
   "source": [
    "<b><h4>Ordered Factor Variables</h4></b>\n",
    "\n",
    "Some factor variables reflect levels of a factor; these are termed ordered factor variables or ordered categorical variables. For example, the loan grade could be A,B,C, and so on- each grade carries more risk than the prior grade. Often, ordered factor variables can be converted to numerical values and used as is. For example, the variable BldgGrade is an ordered factor variable. These grades represent the quality of building eg Cabin, Substandard, Fair, Very good, Luxury, Mansion.\n",
    "\n",
    "Treating ordered factors as a numeric variable preserves the information contained in the ordering that would be lost if it were converted to a factor."
   ]
  },
  {
   "cell_type": "code",
   "execution_count": 696,
   "metadata": {},
   "outputs": [
    {
     "data": {
      "text/plain": [
       "array([ 7, 10,  8,  6,  9,  5, 11, 12, 13,  4,  3])"
      ]
     },
     "execution_count": 696,
     "metadata": {},
     "output_type": "execute_result"
    }
   ],
   "source": [
    "house.BldgGrade.unique()"
   ]
  },
  {
   "cell_type": "markdown",
   "metadata": {},
   "source": [
    "<b><h3>Interpreting the Regression Equation</h3></b>\n",
    "\n",
    "In data science, the most important use of regressionis to predict some dependent (outcome) variable. In some cases, gaining insight from the equation itself to understand the nature of the relationship between the predictors and the outcome can be of value."
   ]
  },
  {
   "cell_type": "markdown",
   "metadata": {},
   "source": [
    "<b><h4>Correlated Predictors</h4></b>\n",
    "\n",
    "In multiple regression, the predictor variables are often correlated with each other. Looking at the model obtained from stepwise regression earlier, the coefficients for Bedrooms is negative!. This implies that adding a bedroom to a house will reduce its value. How can this be? This is because the predictor variables are correlated\" larger houses thend to have more bedrooms, and it is the size that drives the house value, not the number of bedrooms. Consider two homes of the exact same size: it is reasonable to expect that a home with more but smaller rooms would be considered less desirable.\n",
    "\n",
    "Having correlated predictors can make it difficult to interpret the sign and value of regression coefficients (and can inflate the standard error of the estimates). The variables for bedrooms, house size, and number of bathrooms are all correlated. In Python, we can refit the model with the modified predictor list. When we remove the variables that are correlated to bedrooms, the resulting model shows a positive coefficient for number of bedrooms."
   ]
  },
  {
   "cell_type": "code",
   "execution_count": 697,
   "metadata": {},
   "outputs": [
    {
     "data": {
      "text/plain": [
       "SqFtTotLiving                    199.277553\n",
       "BldgGrade                     137159.560226\n",
       "YrBuilt                        -3565.424939\n",
       "Bedrooms                      -51947.383674\n",
       "Bathrooms                      42396.164528\n",
       "PropertyType_Townhouse         84479.162033\n",
       "SqFtFinBasement                    7.046975\n",
       "PropertyType_Single Family     22912.055187\n",
       "dtype: float64"
      ]
     },
     "execution_count": 697,
     "metadata": {},
     "output_type": "execute_result"
    }
   ],
   "source": [
    "pd.Series(best_model.coef_, index=best_variables\n",
    ")"
   ]
  },
  {
   "cell_type": "code",
   "execution_count": 698,
   "metadata": {},
   "outputs": [
    {
     "data": {
      "text/html": [
       "<div>\n",
       "<style scoped>\n",
       "    .dataframe tbody tr th:only-of-type {\n",
       "        vertical-align: middle;\n",
       "    }\n",
       "\n",
       "    .dataframe tbody tr th {\n",
       "        vertical-align: top;\n",
       "    }\n",
       "\n",
       "    .dataframe thead th {\n",
       "        text-align: right;\n",
       "    }\n",
       "</style>\n",
       "<table border=\"1\" class=\"dataframe\">\n",
       "  <thead>\n",
       "    <tr style=\"text-align: right;\">\n",
       "      <th></th>\n",
       "      <th>predictors</th>\n",
       "      <th>coefficients</th>\n",
       "    </tr>\n",
       "  </thead>\n",
       "  <tbody>\n",
       "    <tr>\n",
       "      <th>0</th>\n",
       "      <td>Bedrooms</td>\n",
       "      <td>27150.537230</td>\n",
       "    </tr>\n",
       "    <tr>\n",
       "      <th>1</th>\n",
       "      <td>BldgGrade</td>\n",
       "      <td>248997.793662</td>\n",
       "    </tr>\n",
       "    <tr>\n",
       "      <th>2</th>\n",
       "      <td>YrBuilt</td>\n",
       "      <td>-3211.744862</td>\n",
       "    </tr>\n",
       "    <tr>\n",
       "      <th>3</th>\n",
       "      <td>PropertyType_Single Family</td>\n",
       "      <td>-19898.495340</td>\n",
       "    </tr>\n",
       "    <tr>\n",
       "      <th>4</th>\n",
       "      <td>PropertyType_Townhouse</td>\n",
       "      <td>-47355.436873</td>\n",
       "    </tr>\n",
       "  </tbody>\n",
       "</table>\n",
       "</div>"
      ],
      "text/plain": [
       "                   predictors   coefficients\n",
       "0                    Bedrooms   27150.537230\n",
       "1                   BldgGrade  248997.793662\n",
       "2                     YrBuilt   -3211.744862\n",
       "3  PropertyType_Single Family  -19898.495340\n",
       "4      PropertyType_Townhouse  -47355.436873"
      ]
     },
     "execution_count": 698,
     "metadata": {},
     "output_type": "execute_result"
    }
   ],
   "source": [
    "predictors = ['Bedrooms','BldgGrade', 'PropertyType', 'YrBuilt']\n",
    "outcome = 'AdjSalePrice'\n",
    "\n",
    "X = pd.get_dummies(house[predictors], drop_first=True) # convert any categorical variable to one hot encoding.\n",
    "\n",
    "reduced_lm = LinearRegression()\n",
    "reduced_lm.fit(X, house[outcome])\n",
    "pd.DataFrame({\n",
    "    'predictors':X.columns,\n",
    "    'coefficients': reduced_lm.coef_\n",
    "})"
   ]
  },
  {
   "cell_type": "markdown",
   "metadata": {},
   "source": [
    "<b><h4>Multicollinearity</h4></b>\n",
    "\n",
    "An extreme case of correlated variables produces multicollinearity- a condition in which there is redundance among the predictor variables. Perfect multicollinearity occurs when one predictor variable can be expressed as a linear combination of others. Multicollinearity occurs when:\n",
    "- A variable is included multiple times by error.\n",
    "- P dummies, instead of P - 1 dummies, are created from a factor variable.\n",
    "- Two variables are perfectly correlated with one another.\n",
    "\n",
    "Multicollinearity in regression must be addressed - variables should be removed until multicollinearity is gone. A regression does not have a well-defined solution in the presence of perfect multicollinearity. In the case of nonperfect\n",
    "multicollinearity, the software/library may obtain a solution, but the results may be unstable.\n",
    "\n",
    "Multicollinearity is not such a problem for nonlinear regression methods like trees, clustering and nearest-neighbors, and in such methods it may be advisable to retain P dummies (instead of P-1). That said, even in those methods, non redundancy in predictor variables is still a virtue. "
   ]
  },
  {
   "cell_type": "markdown",
   "metadata": {},
   "source": [
    "<b><h4>Confounding Variables</h4></b>\n",
    "\n",
    "With correlated variables, the problem is one of commission: including different variables that have a similar predictive relationship with the response. With confounding variables, the problem is one of omission: an important variable is not included in the regression equation. Naive interpretation of the equation coefficients can lead to invalid conclusions.\n",
    "\n",
    "Take the house_lm model, previously developed. The regression coefficients of SqFtLot, Bathrooms, and Bedrooms are all negative. The original regression model does not contain a variable to represent location- a very important predictor of house price. To model location, include the variable ZipGroup, that categorizes the zip code into one of five groups, from least expensive(1) to most expensive(5)."
   ]
  },
  {
   "cell_type": "code",
   "execution_count": 699,
   "metadata": {},
   "outputs": [
    {
     "data": {
      "text/html": [
       "<div>\n",
       "<style scoped>\n",
       "    .dataframe tbody tr th:only-of-type {\n",
       "        vertical-align: middle;\n",
       "    }\n",
       "\n",
       "    .dataframe tbody tr th {\n",
       "        vertical-align: top;\n",
       "    }\n",
       "\n",
       "    .dataframe thead th {\n",
       "        text-align: right;\n",
       "    }\n",
       "</style>\n",
       "<table border=\"1\" class=\"dataframe\">\n",
       "  <thead>\n",
       "    <tr style=\"text-align: right;\">\n",
       "      <th></th>\n",
       "      <th>Coefficients</th>\n",
       "    </tr>\n",
       "  </thead>\n",
       "  <tbody>\n",
       "    <tr>\n",
       "      <th>SqFtTotLiving</th>\n",
       "      <td>228.830604</td>\n",
       "    </tr>\n",
       "    <tr>\n",
       "      <th>SqFtLot</th>\n",
       "      <td>-0.060467</td>\n",
       "    </tr>\n",
       "    <tr>\n",
       "      <th>Bathrooms</th>\n",
       "      <td>-19442.840398</td>\n",
       "    </tr>\n",
       "    <tr>\n",
       "      <th>Bedrooms</th>\n",
       "      <td>-47769.955185</td>\n",
       "    </tr>\n",
       "    <tr>\n",
       "      <th>BldgGrade</th>\n",
       "      <td>106106.963079</td>\n",
       "    </tr>\n",
       "  </tbody>\n",
       "</table>\n",
       "</div>"
      ],
      "text/plain": [
       "                Coefficients\n",
       "SqFtTotLiving     228.830604\n",
       "SqFtLot            -0.060467\n",
       "Bathrooms      -19442.840398\n",
       "Bedrooms       -47769.955185\n",
       "BldgGrade      106106.963079"
      ]
     },
     "execution_count": 699,
     "metadata": {},
     "output_type": "execute_result"
    }
   ],
   "source": [
    "coefs"
   ]
  },
  {
   "cell_type": "code",
   "execution_count": 700,
   "metadata": {},
   "outputs": [
    {
     "data": {
      "text/html": [
       "<div>\n",
       "<style scoped>\n",
       "    .dataframe tbody tr th:only-of-type {\n",
       "        vertical-align: middle;\n",
       "    }\n",
       "\n",
       "    .dataframe tbody tr th {\n",
       "        vertical-align: top;\n",
       "    }\n",
       "\n",
       "    .dataframe thead th {\n",
       "        text-align: right;\n",
       "    }\n",
       "</style>\n",
       "<table border=\"1\" class=\"dataframe\">\n",
       "  <thead>\n",
       "    <tr style=\"text-align: right;\">\n",
       "      <th></th>\n",
       "      <th>predictors</th>\n",
       "      <th>coefficients</th>\n",
       "    </tr>\n",
       "  </thead>\n",
       "  <tbody>\n",
       "    <tr>\n",
       "      <th>0</th>\n",
       "      <td>SqFtTotLiving</td>\n",
       "      <td>210.612660</td>\n",
       "    </tr>\n",
       "    <tr>\n",
       "      <th>1</th>\n",
       "      <td>SqFtLot</td>\n",
       "      <td>0.454987</td>\n",
       "    </tr>\n",
       "    <tr>\n",
       "      <th>2</th>\n",
       "      <td>Bathrooms</td>\n",
       "      <td>5928.425640</td>\n",
       "    </tr>\n",
       "    <tr>\n",
       "      <th>3</th>\n",
       "      <td>Bedrooms</td>\n",
       "      <td>-41682.871841</td>\n",
       "    </tr>\n",
       "    <tr>\n",
       "      <th>4</th>\n",
       "      <td>BldgGrade</td>\n",
       "      <td>98541.183527</td>\n",
       "    </tr>\n",
       "    <tr>\n",
       "      <th>5</th>\n",
       "      <td>PropertyType_Single Family</td>\n",
       "      <td>19323.625288</td>\n",
       "    </tr>\n",
       "    <tr>\n",
       "      <th>6</th>\n",
       "      <td>PropertyType_Townhouse</td>\n",
       "      <td>-78198.720928</td>\n",
       "    </tr>\n",
       "    <tr>\n",
       "      <th>7</th>\n",
       "      <td>ZipGroup_1</td>\n",
       "      <td>53317.173307</td>\n",
       "    </tr>\n",
       "    <tr>\n",
       "      <th>8</th>\n",
       "      <td>ZipGroup_2</td>\n",
       "      <td>116251.588836</td>\n",
       "    </tr>\n",
       "    <tr>\n",
       "      <th>9</th>\n",
       "      <td>ZipGroup_3</td>\n",
       "      <td>178360.531788</td>\n",
       "    </tr>\n",
       "    <tr>\n",
       "      <th>10</th>\n",
       "      <td>ZipGroup_4</td>\n",
       "      <td>338408.601857</td>\n",
       "    </tr>\n",
       "    <tr>\n",
       "      <th>0</th>\n",
       "      <td>intercept</td>\n",
       "      <td>-666637.468568</td>\n",
       "    </tr>\n",
       "  </tbody>\n",
       "</table>\n",
       "</div>"
      ],
      "text/plain": [
       "                    predictors   coefficients\n",
       "0                SqFtTotLiving     210.612660\n",
       "1                      SqFtLot       0.454987\n",
       "2                    Bathrooms    5928.425640\n",
       "3                     Bedrooms  -41682.871841\n",
       "4                    BldgGrade   98541.183527\n",
       "5   PropertyType_Single Family   19323.625288\n",
       "6       PropertyType_Townhouse  -78198.720928\n",
       "7                   ZipGroup_1   53317.173307\n",
       "8                   ZipGroup_2  116251.588836\n",
       "9                   ZipGroup_3  178360.531788\n",
       "10                  ZipGroup_4  338408.601857\n",
       "0                    intercept -666637.468568"
      ]
     },
     "execution_count": 700,
     "metadata": {},
     "output_type": "execute_result"
    }
   ],
   "source": [
    "predictors = ['SqFtTotLiving','SqFtLot','Bathrooms','Bedrooms', 'BldgGrade', 'PropertyType', 'ZipGroup']\n",
    "\n",
    "X = pd.get_dummies(house[predictors], drop_first=True)\n",
    "confounding_lm = LinearRegression()\n",
    "confounding_lm.fit(X, house[outcome])\n",
    "\n",
    "pd.concat([\n",
    "    pd.DataFrame({\n",
    "    'predictors': X.columns,\n",
    "    'coefficients' : confounding_lm.coef_\n",
    "}),\n",
    "pd.DataFrame({\n",
    "    'predictors': ['intercept'],\n",
    "    'coefficients': confounding_lm.intercept_\n",
    "})\n",
    "])\n"
   ]
  },
  {
   "cell_type": "markdown",
   "metadata": {},
   "source": [
    "ZipGroup is clearly an important variable: a home in the most expensive zip code group is estimated to have a higher sales price by almost $340,000. The coefficients of SqFtLot and Bathrooms are now positive, and adding a bathroom increases the sale price by $5,928.\n",
    "\n",
    "The coefficient of Bedrooms is still negative. While this is unintuitive, this is a well-known phenomenon in real estate. For homes of the same livable area and the number of bathrooms, having more and therefore smaller bedrooms is associated with less valuable homes."
   ]
  },
  {
   "cell_type": "markdown",
   "metadata": {},
   "source": [
    "<b><h4>Interaction and Main Effects</h4></b>\n",
    "\n",
    "Statisticians like to distinguish between main effects, or independent variables, and the interactions between main effects. Main effects are what are often referred to as the predictor variables in the regression equation. An implicit assumption when only main effects are used in a model is that the relationship between a predictor variable and response is independent of the other predictor variables. This is often not the case.\n",
    "\n",
    "In the model fit to the King County Housing Data under \"Confounding Variables\", includes several variables as main effects, including ZipCode. Location in real estate is everything, and it is natural to presume that the relationship between, say, house size and sale price depends on location. A big house built in a low-rent district is not going to retain the same value as a big house in an expensive area.\n",
    "\n",
    "In Python, we need to use the statsmodels package to train linear regression models with interactions. This package was designed similar to R and allows defining models using a formula interface. The statsmodels package automatically resolves categorical variables into dummy variables (eg ZipGroup[T.1], PropertyType[T.Single Family]) as well as interaction terms (eg SqFtTotLiving:ZipGroup[T.1]). Location and house size appear to have a strong interaction. "
   ]
  },
  {
   "cell_type": "code",
   "execution_count": 701,
   "metadata": {},
   "outputs": [
    {
     "data": {
      "text/html": [
       "<table class=\"simpletable\">\n",
       "<caption>OLS Regression Results</caption>\n",
       "<tr>\n",
       "  <th>Dep. Variable:</th>      <td>AdjSalePrice</td>   <th>  R-squared:         </th>  <td>   0.682</td>  \n",
       "</tr>\n",
       "<tr>\n",
       "  <th>Model:</th>                   <td>OLS</td>       <th>  Adj. R-squared:    </th>  <td>   0.682</td>  \n",
       "</tr>\n",
       "<tr>\n",
       "  <th>Method:</th>             <td>Least Squares</td>  <th>  F-statistic:       </th>  <td>   3247.</td>  \n",
       "</tr>\n",
       "<tr>\n",
       "  <th>Date:</th>             <td>Tue, 19 Sep 2023</td> <th>  Prob (F-statistic):</th>   <td>  0.00</td>   \n",
       "</tr>\n",
       "<tr>\n",
       "  <th>Time:</th>                 <td>11:47:07</td>     <th>  Log-Likelihood:    </th> <td>-3.1098e+05</td>\n",
       "</tr>\n",
       "<tr>\n",
       "  <th>No. Observations:</th>      <td> 22687</td>      <th>  AIC:               </th>  <td>6.220e+05</td> \n",
       "</tr>\n",
       "<tr>\n",
       "  <th>Df Residuals:</th>          <td> 22671</td>      <th>  BIC:               </th>  <td>6.221e+05</td> \n",
       "</tr>\n",
       "<tr>\n",
       "  <th>Df Model:</th>              <td>    15</td>      <th>                     </th>      <td> </td>     \n",
       "</tr>\n",
       "<tr>\n",
       "  <th>Covariance Type:</th>      <td>nonrobust</td>    <th>                     </th>      <td> </td>     \n",
       "</tr>\n",
       "</table>\n",
       "<table class=\"simpletable\">\n",
       "<tr>\n",
       "                <td></td>                   <th>coef</th>     <th>std err</th>      <th>t</th>      <th>P>|t|</th>  <th>[0.025</th>    <th>0.975]</th>  \n",
       "</tr>\n",
       "<tr>\n",
       "  <th>Intercept</th>                     <td>-4.853e+05</td> <td> 2.05e+04</td> <td>  -23.701</td> <td> 0.000</td> <td>-5.25e+05</td> <td>-4.45e+05</td>\n",
       "</tr>\n",
       "<tr>\n",
       "  <th>ZipGroup[T.1]</th>                 <td>-1.113e+04</td> <td> 1.34e+04</td> <td>   -0.830</td> <td> 0.407</td> <td>-3.74e+04</td> <td> 1.52e+04</td>\n",
       "</tr>\n",
       "<tr>\n",
       "  <th>ZipGroup[T.2]</th>                 <td> 2.032e+04</td> <td> 1.18e+04</td> <td>    1.717</td> <td> 0.086</td> <td>-2877.441</td> <td> 4.35e+04</td>\n",
       "</tr>\n",
       "<tr>\n",
       "  <th>ZipGroup[T.3]</th>                 <td>  2.05e+04</td> <td> 1.21e+04</td> <td>    1.697</td> <td> 0.090</td> <td>-3180.870</td> <td> 4.42e+04</td>\n",
       "</tr>\n",
       "<tr>\n",
       "  <th>ZipGroup[T.4]</th>                 <td>-1.499e+05</td> <td> 1.13e+04</td> <td>  -13.285</td> <td> 0.000</td> <td>-1.72e+05</td> <td>-1.28e+05</td>\n",
       "</tr>\n",
       "<tr>\n",
       "  <th>PropertyType[T.Single Family]</th> <td> 1.357e+04</td> <td> 1.39e+04</td> <td>    0.975</td> <td> 0.330</td> <td>-1.37e+04</td> <td> 4.09e+04</td>\n",
       "</tr>\n",
       "<tr>\n",
       "  <th>PropertyType[T.Townhouse]</th>     <td>-5.884e+04</td> <td> 1.51e+04</td> <td>   -3.888</td> <td> 0.000</td> <td>-8.85e+04</td> <td>-2.92e+04</td>\n",
       "</tr>\n",
       "<tr>\n",
       "  <th>SqFtTotLiving</th>                 <td>  114.7650</td> <td>    4.863</td> <td>   23.600</td> <td> 0.000</td> <td>  105.233</td> <td>  124.297</td>\n",
       "</tr>\n",
       "<tr>\n",
       "  <th>SqFtTotLiving:ZipGroup[T.1]</th>   <td>   32.6043</td> <td>    5.712</td> <td>    5.708</td> <td> 0.000</td> <td>   21.409</td> <td>   43.799</td>\n",
       "</tr>\n",
       "<tr>\n",
       "  <th>SqFtTotLiving:ZipGroup[T.2]</th>   <td>   41.7822</td> <td>    5.187</td> <td>    8.056</td> <td> 0.000</td> <td>   31.616</td> <td>   51.948</td>\n",
       "</tr>\n",
       "<tr>\n",
       "  <th>SqFtTotLiving:ZipGroup[T.3]</th>   <td>   69.3415</td> <td>    5.619</td> <td>   12.341</td> <td> 0.000</td> <td>   58.329</td> <td>   80.354</td>\n",
       "</tr>\n",
       "<tr>\n",
       "  <th>SqFtTotLiving:ZipGroup[T.4]</th>   <td>  226.6836</td> <td>    4.820</td> <td>   47.032</td> <td> 0.000</td> <td>  217.237</td> <td>  236.131</td>\n",
       "</tr>\n",
       "<tr>\n",
       "  <th>SqFtLot</th>                       <td>    0.6869</td> <td>    0.052</td> <td>   13.296</td> <td> 0.000</td> <td>    0.586</td> <td>    0.788</td>\n",
       "</tr>\n",
       "<tr>\n",
       "  <th>Bathrooms</th>                     <td>-3619.4533</td> <td> 3202.296</td> <td>   -1.130</td> <td> 0.258</td> <td>-9896.174</td> <td> 2657.267</td>\n",
       "</tr>\n",
       "<tr>\n",
       "  <th>Bedrooms</th>                      <td> -4.18e+04</td> <td> 2120.279</td> <td>  -19.715</td> <td> 0.000</td> <td> -4.6e+04</td> <td>-3.76e+04</td>\n",
       "</tr>\n",
       "<tr>\n",
       "  <th>BldgGrade</th>                     <td> 1.047e+05</td> <td> 2069.472</td> <td>   50.592</td> <td> 0.000</td> <td> 1.01e+05</td> <td> 1.09e+05</td>\n",
       "</tr>\n",
       "</table>\n",
       "<table class=\"simpletable\">\n",
       "<tr>\n",
       "  <th>Omnibus:</th>       <td>30927.394</td> <th>  Durbin-Watson:     </th>   <td>   1.581</td>  \n",
       "</tr>\n",
       "<tr>\n",
       "  <th>Prob(Omnibus):</th>  <td> 0.000</td>   <th>  Jarque-Bera (JB):  </th> <td>34361794.502</td>\n",
       "</tr>\n",
       "<tr>\n",
       "  <th>Skew:</th>           <td> 7.279</td>   <th>  Prob(JB):          </th>   <td>    0.00</td>  \n",
       "</tr>\n",
       "<tr>\n",
       "  <th>Kurtosis:</th>       <td>193.101</td>  <th>  Cond. No.          </th>   <td>5.80e+05</td>  \n",
       "</tr>\n",
       "</table><br/><br/>Notes:<br/>[1] Standard Errors assume that the covariance matrix of the errors is correctly specified.<br/>[2] The condition number is large, 5.8e+05. This might indicate that there are<br/>strong multicollinearity or other numerical problems."
      ],
      "text/plain": [
       "<class 'statsmodels.iolib.summary.Summary'>\n",
       "\"\"\"\n",
       "                            OLS Regression Results                            \n",
       "==============================================================================\n",
       "Dep. Variable:           AdjSalePrice   R-squared:                       0.682\n",
       "Model:                            OLS   Adj. R-squared:                  0.682\n",
       "Method:                 Least Squares   F-statistic:                     3247.\n",
       "Date:                Tue, 19 Sep 2023   Prob (F-statistic):               0.00\n",
       "Time:                        11:47:07   Log-Likelihood:            -3.1098e+05\n",
       "No. Observations:               22687   AIC:                         6.220e+05\n",
       "Df Residuals:                   22671   BIC:                         6.221e+05\n",
       "Df Model:                          15                                         \n",
       "Covariance Type:            nonrobust                                         \n",
       "=================================================================================================\n",
       "                                    coef    std err          t      P>|t|      [0.025      0.975]\n",
       "-------------------------------------------------------------------------------------------------\n",
       "Intercept                     -4.853e+05   2.05e+04    -23.701      0.000   -5.25e+05   -4.45e+05\n",
       "ZipGroup[T.1]                 -1.113e+04   1.34e+04     -0.830      0.407   -3.74e+04    1.52e+04\n",
       "ZipGroup[T.2]                  2.032e+04   1.18e+04      1.717      0.086   -2877.441    4.35e+04\n",
       "ZipGroup[T.3]                   2.05e+04   1.21e+04      1.697      0.090   -3180.870    4.42e+04\n",
       "ZipGroup[T.4]                 -1.499e+05   1.13e+04    -13.285      0.000   -1.72e+05   -1.28e+05\n",
       "PropertyType[T.Single Family]  1.357e+04   1.39e+04      0.975      0.330   -1.37e+04    4.09e+04\n",
       "PropertyType[T.Townhouse]     -5.884e+04   1.51e+04     -3.888      0.000   -8.85e+04   -2.92e+04\n",
       "SqFtTotLiving                   114.7650      4.863     23.600      0.000     105.233     124.297\n",
       "SqFtTotLiving:ZipGroup[T.1]      32.6043      5.712      5.708      0.000      21.409      43.799\n",
       "SqFtTotLiving:ZipGroup[T.2]      41.7822      5.187      8.056      0.000      31.616      51.948\n",
       "SqFtTotLiving:ZipGroup[T.3]      69.3415      5.619     12.341      0.000      58.329      80.354\n",
       "SqFtTotLiving:ZipGroup[T.4]     226.6836      4.820     47.032      0.000     217.237     236.131\n",
       "SqFtLot                           0.6869      0.052     13.296      0.000       0.586       0.788\n",
       "Bathrooms                     -3619.4533   3202.296     -1.130      0.258   -9896.174    2657.267\n",
       "Bedrooms                       -4.18e+04   2120.279    -19.715      0.000    -4.6e+04   -3.76e+04\n",
       "BldgGrade                      1.047e+05   2069.472     50.592      0.000    1.01e+05    1.09e+05\n",
       "==============================================================================\n",
       "Omnibus:                    30927.394   Durbin-Watson:                   1.581\n",
       "Prob(Omnibus):                  0.000   Jarque-Bera (JB):         34361794.502\n",
       "Skew:                           7.279   Prob(JB):                         0.00\n",
       "Kurtosis:                     193.101   Cond. No.                     5.80e+05\n",
       "==============================================================================\n",
       "\n",
       "Notes:\n",
       "[1] Standard Errors assume that the covariance matrix of the errors is correctly specified.\n",
       "[2] The condition number is large, 5.8e+05. This might indicate that there are\n",
       "strong multicollinearity or other numerical problems.\n",
       "\"\"\""
      ]
     },
     "execution_count": 701,
     "metadata": {},
     "output_type": "execute_result"
    }
   ],
   "source": [
    "model = smf.ols(formula='AdjSalePrice ~  SqFtTotLiving*ZipGroup + SqFtLot + ' +\n",
    "     'Bathrooms + Bedrooms + BldgGrade + PropertyType', data=house)\n",
    "results = model.fit()\n",
    "results.summary()"
   ]
  },
  {
   "cell_type": "markdown",
   "metadata": {},
   "source": [
    "<b><h3>Regression Diagnostics</h3></b>\n"
   ]
  },
  {
   "cell_type": "markdown",
   "metadata": {},
   "source": [
    "<b><h4>Outliers</h4></b>\n",
    "\n",
    "An extreme value, also called an outlier, is one that is distant from most of the other observations. Just as outliers need too be handled for location and variability, outliers can cause problems with regression models. In regression, an outlier is a record whose actual y value is distant from the predicted value. You can detect outliers by examining the standard residual, which is the residual divided by the stadnard error of the residuals. In boxplot, outliers can be considered to be points that are more than 1.5 times the interquartile range. In regression, the standardized residual is the metric that is typically used to determine whether a record is classified as an outlier. Standardized residuals can be interpreted as the \"number of standard errors away from the regression\". In Python, using the statsmodels, use the OLSInfluence() to analyze the residuals. \n",
    "\n",
    "The biggest overestimate from the model is more than four standard errors above the regression line, corresponding to an overestimate of $757,754. In this case, a house of that size sells for much more than $119,748 in that zip code.\n",
    "\n",
    "Outliers could also be the result of other problems, such as a \"fat-finger\" data entry or a mismatch of units. For big data problems, outliers are generally not a problem in fitting the regression to be used in predicting new data. However, outliers are central to anomaly detection, where finding outliers is the whole point. The outlier could also correspond to a case of fraud or an accidental action. In any case, detecting outliers can be a critical business need."
   ]
  },
  {
   "cell_type": "code",
   "execution_count": 702,
   "metadata": {},
   "outputs": [
    {
     "data": {
      "text/plain": [
       "(313, 25)"
      ]
     },
     "execution_count": 702,
     "metadata": {},
     "output_type": "execute_result"
    }
   ],
   "source": [
    "house_98105 = house.loc[house['ZipCode'] == 98105,]\n",
    "house_98105.shape"
   ]
  },
  {
   "cell_type": "code",
   "execution_count": 703,
   "metadata": {},
   "outputs": [],
   "source": [
    "predictors = ['SqFtTotLiving', 'SqFtLot', 'Bathrooms', 'Bedrooms', 'BldgGrade']\n",
    "house_outlier = sm.OLS(house_98105[outcome], house_98105[predictors].assign(const=1))\n",
    "result_98105 = house_outlier.fit()"
   ]
  },
  {
   "cell_type": "code",
   "execution_count": 704,
   "metadata": {},
   "outputs": [
    {
     "data": {
      "text/plain": [
       "(24333, -4.3267318040785625)"
      ]
     },
     "execution_count": 704,
     "metadata": {},
     "output_type": "execute_result"
    }
   ],
   "source": [
    "influence = OLSInfluence(result_98105)\n",
    "sresiduals = influence.resid_studentized_internal\n",
    "sresiduals.idxmin(), sresiduals.min()"
   ]
  },
  {
   "cell_type": "code",
   "execution_count": 705,
   "metadata": {},
   "outputs": [
    {
     "name": "stdout",
     "output_type": "stream",
     "text": [
      "-757753.6192115826\n"
     ]
    }
   ],
   "source": [
    "print(result_98105.resid.loc[sresiduals.idxmin()])"
   ]
  },
  {
   "cell_type": "code",
   "execution_count": 706,
   "metadata": {},
   "outputs": [
    {
     "data": {
      "text/plain": [
       "10007.93117042663"
      ]
     },
     "execution_count": 706,
     "metadata": {},
     "output_type": "execute_result"
    }
   ],
   "source": [
    "result_98105.resid.std()/np.sqrt(len(result_98105.resid))"
   ]
  },
  {
   "cell_type": "code",
   "execution_count": 707,
   "metadata": {},
   "outputs": [
    {
     "data": {
      "text/plain": [
       "<Axes: >"
      ]
     },
     "execution_count": 707,
     "metadata": {},
     "output_type": "execute_result"
    },
    {
     "data": {
      "image/png": "[encoded data removed]",
      "text/plain": [
       "<Figure size 640x480 with 1 Axes>"
      ]
     },
     "metadata": {},
     "output_type": "display_data"
    }
   ],
   "source": [
    "pd.DataFrame(result_98105.resid).boxplot()"
   ]
  },
  {
   "cell_type": "code",
   "execution_count": 708,
   "metadata": {},
   "outputs": [
    {
     "name": "stdout",
     "output_type": "stream",
     "text": [
      "AdjSalePrice : 119748.0\n",
      "SqFtTotLiving    2900\n",
      "SqFtLot          7276\n",
      "Bathrooms         3.0\n",
      "Bedrooms            6\n",
      "BldgGrade           7\n",
      "Name: 24333, dtype: object\n"
     ]
    }
   ],
   "source": [
    "outlier = house_98105.loc[sresiduals.idxmin(), :]\n",
    "print('AdjSalePrice :', outlier[outcome])\n",
    "print(outlier[predictors])"
   ]
  },
  {
   "cell_type": "markdown",
   "metadata": {},
   "source": [
    "<b><h4>Influential Values</h4></b>\n",
    "\n",
    "A value whose absence would significantly change the regression equation is termed an influential observation. In regression, such a value need not be associated with a large residual. Such a value is said to hve high leverage on the regression. A common measure of leverage is the hat-value; values above 2(P + 1)/n indicate a high-leverage data value.\n",
    "Another metric is Cook's distance, which defines influence as a combination of levrage and residual size. A rule of thumb is that an observation has high influence if Cook's distance exceeds 4/(n-P-1).\n",
    "\n",
    "An influence plot or bubble plot combines standardized residuals, the hat-value and Cook's distance in a single plot. The hat values are plotted on the x-asix, the residuals are plotted on the y-axis, and the size of the points is related to the value of Cook's distance."
   ]
  },
  {
   "cell_type": "code",
   "execution_count": 709,
   "metadata": {},
   "outputs": [
    {
     "data": {
      "text/plain": [
       "Text(0, 0.5, 'studentized residuals')"
      ]
     },
     "execution_count": 709,
     "metadata": {},
     "output_type": "execute_result"
    },
    {
     "data": {
      "image/png": "[encoded data removed]",
      "text/plain": [
       "<Figure size 500x500 with 1 Axes>"
      ]
     },
     "metadata": {},
     "output_type": "display_data"
    }
   ],
   "source": [
    "influence = OLSInfluence(result_98105)\n",
    "fig, ax = plt.subplots(figsize=(5,5))\n",
    "ax.axhline(-2.5, linestyle='--', color='C1')\n",
    "ax.axhline(2.5, linestyle='--', color='C1')\n",
    "ax.scatter(influence.hat_matrix_diag, influence.resid_studentized_internal, \n",
    "s=1000*np.sqrt(influence.cooks_distance[0]), alpha=0.5)\n",
    "ax.set_xlabel('hat values')\n",
    "ax.set_ylabel('studentized residuals')"
   ]
  },
  {
   "cell_type": "code",
   "execution_count": 710,
   "metadata": {},
   "outputs": [
    {
     "data": {
      "text/html": [
       "<div>\n",
       "<style scoped>\n",
       "    .dataframe tbody tr th:only-of-type {\n",
       "        vertical-align: middle;\n",
       "    }\n",
       "\n",
       "    .dataframe tbody tr th {\n",
       "        vertical-align: top;\n",
       "    }\n",
       "\n",
       "    .dataframe thead th {\n",
       "        text-align: right;\n",
       "    }\n",
       "</style>\n",
       "<table border=\"1\" class=\"dataframe\">\n",
       "  <thead>\n",
       "    <tr style=\"text-align: right;\">\n",
       "      <th></th>\n",
       "      <th>Original</th>\n",
       "      <th>Influential removed</th>\n",
       "    </tr>\n",
       "  </thead>\n",
       "  <tbody>\n",
       "    <tr>\n",
       "      <th>SqFtTotLiving</th>\n",
       "      <td>209.602346</td>\n",
       "      <td>209.602346</td>\n",
       "    </tr>\n",
       "    <tr>\n",
       "      <th>SqFtLot</th>\n",
       "      <td>38.933315</td>\n",
       "      <td>38.933315</td>\n",
       "    </tr>\n",
       "    <tr>\n",
       "      <th>Bathrooms</th>\n",
       "      <td>2282.264145</td>\n",
       "      <td>2282.264145</td>\n",
       "    </tr>\n",
       "    <tr>\n",
       "      <th>Bedrooms</th>\n",
       "      <td>-26320.268796</td>\n",
       "      <td>-26320.268796</td>\n",
       "    </tr>\n",
       "    <tr>\n",
       "      <th>BldgGrade</th>\n",
       "      <td>130000.099737</td>\n",
       "      <td>130000.099737</td>\n",
       "    </tr>\n",
       "    <tr>\n",
       "      <th>const</th>\n",
       "      <td>-772549.862447</td>\n",
       "      <td>-772549.862447</td>\n",
       "    </tr>\n",
       "  </tbody>\n",
       "</table>\n",
       "</div>"
      ],
      "text/plain": [
       "                    Original  Influential removed\n",
       "SqFtTotLiving     209.602346           209.602346\n",
       "SqFtLot            38.933315            38.933315\n",
       "Bathrooms        2282.264145          2282.264145\n",
       "Bedrooms       -26320.268796        -26320.268796\n",
       "BldgGrade      130000.099737        130000.099737\n",
       "const         -772549.862447       -772549.862447"
      ]
     },
     "execution_count": 710,
     "metadata": {},
     "output_type": "execute_result"
    }
   ],
   "source": [
    "mask = [dist < 0.8 for dist in influence.cooks_distance[0]]\n",
    "house_infl = house_98105[mask]\n",
    "\n",
    "ols_infl = sm.OLS(house_infl[outcome], house_infl[predictors].assign(const=1))\n",
    "result = ols_infl.fit()\n",
    "\n",
    "pd.DataFrame({\n",
    "    'Original' : result_98105.params,\n",
    "    'Influential removed' : result.params\n",
    "})"
   ]
  },
  {
   "cell_type": "markdown",
   "metadata": {},
   "source": [
    "The coefficient for Bathrooms changes quite dramatically after influential data points are removed. The coefficient for Bathrooms becomes negative, which is unintuitive. Location has not been taken into account (confounding variable), and the zip code 98105 contains areas of disparate types of homes . For purposes of fitting a regression that reliably predicts future data, identifying influential observations is useful only in smaller data sets. For regressions involving many records, it is unlikely that any one observation will carry sufficient weight to cause extreme influence on the fitted equation (although the regression may still have big outliers). For purposes of anomaly detection, though, identifying influential observations can be very useful."
   ]
  },
  {
   "cell_type": "markdown",
   "metadata": {},
   "source": [
    "<b><h4>Heteroskedasticity, Non-Normality, and Correlated Errors</h4></b>\n",
    "\n",
    "Statisticians pay considerable attention to the distribution of the residuals. It turns out that ordinary least squares, are unbiased, and in some cases are the \"optimal\" estimator, under a wide range of distributional assumptions. This means that in most problems, data scientists do not need to be too concerned with the distribution of the residuals.\n",
    "\n",
    "The distribution of residuals is relevant mainly for the validity of formal statistical inference (hypothesis tests and p-values), which is of minimal importance to data scientists concerned mainly with predictive accuracy. Normally distributed errors are a sign that the model is complete. errors that are not normally distributed indicate the model may be missing something. For formal inference to be fully valid, the residuals are assumed to be normally distributed, have the same variance, and be independent. One area where this may be of concertn to data scientists is the standard calculation of confidence intervals for predicted values, which are based upon the assumptions about the residuals.\n",
    "\n",
    "Heteroskedasticity is the lack of constant residual variance across the range of the predicted values. In other words, the errors are greater for some portions of the range than for others. Visualizing the data is a convenient way to analyze the residuals. In Python, the seaborn package has the regplot function to create such visualizations."
   ]
  },
  {
   "cell_type": "code",
   "execution_count": 711,
   "metadata": {},
   "outputs": [
    {
     "data": {
      "text/plain": [
       "Text(0, 0.5, 'abs(result)')"
      ]
     },
     "execution_count": 711,
     "metadata": {},
     "output_type": "execute_result"
    },
    {
     "data": {
      "image/png": "[encoded data removed]",
      "text/plain": [
       "<Figure size 500x500 with 1 Axes>"
      ]
     },
     "metadata": {},
     "output_type": "display_data"
    }
   ],
   "source": [
    "fig, ax = plt.subplots(figsize=(5,5))\n",
    "sns.regplot(x=result_98105.fittedvalues, y=np.abs(result_98105.resid), \n",
    "    scatter_kws={'alpha':0.25}, line_kws={'color':'C1'}, lowess=True, ax=ax)\n",
    "ax.set_xlabel('predicted')\n",
    "ax.set_ylabel('abs(result)')"
   ]
  },
  {
   "cell_type": "markdown",
   "metadata": {},
   "source": [
    "Evidently the variance of the residuals tend to increase for higher-valued homes but is also large for lower-valued homes. This plot indicates that model lm_98105 has heteroskedastic errors. The plot above was made using the seaborn function regplot(), which plots data and a linear regression fit. The x is the fitted values resulting from lm_98105, the y is the absolute of the residuals from the same model, scatter plot's (data) properties are provided to the scatter_kws argument, the line plot's (regression) properties are provided to the line_kws keyword argument, and the regression line is provided by fitting the x values using lowest weighted regression via statsmodels so we set the lowess argument parameter to True.\n",
    "\n",
    "Heteroskedasticity indicates that prediction errors differ for different ranges of the predicted value, and may suggest an incomplete model. For example,the heteroskedasticity in lm_98105 may indicate that the regression has left something unaccounted for in high and low-range homes."
   ]
  },
  {
   "cell_type": "code",
   "execution_count": 712,
   "metadata": {},
   "outputs": [
    {
     "data": {
      "image/png": "[encoded data removed]",
      "text/plain": [
       "<Figure size 400x400 with 1 Axes>"
      ]
     },
     "metadata": {},
     "output_type": "display_data"
    }
   ],
   "source": [
    "fig, ax = plt.subplots(figsize=(4,4))\n",
    "pd.Series(influence.resid_studentized_internal).hist(ax=ax)\n",
    "ax.set_xlabel('std. residual')\n",
    "ax.set_ylabel('Frequency')\n",
    "plt.tight_layout()"
   ]
  },
  {
   "cell_type": "markdown",
   "metadata": {},
   "source": [
    "The plot above is a histogram of the standardized residuals for the lm_98105 regression. The distribution has decidedly longer tails than the normal distribution and exhibits mild skewness toward larger residuals.\n",
    "\n",
    "Statisticiand may also check the assumption that the errors are independent. This is particularly true for data that is collected over time or space. The <em>Durbin-Watson</em> statistic can be used to detect if thee is significant autocorrelation in a regression involving time series data. If the errors from a regression model are correlated, then this information can be useful in making short-term forecasts and should be built into the model."
   ]
  },
  {
   "cell_type": "markdown",
   "metadata": {},
   "source": [
    "<b><h4>Scatter Smoothers</h4></b>\n",
    "\n",
    "Regression is about modeling the relationship between the response and predictor variables. In evaluating a regression model, it is useful to use a scatterplot smoother to visually highlight relationships between two variables. In the residual plot above, a smooth of this relationship between the absolute residuals and the predicted value shows that the variance of the residuals depends on the value of the residual. In this case, the <em>loess</em> function was used; <em>loess</em> works by repeatedly fitting a series of local regressions to contiguous subsets to come up with a smooth. While <em>loess</em> is probably the most commonly used smoother, other scatterplot smoothers are available. In Python, we can find additional smoothers in <em>scipy (wiener or sav)</em> and statsmodels (kernel_regression). For the purposes of evaluating a regression model, there is typically no need to worry about the details of these scatterplot smooths."
   ]
  },
  {
   "cell_type": "markdown",
   "metadata": {},
   "source": [
    "<b><h4>Partial Residual Plots and Nonlinearity</h4></b>\n",
    "\n",
    "Partial residual plots are a way to visualize how well the estimated fit explains the relationship between a predictor and the outcome. The basic idea of a partial residual plot is to isolate the relationship between a predictor variable and the response, taking into account all of the other predictor variables. A partial residual might be thought of as a synthetic outcome value, combining the prediction based on a single predictor with the actual residual from the full regression equatioin. A partial residual for the predictor $X_i$ is the ordinary residual plus the regression term associated with $X_i$.\n",
    "\n",
    "$Partial\\;residual$ = $Residual\\;+\\; \\hat b_iX_i$\n",
    "\n",
    "where $\\hat b_i$ is the estimated regression coefficient. The partial residual plot displays the $X_i$ predictor on thhe x-axis and the partial residual on the y-axis. The statsmodels package has the method <em>sm.graphics.plot_ccpr</em> that creates a partial residual plot for a specified column. We use <em>sm.graphics.plot_ccpr_grid()</em> to create partial residual plots for all columns."
   ]
  },
  {
   "cell_type": "code",
   "execution_count": 713,
   "metadata": {},
   "outputs": [
    {
     "data": {
      "image/png": "[encoded data removed]",
      "text/plain": [
       "<Figure size 500x500 with 1 Axes>"
      ]
     },
     "metadata": {},
     "output_type": "display_data"
    }
   ],
   "source": [
    "fig, ax = plt.subplots(figsize=(5,5))\n",
    "sm.graphics.plot_ccpr(result_98105, 'SqFtTotLiving', ax=ax) # plot one predictor\n",
    "plt.tight_layout()"
   ]
  },
  {
   "cell_type": "markdown",
   "metadata": {},
   "source": [
    "The partial residual plot above is an estimate of the contribution that SqFtTotLiving adds to the sales price. The relationship between SqFtTotLiving and sales price is evidently nonlinear (scatter pattern). The regression line underestimates the sales price for homes between 2,000 and 3,000 square feet. There are too few data points above 4,000 square feet to draw conclusions for those homes.\n",
    "\n",
    "The nonlinearity makes sense in this case: adding 500 feet in a small home makes a much bigger difference than adding 500 feet in a large home. This suggests that instead of a simple linear term for SqFtTotLiving, a nonlinear term should be considered."
   ]
  },
  {
   "cell_type": "code",
   "execution_count": 714,
   "metadata": {},
   "outputs": [
    {
     "data": {
      "image/png": "[encoded data removed]",
      "text/plain": [
       "<Figure size 800x1200 with 5 Axes>"
      ]
     },
     "metadata": {},
     "output_type": "display_data"
    }
   ],
   "source": [
    "fig = plt.figure(figsize=(8, 12))\n",
    "fig = sm.graphics.plot_ccpr_grid(result_98105, fig=fig) # plot all predictors, result_98105 is an sm OLS object"
   ]
  },
  {
   "cell_type": "markdown",
   "metadata": {},
   "source": [
    "<b><h3>Polynomial and Spline Regression</h3></b>\n",
    "\n",
    "The relationship between the response and a predictor variable isn't necessarily linear. The response to the dose of a drug is often nonlinear: doubling the dose generally doesnt lead to a doubled response. The demand for a product isnt a linear function of marketing dollars spent;, at some point, demand is likely to be saturated. There are many ways that regression can be extended to capture these nonlinear effects.\n",
    "\n",
    "When statisticians talk about nonlinear regression, they are referring to models that can't be fit using least squares. What kind of models are nonlinear? Essentially all models where the response cannot be expressed as a linear combination of the predictors or some transform of the predictors. Nonlinear regression models are harder and computationally more intensive to fit, since they require numerical optimization. For this reason, it is generally preferred to use a linear model if possible."
   ]
  },
  {
   "cell_type": "markdown",
   "metadata": {},
   "source": [
    "<b><h4>Polynomial</h4></b>\n",
    "\n",
    "<em>Polynomial regression</em> involves including polynomial terms in a regression equation. For example, a quadratic regression between the response $Y$ and the predictor $X$ would take the form:\n",
    "\n",
    "$Y$ = $b_0\\;+\\;b_1X\\;+\\;b_2X^2\\;+\\;e$\n",
    "\n",
    "In statsmodels, we use the formula to add the squared term to the model definition using I(SqFtTotLiving**2). When we do this, there are now two coefficients associated with SqFtTotLiving: one for the linear term and one for the quadratic term. "
   ]
  },
  {
   "cell_type": "code",
   "execution_count": 716,
   "metadata": {},
   "outputs": [
    {
     "data": {
      "text/html": [
       "<table class=\"simpletable\">\n",
       "<caption>OLS Regression Results</caption>\n",
       "<tr>\n",
       "  <th>Dep. Variable:</th>      <td>AdjSalePrice</td>   <th>  R-squared:         </th> <td>   0.806</td> \n",
       "</tr>\n",
       "<tr>\n",
       "  <th>Model:</th>                   <td>OLS</td>       <th>  Adj. R-squared:    </th> <td>   0.802</td> \n",
       "</tr>\n",
       "<tr>\n",
       "  <th>Method:</th>             <td>Least Squares</td>  <th>  F-statistic:       </th> <td>   211.6</td> \n",
       "</tr>\n",
       "<tr>\n",
       "  <th>Date:</th>             <td>Tue, 19 Sep 2023</td> <th>  Prob (F-statistic):</th> <td>9.95e-106</td>\n",
       "</tr>\n",
       "<tr>\n",
       "  <th>Time:</th>                 <td>13:00:17</td>     <th>  Log-Likelihood:    </th> <td> -4217.9</td> \n",
       "</tr>\n",
       "<tr>\n",
       "  <th>No. Observations:</th>      <td>   313</td>      <th>  AIC:               </th> <td>   8450.</td> \n",
       "</tr>\n",
       "<tr>\n",
       "  <th>Df Residuals:</th>          <td>   306</td>      <th>  BIC:               </th> <td>   8476.</td> \n",
       "</tr>\n",
       "<tr>\n",
       "  <th>Df Model:</th>              <td>     6</td>      <th>                     </th>     <td> </td>    \n",
       "</tr>\n",
       "<tr>\n",
       "  <th>Covariance Type:</th>      <td>nonrobust</td>    <th>                     </th>     <td> </td>    \n",
       "</tr>\n",
       "</table>\n",
       "<table class=\"simpletable\">\n",
       "<tr>\n",
       "            <td></td>               <th>coef</th>     <th>std err</th>      <th>t</th>      <th>P>|t|</th>  <th>[0.025</th>    <th>0.975]</th>  \n",
       "</tr>\n",
       "<tr>\n",
       "  <th>Intercept</th>             <td>-6.159e+05</td> <td> 1.03e+05</td> <td>   -5.953</td> <td> 0.000</td> <td>-8.19e+05</td> <td>-4.12e+05</td>\n",
       "</tr>\n",
       "<tr>\n",
       "  <th>SqFtTotLiving</th>         <td>    7.4521</td> <td>   55.418</td> <td>    0.134</td> <td> 0.893</td> <td> -101.597</td> <td>  116.501</td>\n",
       "</tr>\n",
       "<tr>\n",
       "  <th>I(SqFtTotLiving ** 2)</th> <td>    0.0388</td> <td>    0.010</td> <td>    4.040</td> <td> 0.000</td> <td>    0.020</td> <td>    0.058</td>\n",
       "</tr>\n",
       "<tr>\n",
       "  <th>SqFtLot</th>               <td>   32.5594</td> <td>    5.436</td> <td>    5.990</td> <td> 0.000</td> <td>   21.863</td> <td>   43.256</td>\n",
       "</tr>\n",
       "<tr>\n",
       "  <th>Bathrooms</th>             <td>-1435.1231</td> <td> 1.95e+04</td> <td>   -0.074</td> <td> 0.941</td> <td>-3.99e+04</td> <td>  3.7e+04</td>\n",
       "</tr>\n",
       "<tr>\n",
       "  <th>Bedrooms</th>              <td>-9191.9441</td> <td> 1.33e+04</td> <td>   -0.693</td> <td> 0.489</td> <td>-3.53e+04</td> <td> 1.69e+04</td>\n",
       "</tr>\n",
       "<tr>\n",
       "  <th>BldgGrade</th>             <td> 1.357e+05</td> <td> 1.49e+04</td> <td>    9.087</td> <td> 0.000</td> <td> 1.06e+05</td> <td> 1.65e+05</td>\n",
       "</tr>\n",
       "</table>\n",
       "<table class=\"simpletable\">\n",
       "<tr>\n",
       "  <th>Omnibus:</th>       <td>75.161</td> <th>  Durbin-Watson:     </th> <td>   1.625</td> \n",
       "</tr>\n",
       "<tr>\n",
       "  <th>Prob(Omnibus):</th> <td> 0.000</td> <th>  Jarque-Bera (JB):  </th> <td> 637.978</td> \n",
       "</tr>\n",
       "<tr>\n",
       "  <th>Skew:</th>          <td> 0.699</td> <th>  Prob(JB):          </th> <td>2.92e-139</td>\n",
       "</tr>\n",
       "<tr>\n",
       "  <th>Kurtosis:</th>      <td> 9.853</td> <th>  Cond. No.          </th> <td>7.37e+07</td> \n",
       "</tr>\n",
       "</table><br/><br/>Notes:<br/>[1] Standard Errors assume that the covariance matrix of the errors is correctly specified.<br/>[2] The condition number is large, 7.37e+07. This might indicate that there are<br/>strong multicollinearity or other numerical problems."
      ],
      "text/plain": [
       "<class 'statsmodels.iolib.summary.Summary'>\n",
       "\"\"\"\n",
       "                            OLS Regression Results                            \n",
       "==============================================================================\n",
       "Dep. Variable:           AdjSalePrice   R-squared:                       0.806\n",
       "Model:                            OLS   Adj. R-squared:                  0.802\n",
       "Method:                 Least Squares   F-statistic:                     211.6\n",
       "Date:                Tue, 19 Sep 2023   Prob (F-statistic):          9.95e-106\n",
       "Time:                        13:00:17   Log-Likelihood:                -4217.9\n",
       "No. Observations:                 313   AIC:                             8450.\n",
       "Df Residuals:                     306   BIC:                             8476.\n",
       "Df Model:                           6                                         \n",
       "Covariance Type:            nonrobust                                         \n",
       "=========================================================================================\n",
       "                            coef    std err          t      P>|t|      [0.025      0.975]\n",
       "-----------------------------------------------------------------------------------------\n",
       "Intercept             -6.159e+05   1.03e+05     -5.953      0.000   -8.19e+05   -4.12e+05\n",
       "SqFtTotLiving             7.4521     55.418      0.134      0.893    -101.597     116.501\n",
       "I(SqFtTotLiving ** 2)     0.0388      0.010      4.040      0.000       0.020       0.058\n",
       "SqFtLot                  32.5594      5.436      5.990      0.000      21.863      43.256\n",
       "Bathrooms             -1435.1231   1.95e+04     -0.074      0.941   -3.99e+04     3.7e+04\n",
       "Bedrooms              -9191.9441   1.33e+04     -0.693      0.489   -3.53e+04    1.69e+04\n",
       "BldgGrade              1.357e+05   1.49e+04      9.087      0.000    1.06e+05    1.65e+05\n",
       "==============================================================================\n",
       "Omnibus:                       75.161   Durbin-Watson:                   1.625\n",
       "Prob(Omnibus):                  0.000   Jarque-Bera (JB):              637.978\n",
       "Skew:                           0.699   Prob(JB):                    2.92e-139\n",
       "Kurtosis:                       9.853   Cond. No.                     7.37e+07\n",
       "==============================================================================\n",
       "\n",
       "Notes:\n",
       "[1] Standard Errors assume that the covariance matrix of the errors is correctly specified.\n",
       "[2] The condition number is large, 7.37e+07. This might indicate that there are\n",
       "strong multicollinearity or other numerical problems.\n",
       "\"\"\""
      ]
     },
     "execution_count": 716,
     "metadata": {},
     "output_type": "execute_result"
    }
   ],
   "source": [
    "model_poly = smf.ols(\n",
    "    formula='AdjSalePrice ~ SqFtTotLiving +' +\n",
    "    '+ I(SqFtTotLiving**2) + ' +\n",
    "    'SqFtLot + Bathrooms + Bedrooms + BldgGrade', data=house_98105\n",
    ")\n",
    "\n",
    "result_poly = model_poly.fit()\n",
    "result_poly.summary()"
   ]
  },
  {
   "cell_type": "code",
   "execution_count": 719,
   "metadata": {},
   "outputs": [
    {
     "name": "stdout",
     "output_type": "stream",
     "text": [
      "0.038791281682365425\n"
     ]
    },
    {
     "data": {
      "image/png": "[encoded data removed]",
      "text/plain": [
       "<Figure size 500x500 with 1 Axes>"
      ]
     },
     "metadata": {},
     "output_type": "display_data"
    }
   ],
   "source": [
    "def partialResidualPlot(model, df, outcome, feature, ax):\n",
    "    y_pred = model.predict(df)\n",
    "    copy_df = df.copy()\n",
    "\n",
    "    for c in copy_df.columns:\n",
    "        if c == feature:\n",
    "            continue\n",
    "        copy_df[c] = 0.0  # all cols except SqFtTotLiving are 0\n",
    "\n",
    "    feature_prediction =  model.predict(copy_df)   # prediction only uses SqFtTotLiving, linear and polynomial \n",
    "\n",
    "    results = pd.DataFrame({\n",
    "        'feature' :  df[feature],   # feature column for polynomial modeling and residual plot\n",
    "        'residual' : df[outcome] - y_pred,  # residual with full model, Residual\n",
    "        'ypartial' : feature_prediction - model.params[0], # partial model pred minus intercept term = biXi\n",
    "    })\n",
    "\n",
    "    results = results.sort_values(by=['feature'])  # sort rows in ascending order of feature column\n",
    "    smoothed = sm.nonparametric.lowess(results.ypartial, results.feature, frac=1/3) # smooth biXi using lowess, \n",
    "    \n",
    "    ax.scatter(results.feature, results.ypartial + results.residual) # x = sorted col, y = Residual+biXi, partial\n",
    "    ax.plot(smoothed[:,0], smoothed[:,1], color ='gray' )       # plot biXi smoothed line (loess) column contribution\n",
    "    ax.plot(results.feature, results.ypartial, color='black')   # line plot biXi, contribution to model by feature\n",
    "    ax.set_xlabel(feature) \n",
    "    ax.set_ylabel(f\"Residual + {feature} contribution\")\n",
    "    return ax\n",
    "\n",
    "fig, ax = plt.subplots(figsize=(5,5))\n",
    "partialResidualPlot(result_poly, house_98105, 'AdjSalePrice', 'SqFtTotLiving', ax)\n",
    "\n",
    "plt.tight_layout()\n",
    "print(result_poly.params[2])"
   ]
  },
  {
   "cell_type": "markdown",
   "metadata": {},
   "source": [
    "The statsmodels function sm.graphics.plot_ccpr() only works for generating residual plots for linear models, but after fitting a polynomial model on SqFtTotLiving column, we use the function above to produce our own residual plot.\n",
    "\n",
    "The partial residual plot indicates some curvature in the regression equation associated with SqFtTotLiving. The fitted line more closely matches the smooth of the partial residuals as compared to a linear fit."
   ]
  },
  {
   "cell_type": "code",
   "execution_count": 724,
   "metadata": {},
   "outputs": [
    {
     "data": {
      "text/plain": [
       "Intercept               -615850.841791\n",
       "SqFtTotLiving                 7.452134\n",
       "I(SqFtTotLiving ** 2)         0.038791\n",
       "SqFtLot                      32.559355\n",
       "Bathrooms                 -1435.123106\n",
       "Bedrooms                  -9191.944128\n",
       "BldgGrade                135717.060127\n",
       "dtype: float64"
      ]
     },
     "execution_count": 724,
     "metadata": {},
     "output_type": "execute_result"
    }
   ],
   "source": [
    "result_poly.params"
   ]
  },
  {
   "cell_type": "markdown",
   "metadata": {},
   "source": [
    "<b><h4>Splines</h4></b>\n",
    "\n",
    "Polynomial regression captures only a certain amount of curvature in a nonlinear relationship. Adding in higher-order terms, such as cubic quartic polynomial, often leads to undesirable \"wiggliness\" in the regression equation. An alternative, and often superior, approach to modeling nonlinear relationships is to use splines. Splines provide a way to smoothly interpolate between fixed points. Splines were originally used by draftsmen to draw a smooth curve, particularly in ship and aircraft building. The splines were created by bending a thin piece of wood using weights, referred to as \"ducks\".\n",
    "\n",
    "The technical definition of a spline is a series of piecewise continuous polynomials. The polynomial pieces are smoothly connected at a series of fixed points in a predictor variable, referred to as knots. Formulation of splines is much more complicated than polynomial regression; statistical software usually handles the details of fitting a spline. \n",
    "The statsmodels formula interface supports the use of splines. Here, we specify the b-spline using df, the degrees of freedom as bs(SqFtTotLiving, df=6, degree=3); this will create a df - degree = 6 - 3 = 3 internal knots with positions."
   ]
  },
  {
   "cell_type": "code",
   "execution_count": 731,
   "metadata": {},
   "outputs": [
    {
     "data": {
      "text/html": [
       "<table class=\"simpletable\">\n",
       "<caption>OLS Regression Results</caption>\n",
       "<tr>\n",
       "  <th>Dep. Variable:</th>      <td>AdjSalePrice</td>   <th>  R-squared:         </th> <td>   0.814</td> \n",
       "</tr>\n",
       "<tr>\n",
       "  <th>Model:</th>                   <td>OLS</td>       <th>  Adj. R-squared:    </th> <td>   0.807</td> \n",
       "</tr>\n",
       "<tr>\n",
       "  <th>Method:</th>             <td>Least Squares</td>  <th>  F-statistic:       </th> <td>   131.8</td> \n",
       "</tr>\n",
       "<tr>\n",
       "  <th>Date:</th>             <td>Tue, 19 Sep 2023</td> <th>  Prob (F-statistic):</th> <td>7.10e-104</td>\n",
       "</tr>\n",
       "<tr>\n",
       "  <th>Time:</th>                 <td>14:14:21</td>     <th>  Log-Likelihood:    </th> <td> -4211.4</td> \n",
       "</tr>\n",
       "<tr>\n",
       "  <th>No. Observations:</th>      <td>   313</td>      <th>  AIC:               </th> <td>   8445.</td> \n",
       "</tr>\n",
       "<tr>\n",
       "  <th>Df Residuals:</th>          <td>   302</td>      <th>  BIC:               </th> <td>   8486.</td> \n",
       "</tr>\n",
       "<tr>\n",
       "  <th>Df Model:</th>              <td>    10</td>      <th>                     </th>     <td> </td>    \n",
       "</tr>\n",
       "<tr>\n",
       "  <th>Covariance Type:</th>      <td>nonrobust</td>    <th>                     </th>     <td> </td>    \n",
       "</tr>\n",
       "</table>\n",
       "<table class=\"simpletable\">\n",
       "<tr>\n",
       "                    <td></td>                      <th>coef</th>     <th>std err</th>      <th>t</th>      <th>P>|t|</th>  <th>[0.025</th>    <th>0.975]</th>  \n",
       "</tr>\n",
       "<tr>\n",
       "  <th>Intercept</th>                            <td>-4.142e+05</td> <td> 1.43e+05</td> <td>   -2.899</td> <td> 0.004</td> <td>-6.95e+05</td> <td>-1.33e+05</td>\n",
       "</tr>\n",
       "<tr>\n",
       "  <th>bs(SqFtTotLiving, df=6, degree=3)[0]</th> <td>-1.995e+05</td> <td> 1.86e+05</td> <td>   -1.076</td> <td> 0.283</td> <td>-5.65e+05</td> <td> 1.66e+05</td>\n",
       "</tr>\n",
       "<tr>\n",
       "  <th>bs(SqFtTotLiving, df=6, degree=3)[1]</th> <td>-1.206e+05</td> <td> 1.23e+05</td> <td>   -0.983</td> <td> 0.326</td> <td>-3.62e+05</td> <td> 1.21e+05</td>\n",
       "</tr>\n",
       "<tr>\n",
       "  <th>bs(SqFtTotLiving, df=6, degree=3)[2]</th> <td>-7.164e+04</td> <td> 1.36e+05</td> <td>   -0.525</td> <td> 0.600</td> <td> -3.4e+05</td> <td> 1.97e+05</td>\n",
       "</tr>\n",
       "<tr>\n",
       "  <th>bs(SqFtTotLiving, df=6, degree=3)[3]</th> <td> 1.957e+05</td> <td> 1.62e+05</td> <td>    1.212</td> <td> 0.227</td> <td>-1.22e+05</td> <td> 5.14e+05</td>\n",
       "</tr>\n",
       "<tr>\n",
       "  <th>bs(SqFtTotLiving, df=6, degree=3)[4]</th> <td> 8.452e+05</td> <td> 2.18e+05</td> <td>    3.878</td> <td> 0.000</td> <td> 4.16e+05</td> <td> 1.27e+06</td>\n",
       "</tr>\n",
       "<tr>\n",
       "  <th>bs(SqFtTotLiving, df=6, degree=3)[5]</th> <td> 6.955e+05</td> <td> 2.14e+05</td> <td>    3.255</td> <td> 0.001</td> <td> 2.75e+05</td> <td> 1.12e+06</td>\n",
       "</tr>\n",
       "<tr>\n",
       "  <th>SqFtLot</th>                              <td>   33.3258</td> <td>    5.454</td> <td>    6.110</td> <td> 0.000</td> <td>   22.592</td> <td>   44.059</td>\n",
       "</tr>\n",
       "<tr>\n",
       "  <th>Bathrooms</th>                            <td>-4778.2080</td> <td> 1.94e+04</td> <td>   -0.246</td> <td> 0.806</td> <td> -4.3e+04</td> <td> 3.34e+04</td>\n",
       "</tr>\n",
       "<tr>\n",
       "  <th>Bedrooms</th>                             <td>-5778.7045</td> <td> 1.32e+04</td> <td>   -0.437</td> <td> 0.663</td> <td>-3.18e+04</td> <td> 2.03e+04</td>\n",
       "</tr>\n",
       "<tr>\n",
       "  <th>BldgGrade</th>                            <td> 1.345e+05</td> <td> 1.52e+04</td> <td>    8.842</td> <td> 0.000</td> <td> 1.05e+05</td> <td> 1.64e+05</td>\n",
       "</tr>\n",
       "</table>\n",
       "<table class=\"simpletable\">\n",
       "<tr>\n",
       "  <th>Omnibus:</th>       <td>58.816</td> <th>  Durbin-Watson:     </th> <td>   1.633</td> \n",
       "</tr>\n",
       "<tr>\n",
       "  <th>Prob(Omnibus):</th> <td> 0.000</td> <th>  Jarque-Bera (JB):  </th> <td> 622.021</td> \n",
       "</tr>\n",
       "<tr>\n",
       "  <th>Skew:</th>          <td> 0.330</td> <th>  Prob(JB):          </th> <td>8.51e-136</td>\n",
       "</tr>\n",
       "<tr>\n",
       "  <th>Kurtosis:</th>      <td> 9.874</td> <th>  Cond. No.          </th> <td>1.97e+05</td> \n",
       "</tr>\n",
       "</table><br/><br/>Notes:<br/>[1] Standard Errors assume that the covariance matrix of the errors is correctly specified.<br/>[2] The condition number is large, 1.97e+05. This might indicate that there are<br/>strong multicollinearity or other numerical problems."
      ],
      "text/plain": [
       "<class 'statsmodels.iolib.summary.Summary'>\n",
       "\"\"\"\n",
       "                            OLS Regression Results                            \n",
       "==============================================================================\n",
       "Dep. Variable:           AdjSalePrice   R-squared:                       0.814\n",
       "Model:                            OLS   Adj. R-squared:                  0.807\n",
       "Method:                 Least Squares   F-statistic:                     131.8\n",
       "Date:                Tue, 19 Sep 2023   Prob (F-statistic):          7.10e-104\n",
       "Time:                        14:14:21   Log-Likelihood:                -4211.4\n",
       "No. Observations:                 313   AIC:                             8445.\n",
       "Df Residuals:                     302   BIC:                             8486.\n",
       "Df Model:                          10                                         \n",
       "Covariance Type:            nonrobust                                         \n",
       "========================================================================================================\n",
       "                                           coef    std err          t      P>|t|      [0.025      0.975]\n",
       "--------------------------------------------------------------------------------------------------------\n",
       "Intercept                            -4.142e+05   1.43e+05     -2.899      0.004   -6.95e+05   -1.33e+05\n",
       "bs(SqFtTotLiving, df=6, degree=3)[0] -1.995e+05   1.86e+05     -1.076      0.283   -5.65e+05    1.66e+05\n",
       "bs(SqFtTotLiving, df=6, degree=3)[1] -1.206e+05   1.23e+05     -0.983      0.326   -3.62e+05    1.21e+05\n",
       "bs(SqFtTotLiving, df=6, degree=3)[2] -7.164e+04   1.36e+05     -0.525      0.600    -3.4e+05    1.97e+05\n",
       "bs(SqFtTotLiving, df=6, degree=3)[3]  1.957e+05   1.62e+05      1.212      0.227   -1.22e+05    5.14e+05\n",
       "bs(SqFtTotLiving, df=6, degree=3)[4]  8.452e+05   2.18e+05      3.878      0.000    4.16e+05    1.27e+06\n",
       "bs(SqFtTotLiving, df=6, degree=3)[5]  6.955e+05   2.14e+05      3.255      0.001    2.75e+05    1.12e+06\n",
       "SqFtLot                                 33.3258      5.454      6.110      0.000      22.592      44.059\n",
       "Bathrooms                            -4778.2080   1.94e+04     -0.246      0.806    -4.3e+04    3.34e+04\n",
       "Bedrooms                             -5778.7045   1.32e+04     -0.437      0.663   -3.18e+04    2.03e+04\n",
       "BldgGrade                             1.345e+05   1.52e+04      8.842      0.000    1.05e+05    1.64e+05\n",
       "==============================================================================\n",
       "Omnibus:                       58.816   Durbin-Watson:                   1.633\n",
       "Prob(Omnibus):                  0.000   Jarque-Bera (JB):              622.021\n",
       "Skew:                           0.330   Prob(JB):                    8.51e-136\n",
       "Kurtosis:                       9.874   Cond. No.                     1.97e+05\n",
       "==============================================================================\n",
       "\n",
       "Notes:\n",
       "[1] Standard Errors assume that the covariance matrix of the errors is correctly specified.\n",
       "[2] The condition number is large, 1.97e+05. This might indicate that there are\n",
       "strong multicollinearity or other numerical problems.\n",
       "\"\"\""
      ]
     },
     "execution_count": 731,
     "metadata": {},
     "output_type": "execute_result"
    }
   ],
   "source": [
    "formula = ('AdjSalePrice ~ bs(SqFtTotLiving, df=6, degree=3) + ' +\n",
    "            'SqFtLot + Bathrooms + Bedrooms + BldgGrade')\n",
    "\n",
    "model_spline = smf.ols(formula=formula, data=house_98105)\n",
    "results_spline = model_spline.fit()\n",
    "results_spline.summary()"
   ]
  },
  {
   "cell_type": "code",
   "execution_count": 733,
   "metadata": {},
   "outputs": [
    {
     "data": {
      "image/png": "[encoded data removed]",
      "text/plain": [
       "<Figure size 500x500 with 1 Axes>"
      ]
     },
     "metadata": {},
     "output_type": "display_data"
    }
   ],
   "source": [
    "fig, ax = plt.subplots(figsize=(5,5))\n",
    "partialResidualPlot(results_spline, house_98105, 'AdjSalePrice', 'SqFtTotLiving', ax=ax)\n",
    "plt.tight_layout()"
   ]
  },
  {
   "cell_type": "markdown",
   "metadata": {},
   "source": [
    "In contrast to a linear term, for which the coefficient has a direct meaning, the coefficients for a spline term are not interpretable. Instead, it is more useful to use the visual display to reveal the nature of the spline fit. \n",
    "\n",
    "For our example data, the spline model more closely matches the smooth than the polynomial model, demonstrating the greater flexibility of splines. In this case, the line more closely fits the data. Does this mean the spline regression is a better model? Not necessarily: it doesnt make economic sense that very small homes (less than 1000 square ft) would have a higher value than slightly larger homes. This is possibly an artifact of a confounding variable."
   ]
  },
  {
   "cell_type": "markdown",
   "metadata": {},
   "source": [
    "<b><h3>Generative Additive Models</h3></b>\n",
    "\n",
    "Suppose you suspect a nonlinear relationship between the response and a predictor variable, either by a prior knowledge or the examining the regression diagnostics. Polynomial terms may not be flexible enough to capture the relationship, and spline terms require specifying the knots. Generalized additive modesls, or GAM, are a flexible modeling technique that can be used to automatically fit a spline regression. Generative models try to find the 'best' knots for a spline term.\n",
    "\n",
    "In Python, we can use the pyGAM package. It provides methods for regression and classification. Here, we use LinearGAM to create a regression model. We can also use statsmodels for GAM modeling."
   ]
  },
  {
   "cell_type": "code",
   "execution_count": 734,
   "metadata": {},
   "outputs": [
    {
     "name": "stderr",
     "output_type": "stream",
     "text": [
      "  0% (0 of 11) |                         | Elapsed Time: 0:00:00 ETA:  --:--:--\n",
      " 27% (3 of 11) |######                   | Elapsed Time: 0:00:00 ETA:  00:00:00\n",
      " 72% (8 of 11) |##################       | Elapsed Time: 0:00:00 ETA:   0:00:00\n",
      "100% (11 of 11) |########################| Elapsed Time: 0:00:00 Time:  0:00:00\n"
     ]
    },
    {
     "name": "stdout",
     "output_type": "stream",
     "text": [
      "LinearGAM                                                                                                 \n",
      "=============================================== ==========================================================\n",
      "Distribution:                        NormalDist Effective DoF:                                      7.6772\n",
      "Link Function:                     IdentityLink Log Likelihood:                                 -7833.1159\n",
      "Number of Samples:                          313 AIC:                                            15683.5863\n",
      "                                                AICc:                                             15684.14\n",
      "                                                GCV:                                      30838885095.1686\n",
      "                                                Scale:                                    29480381715.8302\n",
      "                                                Pseudo R-Squared:                                   0.8117\n",
      "==========================================================================================================\n",
      "Feature Function                  Lambda               Rank         EDoF         P > x        Sig. Code   \n",
      "================================= ==================== ============ ============ ============ ============\n",
      "s(0)                              [15.8489]            12           4.3          1.11e-16     ***         \n",
      "l(1)                              [15.8489]            1            0.9          2.35e-10     ***         \n",
      "l(2)                              [15.8489]            1            0.8          8.45e-01                 \n",
      "l(3)                              [15.8489]            1            0.9          3.79e-01                 \n",
      "l(4)                              [15.8489]            1            0.8          1.11e-16     ***         \n",
      "intercept                                              1            0.0          9.14e-01                 \n",
      "==========================================================================================================\n",
      "Significance codes:  0 '***' 0.001 '**' 0.01 '*' 0.05 '.' 0.1 ' ' 1\n",
      "\n",
      "WARNING: Fitting splines and a linear function to a feature introduces a model identifiability problem\n",
      "         which can cause p-values to appear significant when they are not.\n",
      "\n",
      "WARNING: p-values calculated in this manner behave correctly for un-penalized models or models with\n",
      "         known smoothing parameters, but when smoothing parameters have been estimated, the p-values\n",
      "         are typically lower than they should be, meaning that the tests reject the null too readily.\n"
     ]
    }
   ],
   "source": [
    "predictors = ['SqFtTotLiving', 'SqFtLot', 'Bathrooms', 'Bedrooms', 'BldgGrade']\n",
    "outcome = 'AdjSalePrice'\n",
    "\n",
    "X = house_98105[predictors].values\n",
    "y = house_98105[outcome]\n",
    "\n",
    "gam = LinearGAM(s(0, n_splines=12) + l(1) + l(2) + l(3) + l(4))\n",
    "gam.gridsearch(X,y)\n",
    "gam.summary()"
   ]
  },
  {
   "cell_type": "code",
   "execution_count": 736,
   "metadata": {},
   "outputs": [
    {
     "data": {
      "image/png": "[encoded data removed]",
      "text/plain": [
       "<Figure size 800x800 with 6 Axes>"
      ]
     },
     "metadata": {},
     "output_type": "display_data"
    }
   ],
   "source": [
    "fig, axes = plt.subplots(figsize=(8,8), nrows=3, ncols=2)\n",
    "\n",
    "titles = ['SqFtTotLiving', 'SqFtLot', 'Bathrooms', 'Bedrooms', 'BldgGrade']\n",
    "for i, title in enumerate(titles):\n",
    "    ax = axes[i//2, i%2]\n",
    "    XX = gam.generate_X_grid(term=i)\n",
    "    ax.plot(XX[:,i], gam.partial_dependence(term=i, X=XX))\n",
    "    ax.plot(XX[:,i], gam.partial_dependence(term=i, X=XX, width=.95)[1], c='r', ls='--')\n",
    "    ax.set_title(titles[i])\n",
    "\n",
    "axes[2][1].set_visible(False)\n",
    "\n",
    "plt.tight_layout()\n"
   ]
  },
  {
   "cell_type": "code",
   "execution_count": 739,
   "metadata": {},
   "outputs": [
    {
     "data": {
      "text/html": [
       "<table class=\"simpletable\">\n",
       "<caption>Generalized Linear Model Regression Results</caption>\n",
       "<tr>\n",
       "  <th>Dep. Variable:</th>     <td>AdjSalePrice</td>   <th>  No. Observations:  </th>   <td>   313</td>  \n",
       "</tr>\n",
       "<tr>\n",
       "  <th>Model:</th>                <td>GLMGam</td>      <th>  Df Residuals:      </th>  <td>  295.00</td> \n",
       "</tr>\n",
       "<tr>\n",
       "  <th>Model Family:</th>        <td>Gaussian</td>     <th>  Df Model:          </th>  <td>   17.00</td> \n",
       "</tr>\n",
       "<tr>\n",
       "  <th>Link Function:</th>       <td>identity</td>     <th>  Scale:             </th> <td>2.7471e+10</td>\n",
       "</tr>\n",
       "<tr>\n",
       "  <th>Method:</th>                <td>PIRLS</td>      <th>  Log-Likelihood:    </th>  <td> -4196.6</td> \n",
       "</tr>\n",
       "<tr>\n",
       "  <th>Date:</th>            <td>Tue, 19 Sep 2023</td> <th>  Deviance:          </th> <td>8.1039e+12</td>\n",
       "</tr>\n",
       "<tr>\n",
       "  <th>Time:</th>                <td>15:13:13</td>     <th>  Pearson chi2:      </th>  <td>8.10e+12</td> \n",
       "</tr>\n",
       "<tr>\n",
       "  <th>No. Iterations:</th>          <td>3</td>        <th>  Pseudo R-squ. (CS):</th>   <td>0.9901</td>  \n",
       "</tr>\n",
       "<tr>\n",
       "  <th>Covariance Type:</th>     <td>nonrobust</td>    <th>                     </th>      <td> </td>    \n",
       "</tr>\n",
       "</table>\n",
       "<table class=\"simpletable\">\n",
       "<tr>\n",
       "          <td></td>            <th>coef</th>     <th>std err</th>      <th>z</th>      <th>P>|z|</th>  <th>[0.025</th>    <th>0.975]</th>  \n",
       "</tr>\n",
       "<tr>\n",
       "  <th>Intercept</th>        <td>-3.481e+05</td> <td> 1.18e+05</td> <td>   -2.962</td> <td> 0.003</td> <td>-5.79e+05</td> <td>-1.18e+05</td>\n",
       "</tr>\n",
       "<tr>\n",
       "  <th>SqFtTotLiving</th>    <td>  192.1472</td> <td>   50.663</td> <td>    3.793</td> <td> 0.000</td> <td>   92.849</td> <td>  291.446</td>\n",
       "</tr>\n",
       "<tr>\n",
       "  <th>SqFtLot</th>          <td>    6.9002</td> <td>    7.654</td> <td>    0.902</td> <td> 0.367</td> <td>   -8.101</td> <td>   21.902</td>\n",
       "</tr>\n",
       "<tr>\n",
       "  <th>Bathrooms</th>        <td>-7836.2808</td> <td> 2.12e+04</td> <td>   -0.370</td> <td> 0.712</td> <td>-4.94e+04</td> <td> 3.37e+04</td>\n",
       "</tr>\n",
       "<tr>\n",
       "  <th>Bedrooms</th>         <td>-8297.4370</td> <td> 1.26e+04</td> <td>   -0.660</td> <td> 0.509</td> <td>-3.29e+04</td> <td> 1.63e+04</td>\n",
       "</tr>\n",
       "<tr>\n",
       "  <th>BldgGrade</th>        <td> 1.014e+05</td> <td>  1.4e+04</td> <td>    7.249</td> <td> 0.000</td> <td>  7.4e+04</td> <td> 1.29e+05</td>\n",
       "</tr>\n",
       "<tr>\n",
       "  <th>SqFtTotLiving_s0</th> <td> 1.465e+05</td> <td> 2.34e+05</td> <td>    0.626</td> <td> 0.531</td> <td>-3.12e+05</td> <td> 6.05e+05</td>\n",
       "</tr>\n",
       "<tr>\n",
       "  <th>SqFtTotLiving_s1</th> <td>-6.174e+04</td> <td> 1.33e+05</td> <td>   -0.464</td> <td> 0.642</td> <td>-3.22e+05</td> <td> 1.99e+05</td>\n",
       "</tr>\n",
       "<tr>\n",
       "  <th>SqFtTotLiving_s2</th> <td>-3.186e+04</td> <td> 1.26e+05</td> <td>   -0.253</td> <td> 0.800</td> <td>-2.78e+05</td> <td> 2.15e+05</td>\n",
       "</tr>\n",
       "<tr>\n",
       "  <th>SqFtTotLiving_s3</th> <td>-5.403e+04</td> <td> 1.01e+05</td> <td>   -0.535</td> <td> 0.593</td> <td>-2.52e+05</td> <td> 1.44e+05</td>\n",
       "</tr>\n",
       "<tr>\n",
       "  <th>SqFtTotLiving_s4</th> <td>-1.182e+05</td> <td> 1.01e+05</td> <td>   -1.167</td> <td> 0.243</td> <td>-3.17e+05</td> <td> 8.03e+04</td>\n",
       "</tr>\n",
       "<tr>\n",
       "  <th>SqFtTotLiving_s5</th> <td>-1.295e+05</td> <td> 8.23e+04</td> <td>   -1.574</td> <td> 0.115</td> <td>-2.91e+05</td> <td> 3.17e+04</td>\n",
       "</tr>\n",
       "<tr>\n",
       "  <th>SqFtTotLiving_s6</th> <td>-3.014e+04</td> <td> 1.27e+05</td> <td>   -0.237</td> <td> 0.813</td> <td> -2.8e+05</td> <td>  2.2e+05</td>\n",
       "</tr>\n",
       "<tr>\n",
       "  <th>SqFtTotLiving_s7</th> <td> 1.262e+05</td> <td>  1.8e+05</td> <td>    0.702</td> <td> 0.483</td> <td>-2.26e+05</td> <td> 4.79e+05</td>\n",
       "</tr>\n",
       "<tr>\n",
       "  <th>SqFtTotLiving_s8</th> <td> 5.325e+04</td> <td> 1.38e+05</td> <td>    0.386</td> <td> 0.700</td> <td>-2.17e+05</td> <td> 3.24e+05</td>\n",
       "</tr>\n",
       "<tr>\n",
       "  <th>SqFtLot_s0</th>       <td> 5.775e+05</td> <td> 1.58e+05</td> <td>    3.651</td> <td> 0.000</td> <td> 2.68e+05</td> <td> 8.88e+05</td>\n",
       "</tr>\n",
       "<tr>\n",
       "  <th>SqFtLot_s1</th>       <td>-2.771e+05</td> <td> 7.86e+04</td> <td>   -3.526</td> <td> 0.000</td> <td>-4.31e+05</td> <td>-1.23e+05</td>\n",
       "</tr>\n",
       "<tr>\n",
       "  <th>Bathrooms_s0</th>     <td> 3.723e+04</td> <td> 1.06e+05</td> <td>    0.351</td> <td> 0.726</td> <td>-1.71e+05</td> <td> 2.45e+05</td>\n",
       "</tr>\n",
       "<tr>\n",
       "  <th>Bathrooms_s1</th>     <td> 5.303e+04</td> <td> 5.94e+04</td> <td>    0.892</td> <td> 0.372</td> <td>-6.35e+04</td> <td>  1.7e+05</td>\n",
       "</tr>\n",
       "<tr>\n",
       "  <th>Bedrooms_s0</th>      <td> 2.298e+05</td> <td> 1.31e+05</td> <td>    1.751</td> <td> 0.080</td> <td>-2.74e+04</td> <td> 4.87e+05</td>\n",
       "</tr>\n",
       "<tr>\n",
       "  <th>Bedrooms_s1</th>      <td>-7.241e+04</td> <td> 6.81e+04</td> <td>   -1.063</td> <td> 0.288</td> <td>-2.06e+05</td> <td> 6.11e+04</td>\n",
       "</tr>\n",
       "<tr>\n",
       "  <th>BldgGrade_s0</th>     <td>-7.953e+05</td> <td> 2.03e+05</td> <td>   -3.917</td> <td> 0.000</td> <td>-1.19e+06</td> <td>-3.97e+05</td>\n",
       "</tr>\n",
       "<tr>\n",
       "  <th>BldgGrade_s1</th>     <td> 6.608e+05</td> <td> 1.14e+05</td> <td>    5.818</td> <td> 0.000</td> <td> 4.38e+05</td> <td> 8.83e+05</td>\n",
       "</tr>\n",
       "</table>"
      ],
      "text/plain": [
       "<class 'statsmodels.iolib.summary.Summary'>\n",
       "\"\"\"\n",
       "                 Generalized Linear Model Regression Results                  \n",
       "==============================================================================\n",
       "Dep. Variable:           AdjSalePrice   No. Observations:                  313\n",
       "Model:                         GLMGam   Df Residuals:                   295.00\n",
       "Model Family:                Gaussian   Df Model:                        17.00\n",
       "Link Function:               identity   Scale:                      2.7471e+10\n",
       "Method:                         PIRLS   Log-Likelihood:                -4196.6\n",
       "Date:                Tue, 19 Sep 2023   Deviance:                   8.1039e+12\n",
       "Time:                        15:13:13   Pearson chi2:                 8.10e+12\n",
       "No. Iterations:                     3   Pseudo R-squ. (CS):             0.9901\n",
       "Covariance Type:            nonrobust                                         \n",
       "====================================================================================\n",
       "                       coef    std err          z      P>|z|      [0.025      0.975]\n",
       "------------------------------------------------------------------------------------\n",
       "Intercept        -3.481e+05   1.18e+05     -2.962      0.003   -5.79e+05   -1.18e+05\n",
       "SqFtTotLiving      192.1472     50.663      3.793      0.000      92.849     291.446\n",
       "SqFtLot              6.9002      7.654      0.902      0.367      -8.101      21.902\n",
       "Bathrooms        -7836.2808   2.12e+04     -0.370      0.712   -4.94e+04    3.37e+04\n",
       "Bedrooms         -8297.4370   1.26e+04     -0.660      0.509   -3.29e+04    1.63e+04\n",
       "BldgGrade         1.014e+05    1.4e+04      7.249      0.000     7.4e+04    1.29e+05\n",
       "SqFtTotLiving_s0  1.465e+05   2.34e+05      0.626      0.531   -3.12e+05    6.05e+05\n",
       "SqFtTotLiving_s1 -6.174e+04   1.33e+05     -0.464      0.642   -3.22e+05    1.99e+05\n",
       "SqFtTotLiving_s2 -3.186e+04   1.26e+05     -0.253      0.800   -2.78e+05    2.15e+05\n",
       "SqFtTotLiving_s3 -5.403e+04   1.01e+05     -0.535      0.593   -2.52e+05    1.44e+05\n",
       "SqFtTotLiving_s4 -1.182e+05   1.01e+05     -1.167      0.243   -3.17e+05    8.03e+04\n",
       "SqFtTotLiving_s5 -1.295e+05   8.23e+04     -1.574      0.115   -2.91e+05    3.17e+04\n",
       "SqFtTotLiving_s6 -3.014e+04   1.27e+05     -0.237      0.813    -2.8e+05     2.2e+05\n",
       "SqFtTotLiving_s7  1.262e+05    1.8e+05      0.702      0.483   -2.26e+05    4.79e+05\n",
       "SqFtTotLiving_s8  5.325e+04   1.38e+05      0.386      0.700   -2.17e+05    3.24e+05\n",
       "SqFtLot_s0        5.775e+05   1.58e+05      3.651      0.000    2.68e+05    8.88e+05\n",
       "SqFtLot_s1       -2.771e+05   7.86e+04     -3.526      0.000   -4.31e+05   -1.23e+05\n",
       "Bathrooms_s0      3.723e+04   1.06e+05      0.351      0.726   -1.71e+05    2.45e+05\n",
       "Bathrooms_s1      5.303e+04   5.94e+04      0.892      0.372   -6.35e+04     1.7e+05\n",
       "Bedrooms_s0       2.298e+05   1.31e+05      1.751      0.080   -2.74e+04    4.87e+05\n",
       "Bedrooms_s1      -7.241e+04   6.81e+04     -1.063      0.288   -2.06e+05    6.11e+04\n",
       "BldgGrade_s0     -7.953e+05   2.03e+05     -3.917      0.000   -1.19e+06   -3.97e+05\n",
       "BldgGrade_s1      6.608e+05   1.14e+05      5.818      0.000    4.38e+05    8.83e+05\n",
       "====================================================================================\n",
       "\"\"\""
      ]
     },
     "execution_count": 739,
     "metadata": {},
     "output_type": "execute_result"
    }
   ],
   "source": [
    "from statsmodels.gam.api import GLMGam, BSplines\n",
    "\n",
    "x_spline = house_98105[predictors] \n",
    "bs = BSplines(x_spline, df = [10] + [3] * 4, degree=[3] + [2] * 4)\n",
    "#penalization weight\n",
    "alpha = np.array([0]*5)\n",
    "\n",
    "formula = ('AdjSalePrice ~ SqFtTotLiving +' +\n",
    "            'SqFtLot + Bathrooms + Bedrooms + BldgGrade')\n",
    "\n",
    "gam_sm = GLMGam.from_formula(formula, data=house_98105, smoother=bs, alpha=alpha)\n",
    "res_sm = gam_sm.fit()\n",
    "res_sm.summary()"
   ]
  },
  {
   "cell_type": "code",
   "execution_count": 744,
   "metadata": {},
   "outputs": [
    {
     "data": {
      "image/png": "[encoded data removed]",
      "text/plain": [
       "<Figure size 640x480 with 1 Axes>"
      ]
     },
     "metadata": {},
     "output_type": "display_data"
    }
   ],
   "source": [
    "res_sm.plot_partial(0, cpr=True)\n",
    "plt.tight_layout()"
   ]
  },
  {
   "cell_type": "markdown",
   "metadata": {},
   "source": [
    "<b><h3>Key Ideas</h3></b>\n",
    "\n",
    "- Outliers in a regression are records with a large residual.\n",
    "- Multicollinearity can cause numerical instability in fitting the regression equation.\n",
    "- A confounding variable is an important predictor that is omitted from a model and can lead to a regression equation with spurious relationships.\n",
    "- An interaction term between two variables is needed if the effect of one variable depends on the level or magnitude of the other.\n",
    "- Polynomial regression can fit nonlinear relationships between predictors and the outcome variable.\n",
    "- Splines are series of polynomial segments strung together, joining at knots.\n",
    "- We can automate the process of specifying the knots in splines using generalized additive models (GAM)."
   ]
  },
  {
   "cell_type": "code",
   "execution_count": null,
   "metadata": {},
   "outputs": [],
   "source": []
  }
 ],
 "metadata": {
  "kernelspec": {
   "display_name": "base",
   "language": "python",
   "name": "python3"
  },
  "language_info": {
   "codemirror_mode": {
    "name": "ipython",
    "version": 3
   },
   "file_extension": ".py",
   "mimetype": "text/x-python",
   "name": "python",
   "nbconvert_exporter": "python",
   "pygments_lexer": "ipython3",
   "version": "3.8.8"
  },
  "orig_nbformat": 4
 },
 "nbformat": 4,
 "nbformat_minor": 2
}
