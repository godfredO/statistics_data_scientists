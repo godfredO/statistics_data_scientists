{
 "cells": [
  {
   "cell_type": "code",
   "execution_count": 492,
   "metadata": {},
   "outputs": [],
   "source": [
    "from pathlib import Path\n",
    "import pandas as pd\n",
    "import numpy as np\n",
    "\n",
    "from sklearn.naive_bayes import MultinomialNB\n",
    "from sklearn.discriminant_analysis import LinearDiscriminantAnalysis\n",
    "from sklearn.linear_model import LogisticRegression #, LogisticRegressionCV\n",
    "from sklearn.tree import DecisionTreeClassifier\n",
    "from sklearn.metrics import confusion_matrix, precision_recall_fscore_support\n",
    "from sklearn.metrics import roc_curve, accuracy_score, roc_auc_score\n",
    "\n",
    "import statsmodels.api as sm\n",
    "\n",
    "from imblearn.over_sampling import SMOTE, ADASYN, BorderlineSMOTE\n",
    "from pygam import LinearGAM, s, f, l\n",
    "\n",
    "\n",
    "from dmba import classificationSummary\n",
    "\n",
    "\n",
    "import matplotlib.pyplot as plt\n",
    "import seaborn as sns\n",
    "sns.set_style('darkgrid')\n",
    "\n",
    "import warnings\n",
    "warnings.filterwarnings('ignore')\n",
    "\n",
    "%matplotlib inline"
   ]
  },
  {
   "cell_type": "markdown",
   "metadata": {},
   "source": [
    "<b><h3>Classification</h3></b>\n",
    "\n",
    "Data scientists are often tasked with automating decisions for business problems. Is an email an attempt at phishing? Is a customer likely to churn? Is the web user likely to click on an advertisement? These are all classification problems, a form of supervised learning in which we first train a model on data where the outcome is known and then apply the model to data where the outcome is not known. Classification is perhaps the most important form of prediction: the goal is to predict whether a record is 1 or 0 (phishing / not-phising, click/don't click, churn/don't churn), or in some cases, one of several categories (for example, Gmail's filtering of your inbox into \"primary\",\"social\", \"promotional\" or \"forums\").\n",
    "\n",
    "Often we need more than a simple binary classification: we want to know the predicted probabililty that a case belongs to a class. Rather than having a model simply assign a binary classification, most algorithms can return a probability score (propensity) of belonging to the class of interest. In Python's scikit-learn, logistic regression, like most classification methods, provides two prediction methods: predict(which returns the class) and predict_proba(which returns the probabilities for each class). A sliding cutoff can then be used to convert the propensity score to a decision. The general approach is as follows:\n",
    "1. Establish a cutoff probability for the class of interest, above which we consider a record as belonging to that class.\n",
    "2. Estimate (with any model) the probability that a record belongs to the class of interest.\n",
    "3. If that probability is above the cutoff probability, assign the new record to the class of interest.\n",
    "\n",
    "The higher the cutoff, the fewer the records predicted as 1- that is, as belonging to the class of interest. The lower the cutoff, the more the records predicted as 1."
   ]
  },
  {
   "cell_type": "markdown",
   "metadata": {},
   "source": [
    "<b><h4>More Than Two Categories</h4></b>\n",
    "\n",
    "The vast majority of problems involve a binary response. Some classification problems, however, involve a response with more than two possible outcomes. For example, at the anniversary of a customer's subscription contract, there might be three outcomes: the customer leaves or \"churns\" (Y=2), goes on a month-to-month contract (Y=1), or signs a new long-term contract (Y=0). The goal is to predict Y = j for j = 0, 1, 2. Most of the classification methods can be applied, either directly with modest adaptations, to responses that have more than two outcomes. Even in the case of more than two outcomes, the problem can often be recast into a series of binary problems using conditional probabilities. For example, to predict the outcome of the contract, you can solve two binary prediction problems:\n",
    "\n",
    "- Predict whether Y = 0 or Y > 0.\n",
    "- Given that Y > 0, predict whether Y = 1 or Y = 2.\n",
    "\n",
    "In this case, it makes sense to break up the problem into two cases: (1) whether the custome churns, and (2) if they don't churn, what type of contract they will choose. From a model-fitting viewpoint, it is often advantageous to convert the multiclass problem into a series of binary problems. This is particularly true when one category is much more common than the other categories."
   ]
  },
  {
   "cell_type": "markdown",
   "metadata": {},
   "source": [
    "<b><h3>Naive Bayes</h3></b>\n",
    "\n",
    "The naive Bayes algorithm uses the probability of observing predictor values, given an outcome, to estimate what is really of interest: the probability of observing outcome Y = i, given a set of predictor values. To understand naive Bayes classification, we can start out by imagining complete or exact Bayesian classification. For each record to be classified:\n",
    "1. Find all the other records with the same predictor profile (ie, where the predictor values are the same).\n",
    "2. Determine what classes those records belong to and which class is most prevalent (ie. probable).\n",
    "3. Assign that class to the new record.\n",
    "\n",
    "The preceding approach amounts to finding all the records in the sample that are exactly like the new record to be classified in the sense that all the predictor values are identical. Predictor variables must be categorical (factor)\n",
    "variables in the standard naive Bayes algorithm. There are workarounds for using continuous variables."
   ]
  },
  {
   "cell_type": "markdown",
   "metadata": {},
   "source": [
    "<b><h4>Why Exact Bayesian Classification Is Impractical</h4></b>\n",
    "\n",
    "When the number of predictor variables exceeds a handful, many of the records to be classified will be without exact matches. Consider a model to predict voting on the basis of demographic variables. Even a sizable sample may not contain even a single match for a new record who is a male, Hispanic, with high income, form the US Mid-west, who voted in the last election, did not vote in the prior election, has three daughters and one son, and is divorced. And this is with just eight variables, a small number for most classification problems. The addition of just a single new variable with five equally frequent categories reduces the probability of a match by a factor of 5."
   ]
  },
  {
   "cell_type": "markdown",
   "metadata": {},
   "source": [
    "<b><h4>The Naive Solution</h4></b>\n",
    "\n",
    "In the naive Bayes solution, we no longer restrict the probability calculation to those records that match the record to be classified. Instead, we use the entire data set. The naive Bayes modification is as follows:\n",
    "\n",
    "1. For a binary response Y = i (i=0 or 1), estimate the individual conditional probabilities for each predictor $P(X_j|Y=i)$; these are the probabilities that the predictor value is in the record when we observe Y=i. This probability is estimated by the proportion of $X_j$ values among the $Y=i$ records in the training set.\n",
    "2. Multiply these probabilities by each other (probabilities for each predictor), and then by the proportion of records, belonging to Y=i.\n",
    "3. Repeat steps 1 and 2 for all classes.\n",
    "4. Estimate a probability for outcome i by taking the value calcualted in step 2 for class i and dividing it by the sum of such variables for all classes.\n",
    "5. Assign the record to the class with the highest probability for this set of predictor values.\n",
    "\n",
    "This naive Bayes algorithm can also be stated as an equation for the probability of observing outcome $Y=i$, given a set of predictor values $X_1\\;,...\\;,X_p$ : $P(Y=i|X_1,X_2,...,X_p)$\n",
    "Here is a full formula for calculating class probabilities using exact Bayes classification:\n",
    "\n",
    "$P(Y=i|X_1,X_2,...,X_p)=$ $\\dfrac{P(Y=i)P(X_1,...Xp|Y_i)}{P(Y=0)P(X_1,...,X_p|Y=0)+P(Y=1)P(X_1,...,X_p|Y=1)}$\n",
    "\n",
    "Under the naive Bayes assumption of conditional independence, this equation changes into:\n",
    "\n",
    "$P(Y=i|X_1lX_2,...,X_p)=$ $\\dfrac{P(Y=i)P(X_1|Y=i)...P(X_p|Y=i)}{P(Y=0)P(X_1|P=0)...P(X_p|Y=0)+P(Y=1)P(X_1|Y=1)...P(X_p|Y=1)}$ \n",
    "\n",
    "Why is this formula called \"naive\"? We have made a simplifying assumption that the exact conditional probability of a vector of predictor values, given observing an outcome, is sufficiently well estimated by the product of the individual conditional probabilities $P(X_j|Y=i)$. In other words, in estimating $P(X_j|Y=i)$ instead of P(X_1,X_2,...,X_p|Y=i), we are assuming $X_j$ is independent of all the other predictor variables $X_k$ for  $k\\neq j$.\n",
    "\n",
    "In Python, we can use sklearn.naive_bayes.MultinomialNB from scikit-learn. We need to convert categorical features to dummy variables before we fit the model.\n"
   ]
  },
  {
   "cell_type": "code",
   "execution_count": 493,
   "metadata": {},
   "outputs": [
    {
     "data": {
      "text/html": [
       "<div>\n",
       "<style scoped>\n",
       "    .dataframe tbody tr th:only-of-type {\n",
       "        vertical-align: middle;\n",
       "    }\n",
       "\n",
       "    .dataframe tbody tr th {\n",
       "        vertical-align: top;\n",
       "    }\n",
       "\n",
       "    .dataframe thead th {\n",
       "        text-align: right;\n",
       "    }\n",
       "</style>\n",
       "<table border=\"1\" class=\"dataframe\">\n",
       "  <thead>\n",
       "    <tr style=\"text-align: right;\">\n",
       "      <th></th>\n",
       "      <th>Unnamed: 0</th>\n",
       "      <th>status</th>\n",
       "      <th>loan_amnt</th>\n",
       "      <th>term</th>\n",
       "      <th>annual_inc</th>\n",
       "      <th>dti</th>\n",
       "      <th>payment_inc_ratio</th>\n",
       "      <th>revol_bal</th>\n",
       "      <th>revol_util</th>\n",
       "      <th>purpose</th>\n",
       "      <th>...</th>\n",
       "      <th>delinq_2yrs_zero</th>\n",
       "      <th>pub_rec_zero</th>\n",
       "      <th>open_acc</th>\n",
       "      <th>grade</th>\n",
       "      <th>outcome</th>\n",
       "      <th>emp_length</th>\n",
       "      <th>purpose_</th>\n",
       "      <th>home_</th>\n",
       "      <th>emp_len_</th>\n",
       "      <th>borrower_score</th>\n",
       "    </tr>\n",
       "  </thead>\n",
       "  <tbody>\n",
       "    <tr>\n",
       "      <th>0</th>\n",
       "      <td>1</td>\n",
       "      <td>Charged Off</td>\n",
       "      <td>2500</td>\n",
       "      <td>60 months</td>\n",
       "      <td>30000</td>\n",
       "      <td>1.00</td>\n",
       "      <td>2.39320</td>\n",
       "      <td>1687</td>\n",
       "      <td>9.4</td>\n",
       "      <td>car</td>\n",
       "      <td>...</td>\n",
       "      <td>1</td>\n",
       "      <td>1</td>\n",
       "      <td>3</td>\n",
       "      <td>4.8</td>\n",
       "      <td>default</td>\n",
       "      <td>1</td>\n",
       "      <td>car</td>\n",
       "      <td>RENT</td>\n",
       "      <td>&gt; 1 Year</td>\n",
       "      <td>0.65</td>\n",
       "    </tr>\n",
       "    <tr>\n",
       "      <th>1</th>\n",
       "      <td>2</td>\n",
       "      <td>Charged Off</td>\n",
       "      <td>5600</td>\n",
       "      <td>60 months</td>\n",
       "      <td>40000</td>\n",
       "      <td>5.55</td>\n",
       "      <td>4.57170</td>\n",
       "      <td>5210</td>\n",
       "      <td>32.6</td>\n",
       "      <td>small_business</td>\n",
       "      <td>...</td>\n",
       "      <td>1</td>\n",
       "      <td>1</td>\n",
       "      <td>11</td>\n",
       "      <td>1.4</td>\n",
       "      <td>default</td>\n",
       "      <td>5</td>\n",
       "      <td>small_business</td>\n",
       "      <td>OWN</td>\n",
       "      <td>&gt; 1 Year</td>\n",
       "      <td>0.80</td>\n",
       "    </tr>\n",
       "    <tr>\n",
       "      <th>2</th>\n",
       "      <td>3</td>\n",
       "      <td>Charged Off</td>\n",
       "      <td>5375</td>\n",
       "      <td>60 months</td>\n",
       "      <td>15000</td>\n",
       "      <td>18.08</td>\n",
       "      <td>9.71600</td>\n",
       "      <td>9279</td>\n",
       "      <td>36.5</td>\n",
       "      <td>other</td>\n",
       "      <td>...</td>\n",
       "      <td>1</td>\n",
       "      <td>1</td>\n",
       "      <td>2</td>\n",
       "      <td>6.0</td>\n",
       "      <td>default</td>\n",
       "      <td>1</td>\n",
       "      <td>other</td>\n",
       "      <td>RENT</td>\n",
       "      <td>&gt; 1 Year</td>\n",
       "      <td>0.60</td>\n",
       "    </tr>\n",
       "    <tr>\n",
       "      <th>3</th>\n",
       "      <td>4</td>\n",
       "      <td>Charged Off</td>\n",
       "      <td>9000</td>\n",
       "      <td>36 months</td>\n",
       "      <td>30000</td>\n",
       "      <td>10.08</td>\n",
       "      <td>12.21520</td>\n",
       "      <td>10452</td>\n",
       "      <td>91.7</td>\n",
       "      <td>debt_consolidation</td>\n",
       "      <td>...</td>\n",
       "      <td>1</td>\n",
       "      <td>1</td>\n",
       "      <td>4</td>\n",
       "      <td>4.2</td>\n",
       "      <td>default</td>\n",
       "      <td>1</td>\n",
       "      <td>debt_consolidation</td>\n",
       "      <td>RENT</td>\n",
       "      <td>&gt; 1 Year</td>\n",
       "      <td>0.50</td>\n",
       "    </tr>\n",
       "    <tr>\n",
       "      <th>4</th>\n",
       "      <td>5</td>\n",
       "      <td>Charged Off</td>\n",
       "      <td>10000</td>\n",
       "      <td>36 months</td>\n",
       "      <td>100000</td>\n",
       "      <td>7.06</td>\n",
       "      <td>3.90888</td>\n",
       "      <td>11997</td>\n",
       "      <td>55.5</td>\n",
       "      <td>other</td>\n",
       "      <td>...</td>\n",
       "      <td>1</td>\n",
       "      <td>1</td>\n",
       "      <td>14</td>\n",
       "      <td>5.4</td>\n",
       "      <td>default</td>\n",
       "      <td>4</td>\n",
       "      <td>other</td>\n",
       "      <td>RENT</td>\n",
       "      <td>&gt; 1 Year</td>\n",
       "      <td>0.55</td>\n",
       "    </tr>\n",
       "  </tbody>\n",
       "</table>\n",
       "<p>5 rows × 21 columns</p>\n",
       "</div>"
      ],
      "text/plain": [
       "   Unnamed: 0       status  loan_amnt       term  annual_inc    dti  \\\n",
       "0           1  Charged Off       2500  60 months       30000   1.00   \n",
       "1           2  Charged Off       5600  60 months       40000   5.55   \n",
       "2           3  Charged Off       5375  60 months       15000  18.08   \n",
       "3           4  Charged Off       9000  36 months       30000  10.08   \n",
       "4           5  Charged Off      10000  36 months      100000   7.06   \n",
       "\n",
       "   payment_inc_ratio  revol_bal  revol_util             purpose  ...  \\\n",
       "0            2.39320       1687         9.4                 car  ...   \n",
       "1            4.57170       5210        32.6      small_business  ...   \n",
       "2            9.71600       9279        36.5               other  ...   \n",
       "3           12.21520      10452        91.7  debt_consolidation  ...   \n",
       "4            3.90888      11997        55.5               other  ...   \n",
       "\n",
       "  delinq_2yrs_zero  pub_rec_zero  open_acc  grade  outcome emp_length  \\\n",
       "0                1             1         3    4.8  default          1   \n",
       "1                1             1        11    1.4  default          5   \n",
       "2                1             1         2    6.0  default          1   \n",
       "3                1             1         4    4.2  default          1   \n",
       "4                1             1        14    5.4  default          4   \n",
       "\n",
       "             purpose_ home_   emp_len_ borrower_score  \n",
       "0                 car  RENT   > 1 Year           0.65  \n",
       "1      small_business   OWN   > 1 Year           0.80  \n",
       "2               other  RENT   > 1 Year           0.60  \n",
       "3  debt_consolidation  RENT   > 1 Year           0.50  \n",
       "4               other  RENT   > 1 Year           0.55  \n",
       "\n",
       "[5 rows x 21 columns]"
      ]
     },
     "execution_count": 493,
     "metadata": {},
     "output_type": "execute_result"
    }
   ],
   "source": [
    "loan_data = pd.read_csv('../data/loan_data.csv.gz')\n",
    "\n",
    "# categorical types\n",
    "loan_data.outcome = loan_data.outcome.astype('category')\n",
    "loan_data.outcome.cat.reorder_categories(['paid off', 'default']) # reorder what is considered class 1\n",
    "loan_data.purpose_ = loan_data.purpose.astype('category')\n",
    "loan_data.home_ = loan_data.home_.astype('category')\n",
    "loan_data.emp_len_ = loan_data.emp_len_.astype('category')\n",
    "\n",
    "loan_data.head()"
   ]
  },
  {
   "cell_type": "code",
   "execution_count": 494,
   "metadata": {},
   "outputs": [
    {
     "data": {
      "text/html": [
       "<div>\n",
       "<style scoped>\n",
       "    .dataframe tbody tr th:only-of-type {\n",
       "        vertical-align: middle;\n",
       "    }\n",
       "\n",
       "    .dataframe tbody tr th {\n",
       "        vertical-align: top;\n",
       "    }\n",
       "\n",
       "    .dataframe thead th {\n",
       "        text-align: right;\n",
       "    }\n",
       "</style>\n",
       "<table border=\"1\" class=\"dataframe\">\n",
       "  <thead>\n",
       "    <tr style=\"text-align: right;\">\n",
       "      <th></th>\n",
       "      <th>purpose_</th>\n",
       "      <th>home_</th>\n",
       "      <th>emp_len_</th>\n",
       "    </tr>\n",
       "  </thead>\n",
       "  <tbody>\n",
       "    <tr>\n",
       "      <th>0</th>\n",
       "      <td>car</td>\n",
       "      <td>RENT</td>\n",
       "      <td>&gt; 1 Year</td>\n",
       "    </tr>\n",
       "    <tr>\n",
       "      <th>1</th>\n",
       "      <td>small_business</td>\n",
       "      <td>OWN</td>\n",
       "      <td>&gt; 1 Year</td>\n",
       "    </tr>\n",
       "    <tr>\n",
       "      <th>2</th>\n",
       "      <td>other</td>\n",
       "      <td>RENT</td>\n",
       "      <td>&gt; 1 Year</td>\n",
       "    </tr>\n",
       "    <tr>\n",
       "      <th>3</th>\n",
       "      <td>debt_consolidation</td>\n",
       "      <td>RENT</td>\n",
       "      <td>&gt; 1 Year</td>\n",
       "    </tr>\n",
       "    <tr>\n",
       "      <th>4</th>\n",
       "      <td>other</td>\n",
       "      <td>RENT</td>\n",
       "      <td>&gt; 1 Year</td>\n",
       "    </tr>\n",
       "  </tbody>\n",
       "</table>\n",
       "</div>"
      ],
      "text/plain": [
       "             purpose_ home_   emp_len_\n",
       "0                 car  RENT   > 1 Year\n",
       "1      small_business   OWN   > 1 Year\n",
       "2               other  RENT   > 1 Year\n",
       "3  debt_consolidation  RENT   > 1 Year\n",
       "4               other  RENT   > 1 Year"
      ]
     },
     "execution_count": 494,
     "metadata": {},
     "output_type": "execute_result"
    }
   ],
   "source": [
    "predictors = ['purpose_', 'home_', 'emp_len_']\n",
    "outcome = 'outcome'\n",
    "\n",
    "loan_data[predictors].head()"
   ]
  },
  {
   "cell_type": "code",
   "execution_count": 495,
   "metadata": {},
   "outputs": [
    {
     "data": {
      "text/html": [
       "<style>#sk-container-id-19 {color: black;background-color: white;}#sk-container-id-19 pre{padding: 0;}#sk-container-id-19 div.sk-toggleable {background-color: white;}#sk-container-id-19 label.sk-toggleable__label {cursor: pointer;display: block;width: 100%;margin-bottom: 0;padding: 0.3em;box-sizing: border-box;text-align: center;}#sk-container-id-19 label.sk-toggleable__label-arrow:before {content: \"▸\";float: left;margin-right: 0.25em;color: #696969;}#sk-container-id-19 label.sk-toggleable__label-arrow:hover:before {color: black;}#sk-container-id-19 div.sk-estimator:hover label.sk-toggleable__label-arrow:before {color: black;}#sk-container-id-19 div.sk-toggleable__content {max-height: 0;max-width: 0;overflow: hidden;text-align: left;background-color: #f0f8ff;}#sk-container-id-19 div.sk-toggleable__content pre {margin: 0.2em;color: black;border-radius: 0.25em;background-color: #f0f8ff;}#sk-container-id-19 input.sk-toggleable__control:checked~div.sk-toggleable__content {max-height: 200px;max-width: 100%;overflow: auto;}#sk-container-id-19 input.sk-toggleable__control:checked~label.sk-toggleable__label-arrow:before {content: \"▾\";}#sk-container-id-19 div.sk-estimator input.sk-toggleable__control:checked~label.sk-toggleable__label {background-color: #d4ebff;}#sk-container-id-19 div.sk-label input.sk-toggleable__control:checked~label.sk-toggleable__label {background-color: #d4ebff;}#sk-container-id-19 input.sk-hidden--visually {border: 0;clip: rect(1px 1px 1px 1px);clip: rect(1px, 1px, 1px, 1px);height: 1px;margin: -1px;overflow: hidden;padding: 0;position: absolute;width: 1px;}#sk-container-id-19 div.sk-estimator {font-family: monospace;background-color: #f0f8ff;border: 1px dotted black;border-radius: 0.25em;box-sizing: border-box;margin-bottom: 0.5em;}#sk-container-id-19 div.sk-estimator:hover {background-color: #d4ebff;}#sk-container-id-19 div.sk-parallel-item::after {content: \"\";width: 100%;border-bottom: 1px solid gray;flex-grow: 1;}#sk-container-id-19 div.sk-label:hover label.sk-toggleable__label {background-color: #d4ebff;}#sk-container-id-19 div.sk-serial::before {content: \"\";position: absolute;border-left: 1px solid gray;box-sizing: border-box;top: 0;bottom: 0;left: 50%;z-index: 0;}#sk-container-id-19 div.sk-serial {display: flex;flex-direction: column;align-items: center;background-color: white;padding-right: 0.2em;padding-left: 0.2em;position: relative;}#sk-container-id-19 div.sk-item {position: relative;z-index: 1;}#sk-container-id-19 div.sk-parallel {display: flex;align-items: stretch;justify-content: center;background-color: white;position: relative;}#sk-container-id-19 div.sk-item::before, #sk-container-id-19 div.sk-parallel-item::before {content: \"\";position: absolute;border-left: 1px solid gray;box-sizing: border-box;top: 0;bottom: 0;left: 50%;z-index: -1;}#sk-container-id-19 div.sk-parallel-item {display: flex;flex-direction: column;z-index: 1;position: relative;background-color: white;}#sk-container-id-19 div.sk-parallel-item:first-child::after {align-self: flex-end;width: 50%;}#sk-container-id-19 div.sk-parallel-item:last-child::after {align-self: flex-start;width: 50%;}#sk-container-id-19 div.sk-parallel-item:only-child::after {width: 0;}#sk-container-id-19 div.sk-dashed-wrapped {border: 1px dashed gray;margin: 0 0.4em 0.5em 0.4em;box-sizing: border-box;padding-bottom: 0.4em;background-color: white;}#sk-container-id-19 div.sk-label label {font-family: monospace;font-weight: bold;display: inline-block;line-height: 1.2em;}#sk-container-id-19 div.sk-label-container {text-align: center;}#sk-container-id-19 div.sk-container {/* jupyter's `normalize.less` sets `[hidden] { display: none; }` but bootstrap.min.css set `[hidden] { display: none !important; }` so we also need the `!important` here to be able to override the default hidden behavior on the sphinx rendered scikit-learn.org. See: https://github.com/scikit-learn/scikit-learn/issues/21755 */display: inline-block !important;position: relative;}#sk-container-id-19 div.sk-text-repr-fallback {display: none;}</style><div id=\"sk-container-id-19\" class=\"sk-top-container\"><div class=\"sk-text-repr-fallback\"><pre>MultinomialNB(alpha=0.01)</pre><b>In a Jupyter environment, please rerun this cell to show the HTML representation or trust the notebook. <br />On GitHub, the HTML representation is unable to render, please try loading this page with nbviewer.org.</b></div><div class=\"sk-container\" hidden><div class=\"sk-item\"><div class=\"sk-estimator sk-toggleable\"><input class=\"sk-toggleable__control sk-hidden--visually\" id=\"sk-estimator-id-19\" type=\"checkbox\" checked><label for=\"sk-estimator-id-19\" class=\"sk-toggleable__label sk-toggleable__label-arrow\">MultinomialNB</label><div class=\"sk-toggleable__content\"><pre>MultinomialNB(alpha=0.01)</pre></div></div></div></div></div>"
      ],
      "text/plain": [
       "MultinomialNB(alpha=0.01)"
      ]
     },
     "execution_count": 495,
     "metadata": {},
     "output_type": "execute_result"
    }
   ],
   "source": [
    "X = pd.get_dummies(loan_data[predictors], prefix='', prefix_sep='')\n",
    "y = loan_data[outcome]\n",
    "\n",
    "naive_model = MultinomialNB(alpha=0.01, fit_prior=True) #alpha is smoothing parameter\n",
    "naive_model.fit(X,y)"
   ]
  },
  {
   "cell_type": "markdown",
   "metadata": {},
   "source": [
    "It is possible to derive the conditional probabilities from the fitted model using the property feature_log_prob_. The model can be used to predict the outcome of a new loan.\n",
    "\n",
    "scikit-learn's classification models have two methods - predict which returns the predicted class and predict_proba, which returns the class probabilities."
   ]
  },
  {
   "cell_type": "code",
   "execution_count": 496,
   "metadata": {},
   "outputs": [
    {
     "name": "stdout",
     "output_type": "stream",
     "text": [
      "predicted class:  default\n"
     ]
    }
   ],
   "source": [
    "new_loan = X.loc[146:146,:] # loc is inclusive\n",
    "print('predicted class: ', naive_model.predict(new_loan)[0])"
   ]
  },
  {
   "cell_type": "code",
   "execution_count": 497,
   "metadata": {},
   "outputs": [],
   "source": [
    "probabilities = pd.DataFrame(naive_model.predict_proba(new_loan), columns=loan_data[outcome].cat.categories)"
   ]
  },
  {
   "cell_type": "code",
   "execution_count": 498,
   "metadata": {},
   "outputs": [
    {
     "data": {
      "text/html": [
       "<div>\n",
       "<style scoped>\n",
       "    .dataframe tbody tr th:only-of-type {\n",
       "        vertical-align: middle;\n",
       "    }\n",
       "\n",
       "    .dataframe tbody tr th {\n",
       "        vertical-align: top;\n",
       "    }\n",
       "\n",
       "    .dataframe thead th {\n",
       "        text-align: right;\n",
       "    }\n",
       "</style>\n",
       "<table border=\"1\" class=\"dataframe\">\n",
       "  <thead>\n",
       "    <tr style=\"text-align: right;\">\n",
       "      <th></th>\n",
       "      <th>default</th>\n",
       "      <th>paid off</th>\n",
       "    </tr>\n",
       "  </thead>\n",
       "  <tbody>\n",
       "    <tr>\n",
       "      <th>0</th>\n",
       "      <td>0.653696</td>\n",
       "      <td>0.346304</td>\n",
       "    </tr>\n",
       "  </tbody>\n",
       "</table>\n",
       "</div>"
      ],
      "text/plain": [
       "    default  paid off\n",
       "0  0.653696  0.346304"
      ]
     },
     "execution_count": 498,
     "metadata": {},
     "output_type": "execute_result"
    }
   ],
   "source": [
    "probabilities"
   ]
  },
  {
   "cell_type": "markdown",
   "metadata": {},
   "source": [
    "The prediction also returns a posterior estimate of the probability of default  (the class). The naive Bayesian classifier is known to produce biased estimates. However, where the goal is to rank records according to the probability that Y = 1, unbiased estimates of probability are not needed, and naive Bayes produces good results."
   ]
  },
  {
   "cell_type": "markdown",
   "metadata": {},
   "source": [
    "<b><h4>Numerical Predictor Variables</h4></b>\n",
    "\n",
    "The Bayesian classifier works only with categorical predictors (eg with spam classifier, where the prescence or absence of words, phrases, characters, and so on lies at the heart of the predictive task). To apply naive Bayes to numerical predictors, one of two approaches must be taken:\n",
    "\n",
    "- Bin and convert the numerical predictors to categorical predictors and apply the algorithm.\n",
    "- Use a probability model - for example, the normal distribution - to estimate the conditional probability $P(X_j|Y=i)$\n",
    "\n",
    "When a predictor category is absent in the training data, the algorithm assigns zero probability to the outcome variable in new data, rather than simply ignoring this variable, as other methods might. Most implementations of Naive Bayes use a smoothing parameter (Laplace Smoothing) to prevent this.\n",
    "\n",
    "Remember Naive Bayes works with categorical (factor) predictors and outcomes. It asks \"Within each outcome category, which predictor categories are most probable?\". That information is then inverted to estimate probabilities of outcome categories, given predictor values."
   ]
  },
  {
   "cell_type": "markdown",
   "metadata": {},
   "source": [
    "<b><h3>Discriminant Analysis</h3></b>\n",
    "\n",
    "$Discriminant\\;analysis$ is the earliest statistical classifier. While discriminant analysis encompasses several techniques, the most commonly used is linear discriminant analysis, or LDA. The original method was actually a slightly different from LDA, but the mechanics are essentially the same. LDA is now less widely used with the advent of more sophisticated techniques, such as tree models and logistic regression. Linear discriminant analysis should not be confused with Latent Dirichlet Allocation, also referred to as LDA. Latent Dirichlet Allocation is used in text and natural language processing and is unrelated to linear discriminant analysis."
   ]
  },
  {
   "cell_type": "markdown",
   "metadata": {},
   "source": [
    "<b><h4>Covariance Matrix</h4></b>\n",
    "\n",
    "To understand discriminant analysis, it is first necessary to introduce the concept of covariance between two or more variables. The covariance measures the relationship between two variables $x$ and $z$. Denote the mean for each variable by $\\bar x$ and $\\bar z$. The covariance $s_{x,z}$ is given by:\n",
    "\n",
    "$s_{x,z} = $  $\\dfrac{\\sum_{i=1}^n(x_i - \\bar x_i)(z_i - \\bar z_i)}{n-1}$\n",
    "\n",
    "where $n$ is the number of records (note that we divide by n-1 instead of n, degrees of freedom).\n",
    "\n",
    "As with the correlation coefficient, positive values indicate a positive relationship and negative values indicate a negative relationship. Correlation, however, is constrained to be between -1 and 1, whereas covariance scale depends on the scale of the varaibles $x$ and $z$. The $covariance\\;matrix\\;\\sum$ for $x$ and $z$, consists of the individual variable variances, $s_x^2$ and $s_z^2$ on the diagonal (where row and column are the same variable) and covariances between variable pairs on the off-diagonals.\n",
    "\n",
    "$\\hat\\sum$  = $\\begin{bmatrix} s_x^2 & s_{x,z} \\\\ s_{z,x} & s_z^2 \\end{bmatrix}$\n",
    "\n",
    "Recall that the standard deviation is used to normalize a variable to a z-score; the covariance matrix is used in a multivariate extension of this standardization process."
   ]
  },
  {
   "cell_type": "markdown",
   "metadata": {},
   "source": [
    "<b><h4>Fischer's Linear Discriminant</h4></b>\n",
    "\n",
    "For simplicity, let's focus on a classification problem in which we want to predict a binary outcome y using just two continuous numeric variables (x,z). Technically, discriminant analysis assumes the predictor variables are normally distributed continuous variables, but, in practice, the method works well even for nonextreme departures from normality, and for binary predictors. Fisher's linear discriminant distinguishes variation between groups, on the one hand, from variation within groups on the other. Specifically, seeking to divide the records into two groups, linear discriminant analysis (LDA) focuses on maximizing the \"between\" sums of squares $SS_{between}$ (measuring the variation between the two groups) relative to the \"within\" sum of squares $SS_{within}$ (measuring the within-group variation). In this case, the two groups correspond to the records $(x_0,z_0)$ for which y=0 and the record $(x_1,z_1)$ for which y = 1. The method finds the linear combination $w_xx+w_zz$ that maximizes the sum of squares ratio:\n",
    "\n",
    "$\\dfrac{SS_{between}}{SS_{within}}$\n",
    "\n",
    "The between sum of squares is the squared distance between the two group means, and the within sum of squares is the spread around the means within each group, weighted by the covariance matrix. Intuitively, by maximizing the between sum of squares and minimizing the within sum of squares, this method yields the greatest separation between the two groups.\n",
    "\n",
    "If the predictor variables are normalized prior to running LDA, the discriminator weights are measures of variable importance, thus providing a computationally efficient method of feature selection."
   ]
  },
  {
   "cell_type": "markdown",
   "metadata": {},
   "source": [
    "<b><h4>A Simple Example</h4></b>\n",
    "\n",
    "We apply an LDA function to a sample of loan data using two predictor variables, borrower_score and payment_inc_ratio. In Python, we can use LinearDiscriminantAnalysis() from sklearn.discriminant_analysis. The scalings_ property gives the estimated weights."
   ]
  },
  {
   "cell_type": "code",
   "execution_count": 499,
   "metadata": {},
   "outputs": [
    {
     "data": {
      "text/html": [
       "<div>\n",
       "<style scoped>\n",
       "    .dataframe tbody tr th:only-of-type {\n",
       "        vertical-align: middle;\n",
       "    }\n",
       "\n",
       "    .dataframe tbody tr th {\n",
       "        vertical-align: top;\n",
       "    }\n",
       "\n",
       "    .dataframe thead th {\n",
       "        text-align: right;\n",
       "    }\n",
       "</style>\n",
       "<table border=\"1\" class=\"dataframe\">\n",
       "  <thead>\n",
       "    <tr style=\"text-align: right;\">\n",
       "      <th></th>\n",
       "      <th>Unnamed: 0</th>\n",
       "      <th>outcome</th>\n",
       "      <th>purpose_</th>\n",
       "      <th>dti</th>\n",
       "      <th>borrower_score</th>\n",
       "      <th>payment_inc_ratio</th>\n",
       "    </tr>\n",
       "  </thead>\n",
       "  <tbody>\n",
       "    <tr>\n",
       "      <th>0</th>\n",
       "      <td>32109</td>\n",
       "      <td>paid off</td>\n",
       "      <td>debt_consolidation</td>\n",
       "      <td>21.23</td>\n",
       "      <td>0.40</td>\n",
       "      <td>5.11135</td>\n",
       "    </tr>\n",
       "    <tr>\n",
       "      <th>1</th>\n",
       "      <td>16982</td>\n",
       "      <td>default</td>\n",
       "      <td>credit_card</td>\n",
       "      <td>15.49</td>\n",
       "      <td>0.40</td>\n",
       "      <td>5.43165</td>\n",
       "    </tr>\n",
       "    <tr>\n",
       "      <th>2</th>\n",
       "      <td>25335</td>\n",
       "      <td>paid off</td>\n",
       "      <td>debt_consolidation</td>\n",
       "      <td>27.30</td>\n",
       "      <td>0.70</td>\n",
       "      <td>9.23003</td>\n",
       "    </tr>\n",
       "    <tr>\n",
       "      <th>3</th>\n",
       "      <td>34580</td>\n",
       "      <td>paid off</td>\n",
       "      <td>major_purchase</td>\n",
       "      <td>21.11</td>\n",
       "      <td>0.40</td>\n",
       "      <td>2.33482</td>\n",
       "    </tr>\n",
       "    <tr>\n",
       "      <th>4</th>\n",
       "      <td>14424</td>\n",
       "      <td>default</td>\n",
       "      <td>debt_consolidation</td>\n",
       "      <td>16.46</td>\n",
       "      <td>0.45</td>\n",
       "      <td>12.10320</td>\n",
       "    </tr>\n",
       "  </tbody>\n",
       "</table>\n",
       "</div>"
      ],
      "text/plain": [
       "   Unnamed: 0   outcome            purpose_    dti  borrower_score  \\\n",
       "0       32109  paid off  debt_consolidation  21.23            0.40   \n",
       "1       16982   default         credit_card  15.49            0.40   \n",
       "2       25335  paid off  debt_consolidation  27.30            0.70   \n",
       "3       34580  paid off      major_purchase  21.11            0.40   \n",
       "4       14424   default  debt_consolidation  16.46            0.45   \n",
       "\n",
       "   payment_inc_ratio  \n",
       "0            5.11135  \n",
       "1            5.43165  \n",
       "2            9.23003  \n",
       "3            2.33482  \n",
       "4           12.10320  "
      ]
     },
     "execution_count": 499,
     "metadata": {},
     "output_type": "execute_result"
    }
   ],
   "source": [
    "loan3000 = pd.read_csv('../data/loan3000.csv')\n",
    "loan3000.head()"
   ]
  },
  {
   "cell_type": "code",
   "execution_count": 500,
   "metadata": {},
   "outputs": [],
   "source": [
    "loan3000.outcome = loan3000.outcome.astype('category')"
   ]
  },
  {
   "cell_type": "code",
   "execution_count": 501,
   "metadata": {},
   "outputs": [],
   "source": [
    "predictors = ['borrower_score', 'payment_inc_ratio']\n",
    "outcome = 'outcome'"
   ]
  },
  {
   "cell_type": "code",
   "execution_count": 502,
   "metadata": {},
   "outputs": [],
   "source": [
    "X = loan3000[predictors]\n",
    "y = loan3000[outcome]"
   ]
  },
  {
   "cell_type": "code",
   "execution_count": 503,
   "metadata": {},
   "outputs": [
    {
     "data": {
      "text/html": [
       "<div>\n",
       "<style scoped>\n",
       "    .dataframe tbody tr th:only-of-type {\n",
       "        vertical-align: middle;\n",
       "    }\n",
       "\n",
       "    .dataframe tbody tr th {\n",
       "        vertical-align: top;\n",
       "    }\n",
       "\n",
       "    .dataframe thead th {\n",
       "        text-align: right;\n",
       "    }\n",
       "</style>\n",
       "<table border=\"1\" class=\"dataframe\">\n",
       "  <thead>\n",
       "    <tr style=\"text-align: right;\">\n",
       "      <th></th>\n",
       "      <th>0</th>\n",
       "    </tr>\n",
       "  </thead>\n",
       "  <tbody>\n",
       "    <tr>\n",
       "      <th>borrower_score</th>\n",
       "      <td>7.175839</td>\n",
       "    </tr>\n",
       "    <tr>\n",
       "      <th>payment_inc_ratio</th>\n",
       "      <td>-0.099676</td>\n",
       "    </tr>\n",
       "  </tbody>\n",
       "</table>\n",
       "</div>"
      ],
      "text/plain": [
       "                          0\n",
       "borrower_score     7.175839\n",
       "payment_inc_ratio -0.099676"
      ]
     },
     "execution_count": 503,
     "metadata": {},
     "output_type": "execute_result"
    }
   ],
   "source": [
    "loan_lda = LinearDiscriminantAnalysis()\n",
    "loan_lda.fit(X,y)\n",
    "pd.DataFrame(loan_lda.scalings_, index=X.columns)"
   ]
  },
  {
   "cell_type": "markdown",
   "metadata": {},
   "source": [
    "The predict_proba() method of the fitted model return the probabilities for the 'default' and 'paid_off' outcomes. A plot of predictions helps illustrate how LDA works."
   ]
  },
  {
   "cell_type": "code",
   "execution_count": 504,
   "metadata": {},
   "outputs": [
    {
     "data": {
      "text/html": [
       "<div>\n",
       "<style scoped>\n",
       "    .dataframe tbody tr th:only-of-type {\n",
       "        vertical-align: middle;\n",
       "    }\n",
       "\n",
       "    .dataframe tbody tr th {\n",
       "        vertical-align: top;\n",
       "    }\n",
       "\n",
       "    .dataframe thead th {\n",
       "        text-align: right;\n",
       "    }\n",
       "</style>\n",
       "<table border=\"1\" class=\"dataframe\">\n",
       "  <thead>\n",
       "    <tr style=\"text-align: right;\">\n",
       "      <th></th>\n",
       "      <th>default</th>\n",
       "      <th>paid off</th>\n",
       "      <th>actual</th>\n",
       "    </tr>\n",
       "  </thead>\n",
       "  <tbody>\n",
       "    <tr>\n",
       "      <th>0</th>\n",
       "      <td>0.553544</td>\n",
       "      <td>0.446456</td>\n",
       "      <td>paid off</td>\n",
       "    </tr>\n",
       "    <tr>\n",
       "      <th>1</th>\n",
       "      <td>0.558953</td>\n",
       "      <td>0.441047</td>\n",
       "      <td>default</td>\n",
       "    </tr>\n",
       "    <tr>\n",
       "      <th>2</th>\n",
       "      <td>0.272696</td>\n",
       "      <td>0.727304</td>\n",
       "      <td>paid off</td>\n",
       "    </tr>\n",
       "    <tr>\n",
       "      <th>3</th>\n",
       "      <td>0.506254</td>\n",
       "      <td>0.493746</td>\n",
       "      <td>paid off</td>\n",
       "    </tr>\n",
       "    <tr>\n",
       "      <th>4</th>\n",
       "      <td>0.609952</td>\n",
       "      <td>0.390048</td>\n",
       "      <td>default</td>\n",
       "    </tr>\n",
       "  </tbody>\n",
       "</table>\n",
       "</div>"
      ],
      "text/plain": [
       "    default  paid off    actual\n",
       "0  0.553544  0.446456  paid off\n",
       "1  0.558953  0.441047   default\n",
       "2  0.272696  0.727304  paid off\n",
       "3  0.506254  0.493746  paid off\n",
       "4  0.609952  0.390048   default"
      ]
     },
     "execution_count": 504,
     "metadata": {},
     "output_type": "execute_result"
    }
   ],
   "source": [
    "pred = pd.DataFrame(loan_lda.predict_proba(loan3000[predictors]), columns=loan_lda.classes_)\n",
    "pred['actual'] = loan3000.outcome\n",
    "pred.head()"
   ]
  },
  {
   "cell_type": "code",
   "execution_count": 505,
   "metadata": {},
   "outputs": [
    {
     "data": {
      "text/html": [
       "<div>\n",
       "<style scoped>\n",
       "    .dataframe tbody tr th:only-of-type {\n",
       "        vertical-align: middle;\n",
       "    }\n",
       "\n",
       "    .dataframe tbody tr th {\n",
       "        vertical-align: top;\n",
       "    }\n",
       "\n",
       "    .dataframe thead th {\n",
       "        text-align: right;\n",
       "    }\n",
       "</style>\n",
       "<table border=\"1\" class=\"dataframe\">\n",
       "  <thead>\n",
       "    <tr style=\"text-align: right;\">\n",
       "      <th></th>\n",
       "      <th>Unnamed: 0</th>\n",
       "      <th>outcome</th>\n",
       "      <th>purpose_</th>\n",
       "      <th>dti</th>\n",
       "      <th>borrower_score</th>\n",
       "      <th>payment_inc_ratio</th>\n",
       "      <th>default</th>\n",
       "    </tr>\n",
       "  </thead>\n",
       "  <tbody>\n",
       "    <tr>\n",
       "      <th>0</th>\n",
       "      <td>32109</td>\n",
       "      <td>paid off</td>\n",
       "      <td>debt_consolidation</td>\n",
       "      <td>21.23</td>\n",
       "      <td>0.40</td>\n",
       "      <td>5.11135</td>\n",
       "      <td>0.553544</td>\n",
       "    </tr>\n",
       "    <tr>\n",
       "      <th>1</th>\n",
       "      <td>16982</td>\n",
       "      <td>default</td>\n",
       "      <td>credit_card</td>\n",
       "      <td>15.49</td>\n",
       "      <td>0.40</td>\n",
       "      <td>5.43165</td>\n",
       "      <td>0.558953</td>\n",
       "    </tr>\n",
       "    <tr>\n",
       "      <th>2</th>\n",
       "      <td>25335</td>\n",
       "      <td>paid off</td>\n",
       "      <td>debt_consolidation</td>\n",
       "      <td>27.30</td>\n",
       "      <td>0.70</td>\n",
       "      <td>9.23003</td>\n",
       "      <td>0.272696</td>\n",
       "    </tr>\n",
       "    <tr>\n",
       "      <th>3</th>\n",
       "      <td>34580</td>\n",
       "      <td>paid off</td>\n",
       "      <td>major_purchase</td>\n",
       "      <td>21.11</td>\n",
       "      <td>0.40</td>\n",
       "      <td>2.33482</td>\n",
       "      <td>0.506254</td>\n",
       "    </tr>\n",
       "    <tr>\n",
       "      <th>4</th>\n",
       "      <td>14424</td>\n",
       "      <td>default</td>\n",
       "      <td>debt_consolidation</td>\n",
       "      <td>16.46</td>\n",
       "      <td>0.45</td>\n",
       "      <td>12.10320</td>\n",
       "      <td>0.609952</td>\n",
       "    </tr>\n",
       "  </tbody>\n",
       "</table>\n",
       "</div>"
      ],
      "text/plain": [
       "   Unnamed: 0   outcome            purpose_    dti  borrower_score  \\\n",
       "0       32109  paid off  debt_consolidation  21.23            0.40   \n",
       "1       16982   default         credit_card  15.49            0.40   \n",
       "2       25335  paid off  debt_consolidation  27.30            0.70   \n",
       "3       34580  paid off      major_purchase  21.11            0.40   \n",
       "4       14424   default  debt_consolidation  16.46            0.45   \n",
       "\n",
       "   payment_inc_ratio   default  \n",
       "0            5.11135  0.553544  \n",
       "1            5.43165  0.558953  \n",
       "2            9.23003  0.272696  \n",
       "3            2.33482  0.506254  \n",
       "4           12.10320  0.609952  "
      ]
     },
     "execution_count": 505,
     "metadata": {},
     "output_type": "execute_result"
    }
   ],
   "source": [
    "# Use scalings and center of means to determine decision boundary\n",
    "center = np.mean(loan_lda.means_, axis=0)                   # mean of each column\n",
    "slope = - loan_lda.scalings_[0] / loan_lda.scalings_[1]     # ratio of coefficients, slope \n",
    "intercept = center[1] - center[0] * slope                   # intercept o\n",
    "\n",
    "# payment_inc_ratio for borrower of score 0 and 20\n",
    "x_0 = (0 - intercept) / slope\n",
    "x_20 = (20 - intercept) / slope\n",
    "\n",
    "lda_df = pd.concat([loan3000, pred['default']], axis=1)\n",
    "lda_df.head()"
   ]
  },
  {
   "cell_type": "code",
   "execution_count": 506,
   "metadata": {},
   "outputs": [
    {
     "data": {
      "text/plain": [
       "[<matplotlib.lines.Line2D at 0x7f831f2b9190>]"
      ]
     },
     "execution_count": 506,
     "metadata": {},
     "output_type": "execute_result"
    },
    {
     "data": {
      "image/png": "[encoded data removed]",
      "text/plain": [
       "<Figure size 400x400 with 1 Axes>"
      ]
     },
     "metadata": {},
     "output_type": "display_data"
    }
   ],
   "source": [
    "fig, ax = plt.subplots(figsize=(4,4))\n",
    "g = sns.scatterplot(x='borrower_score', y='payment_inc_ratio', hue='default', data=lda_df,\n",
    "                    palette=sns.diverging_palette(240,10,n=9,as_cmap=True), ax=ax, legend=False)\n",
    "ax.set_ylim(0,20)\n",
    "ax.set_xlim(0.15,0.8)\n",
    "ax.plot((x_0,x_20), (0,20), linewidth=3)\n",
    "ax.plot(*loan_lda.means_.transpose())\n"
   ]
  },
  {
   "cell_type": "markdown",
   "metadata": {},
   "source": [
    "Using the discriminant function weights, LDA splits the predictor space into two regions, as shown by the solid line. The predictions farther away from the line in both directions have a higher level of confidence (ie, a probability further from 0.5).\n",
    "\n",
    "LDA works just as well with more than two predictor variables. The only limiting factor is the number of records (estimating the covariance matrix requires a sufficient number of records per variable). There are other variants of discriminant analysis. Quadratic discriminant analysis (QDA) is still a linear discriminant function. The main difference is that in LDA, the covariance matrix is assumed to be the same for the two groups corresponding to Y=0 and Y=1. In QDA, the covariance matrix is allowed to be different for the two groups."
   ]
  },
  {
   "cell_type": "markdown",
   "metadata": {},
   "source": [
    "<b><h3>Logistic Regression</h3></b>\n",
    "\n",
    "Logistic regression is analogous to multiple linear regression, except the outcome is binary. Various transformations are employed to convert the problem to one in which a linear model can be fit. Like discriminant analysis, and unlike K-Nearest Neighbor and naive Bayes, logistic regression is a structured model approach rather than a data-centric approach. Due to its fast computational spped and its output of a model that lends itself to rapid scoring of new data, it is a popular method."
   ]
  },
  {
   "cell_type": "markdown",
   "metadata": {},
   "source": [
    "<b><h4>Logistic Response Function and Logit</h4></b>\n",
    "\n",
    "The key ingredients for logistic regression are the logistic response function and the logit, in which we map a probability (which is on a 0-1 scale) to a more expansive scale suitable for linear modeling.\n",
    "\n",
    "The first step is to think of the outcome variable not as a binary label but as the probability p that the label is 1. Naively, we might be tempted to model p as a linear function of the predictor variables.\n",
    "\n",
    "$p=\\beta_0 + \\beta_1x_1 + \\beta_2x_2 + ... + \\beta_qx_q$\n",
    "\n",
    "However, fitting this model does not ensure that $p$ will end up between 0 and 1, as a probability must. Instead we model $p$ by applying a logistic response or inverse logit function to the predictors.\n",
    "\n",
    "$p=\\dfrac{1}{1+e^{-(\\beta_0 + \\beta_1x_1 + \\beta_2x_2 + ... + \\beta_qx_q)}}$\n",
    "\n",
    "This transformation ensures tha p stays between 0 and 1. \n",
    "\n",
    "To get the exponential expression out of the denominator, we consider odds instead of probabilities. Odds, familiar to bettors everywhere, are the ratio of success (1) to nonsuccess (0). In terms of probabilities, odds are the probability of an event divided by the probability that the event will not occur. For example, if the probability that a horse will win is 0.5, the probability of \"won't win\" is (1-0.5)=0.5, and the odds are 1:\n",
    "\n",
    "$Odds(Y=1) = \\dfrac{p}{1-p}$\n",
    "\n",
    "We can obtain the probability from the odds using the inverse odds function:\n",
    "\n",
    "$p = \\dfrac{Odds}{1+Odds}$\n",
    "\n",
    "We combine this with the logistic response function to get:\n",
    "\n",
    "$Odds(Y=1)= e^{\\beta_0 + \\beta_1x_1 + \\beta_2x_2 + ... + \\beta_qx_q}$\n",
    "\n",
    "Finally, taking the logarithm of both sides, we get an expression that involves a linear function of the predictors:\n",
    "\n",
    "$log(Odds(Y=1))=\\beta_0 + \\beta_1x_1 + \\beta_2x_2 + ... + \\beta_qx_q$\n",
    "\n",
    "The log-odds function, also known as the logit function, maps the probability from (0,1) to any value $(-∞,+∞)$. The transformation circle is complete; we have used a linear model to predict a probability, which we can in turn map to a class label by applying a cutoff rule - any record with a probability greater than the cutoff is classified as 1."
   ]
  },
  {
   "cell_type": "markdown",
   "metadata": {},
   "source": [
    "<b><h4>Logistic Regression and the GLM</h4></b>\n",
    "\n",
    "The response in the logistic regression formula is the log odds of a binary outocme of 1. We observe only the binary outcome, not the log odds, so special statistical methods are needed to fit the equation. Logistic regression is a special instance of a generalized linear model (GLM) developed to extend linear regression to other settings.\n",
    "\n",
    "In Python, we use the scikit-learn class LogisticRegression() from sklearn.linear_model. The arguments penalty and C are used to prevent overfitting by L1 or L2 regularaization. Regularization is switched on by default. In order to fit without regularization w set C to a very large value. The solver argument selects the used minimizer; the method liblinear is the default:\n"
   ]
  },
  {
   "cell_type": "code",
   "execution_count": 507,
   "metadata": {},
   "outputs": [
    {
     "data": {
      "text/html": [
       "<style>#sk-container-id-20 {color: black;background-color: white;}#sk-container-id-20 pre{padding: 0;}#sk-container-id-20 div.sk-toggleable {background-color: white;}#sk-container-id-20 label.sk-toggleable__label {cursor: pointer;display: block;width: 100%;margin-bottom: 0;padding: 0.3em;box-sizing: border-box;text-align: center;}#sk-container-id-20 label.sk-toggleable__label-arrow:before {content: \"▸\";float: left;margin-right: 0.25em;color: #696969;}#sk-container-id-20 label.sk-toggleable__label-arrow:hover:before {color: black;}#sk-container-id-20 div.sk-estimator:hover label.sk-toggleable__label-arrow:before {color: black;}#sk-container-id-20 div.sk-toggleable__content {max-height: 0;max-width: 0;overflow: hidden;text-align: left;background-color: #f0f8ff;}#sk-container-id-20 div.sk-toggleable__content pre {margin: 0.2em;color: black;border-radius: 0.25em;background-color: #f0f8ff;}#sk-container-id-20 input.sk-toggleable__control:checked~div.sk-toggleable__content {max-height: 200px;max-width: 100%;overflow: auto;}#sk-container-id-20 input.sk-toggleable__control:checked~label.sk-toggleable__label-arrow:before {content: \"▾\";}#sk-container-id-20 div.sk-estimator input.sk-toggleable__control:checked~label.sk-toggleable__label {background-color: #d4ebff;}#sk-container-id-20 div.sk-label input.sk-toggleable__control:checked~label.sk-toggleable__label {background-color: #d4ebff;}#sk-container-id-20 input.sk-hidden--visually {border: 0;clip: rect(1px 1px 1px 1px);clip: rect(1px, 1px, 1px, 1px);height: 1px;margin: -1px;overflow: hidden;padding: 0;position: absolute;width: 1px;}#sk-container-id-20 div.sk-estimator {font-family: monospace;background-color: #f0f8ff;border: 1px dotted black;border-radius: 0.25em;box-sizing: border-box;margin-bottom: 0.5em;}#sk-container-id-20 div.sk-estimator:hover {background-color: #d4ebff;}#sk-container-id-20 div.sk-parallel-item::after {content: \"\";width: 100%;border-bottom: 1px solid gray;flex-grow: 1;}#sk-container-id-20 div.sk-label:hover label.sk-toggleable__label {background-color: #d4ebff;}#sk-container-id-20 div.sk-serial::before {content: \"\";position: absolute;border-left: 1px solid gray;box-sizing: border-box;top: 0;bottom: 0;left: 50%;z-index: 0;}#sk-container-id-20 div.sk-serial {display: flex;flex-direction: column;align-items: center;background-color: white;padding-right: 0.2em;padding-left: 0.2em;position: relative;}#sk-container-id-20 div.sk-item {position: relative;z-index: 1;}#sk-container-id-20 div.sk-parallel {display: flex;align-items: stretch;justify-content: center;background-color: white;position: relative;}#sk-container-id-20 div.sk-item::before, #sk-container-id-20 div.sk-parallel-item::before {content: \"\";position: absolute;border-left: 1px solid gray;box-sizing: border-box;top: 0;bottom: 0;left: 50%;z-index: -1;}#sk-container-id-20 div.sk-parallel-item {display: flex;flex-direction: column;z-index: 1;position: relative;background-color: white;}#sk-container-id-20 div.sk-parallel-item:first-child::after {align-self: flex-end;width: 50%;}#sk-container-id-20 div.sk-parallel-item:last-child::after {align-self: flex-start;width: 50%;}#sk-container-id-20 div.sk-parallel-item:only-child::after {width: 0;}#sk-container-id-20 div.sk-dashed-wrapped {border: 1px dashed gray;margin: 0 0.4em 0.5em 0.4em;box-sizing: border-box;padding-bottom: 0.4em;background-color: white;}#sk-container-id-20 div.sk-label label {font-family: monospace;font-weight: bold;display: inline-block;line-height: 1.2em;}#sk-container-id-20 div.sk-label-container {text-align: center;}#sk-container-id-20 div.sk-container {/* jupyter's `normalize.less` sets `[hidden] { display: none; }` but bootstrap.min.css set `[hidden] { display: none !important; }` so we also need the `!important` here to be able to override the default hidden behavior on the sphinx rendered scikit-learn.org. See: https://github.com/scikit-learn/scikit-learn/issues/21755 */display: inline-block !important;position: relative;}#sk-container-id-20 div.sk-text-repr-fallback {display: none;}</style><div id=\"sk-container-id-20\" class=\"sk-top-container\"><div class=\"sk-text-repr-fallback\"><pre>LogisticRegression(C=1e+42, solver=&#x27;liblinear&#x27;)</pre><b>In a Jupyter environment, please rerun this cell to show the HTML representation or trust the notebook. <br />On GitHub, the HTML representation is unable to render, please try loading this page with nbviewer.org.</b></div><div class=\"sk-container\" hidden><div class=\"sk-item\"><div class=\"sk-estimator sk-toggleable\"><input class=\"sk-toggleable__control sk-hidden--visually\" id=\"sk-estimator-id-20\" type=\"checkbox\" checked><label for=\"sk-estimator-id-20\" class=\"sk-toggleable__label sk-toggleable__label-arrow\">LogisticRegression</label><div class=\"sk-toggleable__content\"><pre>LogisticRegression(C=1e+42, solver=&#x27;liblinear&#x27;)</pre></div></div></div></div></div>"
      ],
      "text/plain": [
       "LogisticRegression(C=1e+42, solver='liblinear')"
      ]
     },
     "execution_count": 507,
     "metadata": {},
     "output_type": "execute_result"
    }
   ],
   "source": [
    "predictors = ['payment_inc_ratio', 'purpose_', 'home_', 'emp_len_', 'borrower_score']\n",
    "outcome = 'outcome'\n",
    "\n",
    "X = pd.get_dummies(loan_data[predictors], prefix='', prefix_sep='', drop_first=True)\n",
    "y = loan_data[outcome]       # .cat.categories\n",
    "\n",
    "logit_reg = LogisticRegression(penalty='l2', C=1e42, solver='liblinear')\n",
    "logit_reg.fit(X,y)"
   ]
  },
  {
   "cell_type": "code",
   "execution_count": 508,
   "metadata": {},
   "outputs": [
    {
     "name": "stdout",
     "output_type": "stream",
     "text": [
      "intercept  -1.8355185839159172\n",
      "classes  ['default' 'paid off']\n"
     ]
    },
    {
     "data": {
      "text/html": [
       "<div>\n",
       "<style scoped>\n",
       "    .dataframe tbody tr th:only-of-type {\n",
       "        vertical-align: middle;\n",
       "    }\n",
       "\n",
       "    .dataframe tbody tr th {\n",
       "        vertical-align: top;\n",
       "    }\n",
       "\n",
       "    .dataframe thead th {\n",
       "        text-align: right;\n",
       "    }\n",
       "</style>\n",
       "<table border=\"1\" class=\"dataframe\">\n",
       "  <thead>\n",
       "    <tr style=\"text-align: right;\">\n",
       "      <th></th>\n",
       "      <th>coef</th>\n",
       "    </tr>\n",
       "  </thead>\n",
       "  <tbody>\n",
       "    <tr>\n",
       "      <th>payment_inc_ratio</th>\n",
       "      <td>-0.080000</td>\n",
       "    </tr>\n",
       "    <tr>\n",
       "      <th>borrower_score</th>\n",
       "      <td>4.605058</td>\n",
       "    </tr>\n",
       "    <tr>\n",
       "      <th>credit_card</th>\n",
       "      <td>0.208896</td>\n",
       "    </tr>\n",
       "    <tr>\n",
       "      <th>debt_consolidation</th>\n",
       "      <td>-0.040323</td>\n",
       "    </tr>\n",
       "    <tr>\n",
       "      <th>home_improvement</th>\n",
       "      <td>-0.200081</td>\n",
       "    </tr>\n",
       "    <tr>\n",
       "      <th>house</th>\n",
       "      <td>-0.195597</td>\n",
       "    </tr>\n",
       "    <tr>\n",
       "      <th>major_purchase</th>\n",
       "      <td>-0.034457</td>\n",
       "    </tr>\n",
       "    <tr>\n",
       "      <th>medical</th>\n",
       "      <td>-0.300962</td>\n",
       "    </tr>\n",
       "    <tr>\n",
       "      <th>moving</th>\n",
       "      <td>-0.467877</td>\n",
       "    </tr>\n",
       "    <tr>\n",
       "      <th>other</th>\n",
       "      <td>-0.464216</td>\n",
       "    </tr>\n",
       "    <tr>\n",
       "      <th>small_business</th>\n",
       "      <td>-1.006642</td>\n",
       "    </tr>\n",
       "    <tr>\n",
       "      <th>vacation</th>\n",
       "      <td>-0.501342</td>\n",
       "    </tr>\n",
       "    <tr>\n",
       "      <th>wedding</th>\n",
       "      <td>0.026583</td>\n",
       "    </tr>\n",
       "    <tr>\n",
       "      <th>OWN</th>\n",
       "      <td>-0.047154</td>\n",
       "    </tr>\n",
       "    <tr>\n",
       "      <th>RENT</th>\n",
       "      <td>-0.158748</td>\n",
       "    </tr>\n",
       "    <tr>\n",
       "      <th>&gt; 1 Year</th>\n",
       "      <td>0.351506</td>\n",
       "    </tr>\n",
       "  </tbody>\n",
       "</table>\n",
       "</div>"
      ],
      "text/plain": [
       "                        coef\n",
       "payment_inc_ratio  -0.080000\n",
       "borrower_score      4.605058\n",
       "credit_card         0.208896\n",
       "debt_consolidation -0.040323\n",
       "home_improvement   -0.200081\n",
       "house              -0.195597\n",
       "major_purchase     -0.034457\n",
       "medical            -0.300962\n",
       "moving             -0.467877\n",
       "other              -0.464216\n",
       "small_business     -1.006642\n",
       "vacation           -0.501342\n",
       "wedding             0.026583\n",
       "OWN                -0.047154\n",
       "RENT               -0.158748\n",
       " > 1 Year           0.351506"
      ]
     },
     "execution_count": 508,
     "metadata": {},
     "output_type": "execute_result"
    }
   ],
   "source": [
    "print('intercept ', logit_reg.intercept_[0])\n",
    "print('classes ', logit_reg.classes_)\n",
    "pd.DataFrame({\n",
    "    'coef': logit_reg.coef_[0],  # 2D (1,1) so select first (and only)\n",
    "}, index=X.columns)"
   ]
  },
  {
   "cell_type": "code",
   "execution_count": 509,
   "metadata": {},
   "outputs": [
    {
     "name": "stdout",
     "output_type": "stream",
     "text": [
      "Index(['car', 'credit_card', 'debt_consolidation', 'home_improvement', 'house',\n",
      "       'major_purchase', 'medical', 'moving', 'other', 'small_business',\n",
      "       'vacation', 'wedding'],\n",
      "      dtype='object')\n",
      "Index([' < 1 Year', ' > 1 Year'], dtype='object')\n",
      "Index(['MORTGAGE', 'OWN', 'RENT'], dtype='object')\n"
     ]
    }
   ],
   "source": [
    "print(loan_data.purpose_.cat.categories)\n",
    "print(loan_data.emp_len_.cat.categories)\n",
    "print(loan_data.home_.cat.categories)"
   ]
  },
  {
   "cell_type": "markdown",
   "metadata": {},
   "source": [
    "If you have a feature or outcome variable that is ordinal (ie ordered in value) use the scikit-learn class OrdinalEncoder() to replace the categories with numbers. When we apply this to our outcome variable in the loan_data example, the resulting coefficients have reversed signs because we reverse the classes below ie paid off is class 1."
   ]
  },
  {
   "cell_type": "code",
   "execution_count": 510,
   "metadata": {},
   "outputs": [],
   "source": [
    "from sklearn.preprocessing import OrdinalEncoder\n",
    "\n",
    "enc = OrdinalEncoder(categories=[['paid off', 'default']])\n",
    "y_enc = enc.fit_transform(loan_data[[outcome]]).ravel()"
   ]
  },
  {
   "cell_type": "code",
   "execution_count": 511,
   "metadata": {},
   "outputs": [
    {
     "data": {
      "text/plain": [
       "array([1., 1., 1., ..., 0., 0., 0.])"
      ]
     },
     "execution_count": 511,
     "metadata": {},
     "output_type": "execute_result"
    }
   ],
   "source": [
    "y_enc"
   ]
  },
  {
   "cell_type": "code",
   "execution_count": 512,
   "metadata": {},
   "outputs": [
    {
     "name": "stdout",
     "output_type": "stream",
     "text": [
      "intercept  1.8355194685213252\n",
      "classes  [0. 1.]\n"
     ]
    },
    {
     "data": {
      "text/html": [
       "<div>\n",
       "<style scoped>\n",
       "    .dataframe tbody tr th:only-of-type {\n",
       "        vertical-align: middle;\n",
       "    }\n",
       "\n",
       "    .dataframe tbody tr th {\n",
       "        vertical-align: top;\n",
       "    }\n",
       "\n",
       "    .dataframe thead th {\n",
       "        text-align: right;\n",
       "    }\n",
       "</style>\n",
       "<table border=\"1\" class=\"dataframe\">\n",
       "  <thead>\n",
       "    <tr style=\"text-align: right;\">\n",
       "      <th></th>\n",
       "      <th>coeff</th>\n",
       "    </tr>\n",
       "  </thead>\n",
       "  <tbody>\n",
       "    <tr>\n",
       "      <th>payment_inc_ratio</th>\n",
       "      <td>0.080000</td>\n",
       "    </tr>\n",
       "    <tr>\n",
       "      <th>borrower_score</th>\n",
       "      <td>-4.605057</td>\n",
       "    </tr>\n",
       "    <tr>\n",
       "      <th>credit_card</th>\n",
       "      <td>-0.208896</td>\n",
       "    </tr>\n",
       "    <tr>\n",
       "      <th>debt_consolidation</th>\n",
       "      <td>0.040323</td>\n",
       "    </tr>\n",
       "    <tr>\n",
       "      <th>home_improvement</th>\n",
       "      <td>0.200080</td>\n",
       "    </tr>\n",
       "    <tr>\n",
       "      <th>house</th>\n",
       "      <td>0.195596</td>\n",
       "    </tr>\n",
       "    <tr>\n",
       "      <th>major_purchase</th>\n",
       "      <td>0.034456</td>\n",
       "    </tr>\n",
       "    <tr>\n",
       "      <th>medical</th>\n",
       "      <td>0.300961</td>\n",
       "    </tr>\n",
       "    <tr>\n",
       "      <th>moving</th>\n",
       "      <td>0.467876</td>\n",
       "    </tr>\n",
       "    <tr>\n",
       "      <th>other</th>\n",
       "      <td>0.464217</td>\n",
       "    </tr>\n",
       "    <tr>\n",
       "      <th>small_business</th>\n",
       "      <td>1.006641</td>\n",
       "    </tr>\n",
       "    <tr>\n",
       "      <th>vacation</th>\n",
       "      <td>0.501342</td>\n",
       "    </tr>\n",
       "    <tr>\n",
       "      <th>wedding</th>\n",
       "      <td>-0.026584</td>\n",
       "    </tr>\n",
       "    <tr>\n",
       "      <th>OWN</th>\n",
       "      <td>0.047153</td>\n",
       "    </tr>\n",
       "    <tr>\n",
       "      <th>RENT</th>\n",
       "      <td>0.158748</td>\n",
       "    </tr>\n",
       "    <tr>\n",
       "      <th>&gt; 1 Year</th>\n",
       "      <td>-0.351507</td>\n",
       "    </tr>\n",
       "  </tbody>\n",
       "</table>\n",
       "</div>"
      ],
      "text/plain": [
       "                       coeff\n",
       "payment_inc_ratio   0.080000\n",
       "borrower_score     -4.605057\n",
       "credit_card        -0.208896\n",
       "debt_consolidation  0.040323\n",
       "home_improvement    0.200080\n",
       "house               0.195596\n",
       "major_purchase      0.034456\n",
       "medical             0.300961\n",
       "moving              0.467876\n",
       "other               0.464217\n",
       "small_business      1.006641\n",
       "vacation            0.501342\n",
       "wedding            -0.026584\n",
       "OWN                 0.047153\n",
       "RENT                0.158748\n",
       " > 1 Year          -0.351507"
      ]
     },
     "execution_count": 512,
     "metadata": {},
     "output_type": "execute_result"
    }
   ],
   "source": [
    "logit_reg_enc = LogisticRegression(penalty='l2', C=1e42, solver='liblinear')\n",
    "logit_reg_enc.fit(X, y_enc)\n",
    "\n",
    "print('intercept ', logit_reg_enc.intercept_[0])\n",
    "print('classes ', logit_reg_enc.classes_)\n",
    "pd.DataFrame({'coeff': logit_reg_enc.coef_[0]}, index=X.columns)"
   ]
  },
  {
   "cell_type": "markdown",
   "metadata": {},
   "source": [
    "<b><h4>Generalized Linear Models</h4></b>\n",
    "\n",
    "Generalized linear models (GLMs) are characterized by two main components:\n",
    "- A probability distribution or family (binomial in the case of logistic regression)\n",
    "- A link function - i.e, a transformation function that maps the response to the predictors (logit in the case of logistic regression)\n",
    "\n",
    "Logistic regressiion is by far the most common form of GLM. A data scientist will encounter other types of GLMs. Sometimes a log link function is used instead of the logit; in practice, use of a log link is unlikely to lead to very different results for most applications. The Poisson distribution is commonly used to model count data (e.g, the number of times a user visits a web page in a certain amount of time). Other families include negative binomial and gamma, often used to model elapsed time (eg time to failure). In contrast to logistic regression, application of GLMs with these models is more nuanced and involves greater care. \n"
   ]
  },
  {
   "cell_type": "markdown",
   "metadata": {},
   "source": [
    "<b><h4>Predicted Valus From Logistic Regression</h4></b>\n",
    "\n",
    "The predicted value from logistic regression is in terms of the log odds: $\\hat Y = log(Odds(Y=1))$. The predicted probability is given by the logistic response function:\n",
    "\n",
    "$\\hat p = \\dfrac{1}{1 + e^{-Y}}$\n",
    "\n",
    "In Python, we can access the log odds via predict_log_proba(), and actual probabilities via predict_proba(). The probabilities are on a scale from 0 to 1 and don't yet declare whether a predicted value is default or paid off. We could declare any value greater than 0.5 as default. In practice, a lower cutoff is often appropriate if the goal is to identify members of a rare class."
   ]
  },
  {
   "cell_type": "code",
   "execution_count": 513,
   "metadata": {},
   "outputs": [
    {
     "data": {
      "text/html": [
       "<div>\n",
       "<style scoped>\n",
       "    .dataframe tbody tr th:only-of-type {\n",
       "        vertical-align: middle;\n",
       "    }\n",
       "\n",
       "    .dataframe tbody tr th {\n",
       "        vertical-align: top;\n",
       "    }\n",
       "\n",
       "    .dataframe thead th {\n",
       "        text-align: right;\n",
       "    }\n",
       "</style>\n",
       "<table border=\"1\" class=\"dataframe\">\n",
       "  <thead>\n",
       "    <tr style=\"text-align: right;\">\n",
       "      <th></th>\n",
       "      <th>default</th>\n",
       "      <th>paid off</th>\n",
       "    </tr>\n",
       "  </thead>\n",
       "  <tbody>\n",
       "    <tr>\n",
       "      <th>0</th>\n",
       "      <td>-1.431977</td>\n",
       "      <td>-0.272907</td>\n",
       "    </tr>\n",
       "    <tr>\n",
       "      <th>1</th>\n",
       "      <td>-1.157687</td>\n",
       "      <td>-0.377187</td>\n",
       "    </tr>\n",
       "    <tr>\n",
       "      <th>2</th>\n",
       "      <td>-0.634370</td>\n",
       "      <td>-0.755596</td>\n",
       "    </tr>\n",
       "    <tr>\n",
       "      <th>3</th>\n",
       "      <td>-0.530176</td>\n",
       "      <td>-0.887950</td>\n",
       "    </tr>\n",
       "    <tr>\n",
       "      <th>4</th>\n",
       "      <td>-0.751292</td>\n",
       "      <td>-0.638199</td>\n",
       "    </tr>\n",
       "  </tbody>\n",
       "</table>\n",
       "</div>"
      ],
      "text/plain": [
       "    default  paid off\n",
       "0 -1.431977 -0.272907\n",
       "1 -1.157687 -0.377187\n",
       "2 -0.634370 -0.755596\n",
       "3 -0.530176 -0.887950\n",
       "4 -0.751292 -0.638199"
      ]
     },
     "execution_count": 513,
     "metadata": {},
     "output_type": "execute_result"
    }
   ],
   "source": [
    "pred = pd.DataFrame(logit_reg.predict_log_proba(X), columns=loan_data[outcome].cat.categories)\n",
    "pred.head()"
   ]
  },
  {
   "cell_type": "code",
   "execution_count": 514,
   "metadata": {},
   "outputs": [
    {
     "data": {
      "text/html": [
       "<div>\n",
       "<style scoped>\n",
       "    .dataframe tbody tr th:only-of-type {\n",
       "        vertical-align: middle;\n",
       "    }\n",
       "\n",
       "    .dataframe tbody tr th {\n",
       "        vertical-align: top;\n",
       "    }\n",
       "\n",
       "    .dataframe thead th {\n",
       "        text-align: right;\n",
       "    }\n",
       "</style>\n",
       "<table border=\"1\" class=\"dataframe\">\n",
       "  <thead>\n",
       "    <tr style=\"text-align: right;\">\n",
       "      <th></th>\n",
       "      <th>default</th>\n",
       "      <th>paid off</th>\n",
       "    </tr>\n",
       "  </thead>\n",
       "  <tbody>\n",
       "    <tr>\n",
       "      <th>0</th>\n",
       "      <td>0.238836</td>\n",
       "      <td>0.761164</td>\n",
       "    </tr>\n",
       "    <tr>\n",
       "      <th>1</th>\n",
       "      <td>0.314212</td>\n",
       "      <td>0.685788</td>\n",
       "    </tr>\n",
       "    <tr>\n",
       "      <th>2</th>\n",
       "      <td>0.530269</td>\n",
       "      <td>0.469731</td>\n",
       "    </tr>\n",
       "    <tr>\n",
       "      <th>3</th>\n",
       "      <td>0.588502</td>\n",
       "      <td>0.411498</td>\n",
       "    </tr>\n",
       "    <tr>\n",
       "      <th>4</th>\n",
       "      <td>0.471757</td>\n",
       "      <td>0.528243</td>\n",
       "    </tr>\n",
       "  </tbody>\n",
       "</table>\n",
       "</div>"
      ],
      "text/plain": [
       "    default  paid off\n",
       "0  0.238836  0.761164\n",
       "1  0.314212  0.685788\n",
       "2  0.530269  0.469731\n",
       "3  0.588502  0.411498\n",
       "4  0.471757  0.528243"
      ]
     },
     "execution_count": 514,
     "metadata": {},
     "output_type": "execute_result"
    }
   ],
   "source": [
    "pred = pd.DataFrame(logit_reg.predict_proba(X), columns=loan_data[outcome].cat.categories)\n",
    "pred.head()"
   ]
  },
  {
   "cell_type": "code",
   "execution_count": 515,
   "metadata": {},
   "outputs": [
    {
     "data": {
      "text/html": [
       "<div>\n",
       "<style scoped>\n",
       "    .dataframe tbody tr th:only-of-type {\n",
       "        vertical-align: middle;\n",
       "    }\n",
       "\n",
       "    .dataframe tbody tr th {\n",
       "        vertical-align: top;\n",
       "    }\n",
       "\n",
       "    .dataframe thead th {\n",
       "        text-align: right;\n",
       "    }\n",
       "</style>\n",
       "<table border=\"1\" class=\"dataframe\">\n",
       "  <thead>\n",
       "    <tr style=\"text-align: right;\">\n",
       "      <th></th>\n",
       "      <th>outcome</th>\n",
       "    </tr>\n",
       "  </thead>\n",
       "  <tbody>\n",
       "    <tr>\n",
       "      <th>0</th>\n",
       "      <td>paid off</td>\n",
       "    </tr>\n",
       "    <tr>\n",
       "      <th>1</th>\n",
       "      <td>paid off</td>\n",
       "    </tr>\n",
       "    <tr>\n",
       "      <th>2</th>\n",
       "      <td>default</td>\n",
       "    </tr>\n",
       "    <tr>\n",
       "      <th>3</th>\n",
       "      <td>default</td>\n",
       "    </tr>\n",
       "    <tr>\n",
       "      <th>4</th>\n",
       "      <td>paid off</td>\n",
       "    </tr>\n",
       "  </tbody>\n",
       "</table>\n",
       "</div>"
      ],
      "text/plain": [
       "    outcome\n",
       "0  paid off\n",
       "1  paid off\n",
       "2   default\n",
       "3   default\n",
       "4  paid off"
      ]
     },
     "execution_count": 515,
     "metadata": {},
     "output_type": "execute_result"
    }
   ],
   "source": [
    "pred = pd.DataFrame(logit_reg.predict(X), columns=['outcome'])\n",
    "pred.head()"
   ]
  },
  {
   "cell_type": "markdown",
   "metadata": {},
   "source": [
    "<b><h4>Interpreting the Coefficients and Odds Ratios</h4></b>\n",
    "\n",
    "One advantage of logistic regression is that produces a model that can be scored to new data rapidly, without recomputation. Another is the relative ease of interpretation of the model, as compared with other classification methods. The key conceptual idea is understanding an odds ratio. The odds ratio is easiest to understand for a binary factor variable X:\n",
    "\n",
    "$odds\\;ratio=\\dfrac{Odds(Y=1|X=1)}{Odds(Y=1|X=0)}$\n",
    "\n",
    "This is interpreted as the odds that Y = 1 when X = 1 versus the odds that Y = 1 when X = 0. If the odds ratio is 2, then the odds that Y = 1 are two times higher when X = 1 versus when X = 0. Why bother with an odds ratio rather than probabilities? We work with odds because the coefficient $\\beta_j$ in the logistic regression is the log of the odds ratio for $X_j$. \n",
    "\n",
    "Odds ratios for numeric variables X can be interpreted as follows: they measure the change in the odds ratio for a unit change in X. For example, the effect of increasing the payment-to-income ratio from, say, 5 to 6 increases the odds of the loan defaulting by a factor of exp(0.0800) ~ 1.08. The variable borrower_score is a score on the borrower's credit worthiness and ranges from 0 (low ) to 1 (high). The odds of the best borrowers relative to the worst borrowers defaulting on their loans is smaller by a factor exp(-4.605057) ~ 0.01. In other words, the default risk from the borrowers with the poorest creditworthiness is 100 times greater than that of the best borrowers."
   ]
  },
  {
   "cell_type": "code",
   "execution_count": 516,
   "metadata": {},
   "outputs": [
    {
     "data": {
      "image/png": "[encoded data removed]",
      "text/plain": [
       "<Figure size 300x300 with 1 Axes>"
      ]
     },
     "metadata": {},
     "output_type": "display_data"
    }
   ],
   "source": [
    "p = np.arange(0.01, 1.0, 0.01)\n",
    "df = pd.DataFrame({\n",
    "    'p' : p,\n",
    "    'logit': np.log(p/(1-p)),\n",
    "    'odds' : p/(1-p)\n",
    "})\n",
    "\n",
    "fig, ax = plt.subplots(figsize=(3,3))\n",
    "ax.plot(df['logit'], df['odds'])\n",
    "ax.set_xlabel('log(odds ratio)')\n",
    "ax.set_ylabel('odds ratio')\n",
    "ax.set_xlim(0, 5.1)\n",
    "ax.set_ylim(-5, 105)\n",
    "plt.tight_layout()"
   ]
  },
  {
   "cell_type": "code",
   "execution_count": 517,
   "metadata": {},
   "outputs": [
    {
     "data": {
      "text/plain": [
       "1.0832870676749586"
      ]
     },
     "execution_count": 517,
     "metadata": {},
     "output_type": "execute_result"
    }
   ],
   "source": [
    "np.exp(0.0800)"
   ]
  },
  {
   "cell_type": "code",
   "execution_count": 518,
   "metadata": {},
   "outputs": [
    {
     "data": {
      "text/plain": [
       "0.010001131923938667"
      ]
     },
     "execution_count": 518,
     "metadata": {},
     "output_type": "execute_result"
    }
   ],
   "source": [
    "np.exp(-4.605057)"
   ]
  },
  {
   "cell_type": "markdown",
   "metadata": {},
   "source": [
    "<b><h4>Linear and Logistic Regresssion: Similarities and Differences</h4></b>\n",
    "\n",
    "Linear regression and logistic regression share many commonalities. Both assume a parametric linear form relating the predictors with the response. Exploring and finding the best model are done in very similar ways. Extensions to the linear model, like the use of a spline transform of a predictor are equally applicable in the logistic regression setting. Logistic regression differs in two fundamental ways:\n",
    "- The way the model is fit (least squares is not applicable)\n",
    "- The nature and analysis of the residuals from the model."
   ]
  },
  {
   "cell_type": "markdown",
   "metadata": {},
   "source": [
    "<b><h5>Fitting the model</h5></b>\n",
    "\n",
    "Linear regression is fit using least squares, and the quality of the fit is evaluated using RMSE and R-Squared statistics. In logistic regression (unlike in linear regression), there is no closed form solution, and the model must be fit using maximum likelihood estimation (MLE). Maximum likelihood estimation is a process that tries to find the model that is most likely to have produced the data we see. In the logistic regression equation, the response is not 0 or 1 but rather an estimate of the log odds that the response is 1. The MLe finds the solution such that the estimated log odds best describes the observed outcome. The mechanics of the algorithm involve a quasi-Newton optimization that iterates between a scoring step (Fisher's scoring), based on the current parameters, and an update to the parameters to improve the fit."
   ]
  },
  {
   "cell_type": "markdown",
   "metadata": {},
   "source": [
    "<b><h5>Maximum Likelihood Estimation</h5></b>\n",
    "\n",
    "Start with a set of data $(X_1, X_2, ... , X_n)$ and a probability model $P_\\theta(X_1, X_2, ... , X_n)$ that depends on a set of parameters $\\theta$. The goal of MLE is to find the set of parameters $\\hat \\theta$ that maximizes the value of of $P_\\theta(X_1, X_2, ... , X_n)$; that is, it maximizes the probability of observing $(X_1, X_2, ... , X_n)$\n",
    "given the model P. In the fitting process, the model is evaluated using a metric called deviance:\n",
    "\n",
    "$deviance = -2log(P_{\\hat\\theta}(X_1, X_2, ... , X_n))$\n",
    "\n",
    "Lower deviance corresponds to a better fit."
   ]
  },
  {
   "cell_type": "markdown",
   "metadata": {},
   "source": [
    "<b><h4>Assessing the Model</h4></b>\n",
    "\n",
    "Like other classification methods, logistic regression is assessed by how accurately the model classifies new data. The statsmodels package has an implementation for generalized linear model (GLM). Along with the estimate coefficients, statsmodels reports the standard error of the coefficients (SE), a z-value, and a p-value.\n",
    "\n",
    "Interpretation of the p-value comes with the same caveat as in regression and should be viewed more as a relative indicator of variable importance than as a formal measure of statistical significance. A logistic regression model, which has a binary response, does not have an associated RmSM or R-squared. Insted a logistic regression model is typically evaluated using more general metrics for classification.\n",
    "\n",
    "Many other concepts for linear regression carry over to the logistic regression setting (and other GLMs). For example, you can use stepwise regression, fit interaction terms or include spline terms. The same concerns regarding confounding and correlated variables apply to logistic regression. The formula interface of statsmodels also supports these extensions in Python."
   ]
  },
  {
   "cell_type": "code",
   "execution_count": 519,
   "metadata": {},
   "outputs": [
    {
     "data": {
      "text/html": [
       "<table class=\"simpletable\">\n",
       "<caption>Generalized Linear Model Regression Results</caption>\n",
       "<tr>\n",
       "  <th>Dep. Variable:</th>           <td>y</td>        <th>  No. Observations:  </th>  <td> 45342</td> \n",
       "</tr>\n",
       "<tr>\n",
       "  <th>Model:</th>                  <td>GLM</td>       <th>  Df Residuals:      </th>  <td> 45325</td> \n",
       "</tr>\n",
       "<tr>\n",
       "  <th>Model Family:</th>        <td>Binomial</td>     <th>  Df Model:          </th>  <td>    16</td> \n",
       "</tr>\n",
       "<tr>\n",
       "  <th>Link Function:</th>         <td>Logit</td>      <th>  Scale:             </th> <td>  1.0000</td>\n",
       "</tr>\n",
       "<tr>\n",
       "  <th>Method:</th>                <td>IRLS</td>       <th>  Log-Likelihood:    </th> <td> -28744.</td>\n",
       "</tr>\n",
       "<tr>\n",
       "  <th>Date:</th>            <td>Thu, 21 Sep 2023</td> <th>  Deviance:          </th> <td>  57488.</td>\n",
       "</tr>\n",
       "<tr>\n",
       "  <th>Time:</th>                <td>16:04:20</td>     <th>  Pearson chi2:      </th> <td>4.54e+04</td>\n",
       "</tr>\n",
       "<tr>\n",
       "  <th>No. Iterations:</th>          <td>4</td>        <th>  Pseudo R-squ. (CS):</th>  <td>0.1117</td> \n",
       "</tr>\n",
       "<tr>\n",
       "  <th>Covariance Type:</th>     <td>nonrobust</td>    <th>                     </th>     <td> </td>   \n",
       "</tr>\n",
       "</table>\n",
       "<table class=\"simpletable\">\n",
       "<tr>\n",
       "           <td></td>             <th>coef</th>     <th>std err</th>      <th>z</th>      <th>P>|z|</th>  <th>[0.025</th>    <th>0.975]</th>  \n",
       "</tr>\n",
       "<tr>\n",
       "  <th>payment_inc_ratio</th>  <td>    0.0800</td> <td>    0.002</td> <td>   32.100</td> <td> 0.000</td> <td>    0.075</td> <td>    0.085</td>\n",
       "</tr>\n",
       "<tr>\n",
       "  <th>borrower_score</th>     <td>   -4.6073</td> <td>    0.084</td> <td>  -55.120</td> <td> 0.000</td> <td>   -4.771</td> <td>   -4.443</td>\n",
       "</tr>\n",
       "<tr>\n",
       "  <th>credit_card</th>        <td>   -0.2082</td> <td>    0.082</td> <td>   -2.553</td> <td> 0.011</td> <td>   -0.368</td> <td>   -0.048</td>\n",
       "</tr>\n",
       "<tr>\n",
       "  <th>debt_consolidation</th> <td>    0.0411</td> <td>    0.079</td> <td>    0.520</td> <td> 0.603</td> <td>   -0.114</td> <td>    0.196</td>\n",
       "</tr>\n",
       "<tr>\n",
       "  <th>home_improvement</th>   <td>    0.2005</td> <td>    0.088</td> <td>    2.270</td> <td> 0.023</td> <td>    0.027</td> <td>    0.374</td>\n",
       "</tr>\n",
       "<tr>\n",
       "  <th>house</th>              <td>    0.1982</td> <td>    0.135</td> <td>    1.469</td> <td> 0.142</td> <td>   -0.066</td> <td>    0.463</td>\n",
       "</tr>\n",
       "<tr>\n",
       "  <th>major_purchase</th>     <td>    0.0350</td> <td>    0.098</td> <td>    0.358</td> <td> 0.720</td> <td>   -0.157</td> <td>    0.227</td>\n",
       "</tr>\n",
       "<tr>\n",
       "  <th>medical</th>            <td>    0.3031</td> <td>    0.113</td> <td>    2.671</td> <td> 0.008</td> <td>    0.081</td> <td>    0.526</td>\n",
       "</tr>\n",
       "<tr>\n",
       "  <th>moving</th>             <td>    0.4707</td> <td>    0.126</td> <td>    3.741</td> <td> 0.000</td> <td>    0.224</td> <td>    0.717</td>\n",
       "</tr>\n",
       "<tr>\n",
       "  <th>other</th>              <td>    0.4652</td> <td>    0.085</td> <td>    5.461</td> <td> 0.000</td> <td>    0.298</td> <td>    0.632</td>\n",
       "</tr>\n",
       "<tr>\n",
       "  <th>small_business</th>     <td>    1.0069</td> <td>    0.097</td> <td>   10.369</td> <td> 0.000</td> <td>    0.817</td> <td>    1.197</td>\n",
       "</tr>\n",
       "<tr>\n",
       "  <th>vacation</th>           <td>    0.4985</td> <td>    0.145</td> <td>    3.443</td> <td> 0.001</td> <td>    0.215</td> <td>    0.782</td>\n",
       "</tr>\n",
       "<tr>\n",
       "  <th>wedding</th>            <td>   -0.0244</td> <td>    0.120</td> <td>   -0.203</td> <td> 0.839</td> <td>   -0.259</td> <td>    0.210</td>\n",
       "</tr>\n",
       "<tr>\n",
       "  <th>OWN</th>                <td>    0.0469</td> <td>    0.038</td> <td>    1.234</td> <td> 0.217</td> <td>   -0.028</td> <td>    0.122</td>\n",
       "</tr>\n",
       "<tr>\n",
       "  <th>RENT</th>               <td>    0.1586</td> <td>    0.021</td> <td>    7.456</td> <td> 0.000</td> <td>    0.117</td> <td>    0.200</td>\n",
       "</tr>\n",
       "<tr>\n",
       "  <th> > 1 Year</th>          <td>   -0.3510</td> <td>    0.053</td> <td>   -6.667</td> <td> 0.000</td> <td>   -0.454</td> <td>   -0.248</td>\n",
       "</tr>\n",
       "<tr>\n",
       "  <th>const</th>              <td>    1.8354</td> <td>    0.104</td> <td>   17.570</td> <td> 0.000</td> <td>    1.631</td> <td>    2.040</td>\n",
       "</tr>\n",
       "</table>"
      ],
      "text/plain": [
       "<class 'statsmodels.iolib.summary.Summary'>\n",
       "\"\"\"\n",
       "                 Generalized Linear Model Regression Results                  \n",
       "==============================================================================\n",
       "Dep. Variable:                      y   No. Observations:                45342\n",
       "Model:                            GLM   Df Residuals:                    45325\n",
       "Model Family:                Binomial   Df Model:                           16\n",
       "Link Function:                  Logit   Scale:                          1.0000\n",
       "Method:                          IRLS   Log-Likelihood:                -28744.\n",
       "Date:                Thu, 21 Sep 2023   Deviance:                       57488.\n",
       "Time:                        16:04:20   Pearson chi2:                 4.54e+04\n",
       "No. Iterations:                     4   Pseudo R-squ. (CS):             0.1117\n",
       "Covariance Type:            nonrobust                                         \n",
       "======================================================================================\n",
       "                         coef    std err          z      P>|z|      [0.025      0.975]\n",
       "--------------------------------------------------------------------------------------\n",
       "payment_inc_ratio      0.0800      0.002     32.100      0.000       0.075       0.085\n",
       "borrower_score        -4.6073      0.084    -55.120      0.000      -4.771      -4.443\n",
       "credit_card           -0.2082      0.082     -2.553      0.011      -0.368      -0.048\n",
       "debt_consolidation     0.0411      0.079      0.520      0.603      -0.114       0.196\n",
       "home_improvement       0.2005      0.088      2.270      0.023       0.027       0.374\n",
       "house                  0.1982      0.135      1.469      0.142      -0.066       0.463\n",
       "major_purchase         0.0350      0.098      0.358      0.720      -0.157       0.227\n",
       "medical                0.3031      0.113      2.671      0.008       0.081       0.526\n",
       "moving                 0.4707      0.126      3.741      0.000       0.224       0.717\n",
       "other                  0.4652      0.085      5.461      0.000       0.298       0.632\n",
       "small_business         1.0069      0.097     10.369      0.000       0.817       1.197\n",
       "vacation               0.4985      0.145      3.443      0.001       0.215       0.782\n",
       "wedding               -0.0244      0.120     -0.203      0.839      -0.259       0.210\n",
       "OWN                    0.0469      0.038      1.234      0.217      -0.028       0.122\n",
       "RENT                   0.1586      0.021      7.456      0.000       0.117       0.200\n",
       " > 1 Year             -0.3510      0.053     -6.667      0.000      -0.454      -0.248\n",
       "const                  1.8354      0.104     17.570      0.000       1.631       2.040\n",
       "======================================================================================\n",
       "\"\"\""
      ]
     },
     "execution_count": 519,
     "metadata": {},
     "output_type": "execute_result"
    }
   ],
   "source": [
    "y_numbers = [1 if yi == 'default' else 0 for yi in y] # encode\n",
    "logit_reg_sm = sm.GLM(y_numbers, X.assign(const=1), family=sm.families.Binomial())\n",
    "logit_result = logit_reg_sm.fit()\n",
    "logit_result.summary()"
   ]
  },
  {
   "cell_type": "code",
   "execution_count": 520,
   "metadata": {},
   "outputs": [
    {
     "data": {
      "text/html": [
       "<table class=\"simpletable\">\n",
       "<caption>Generalized Linear Model Regression Results</caption>\n",
       "<tr>\n",
       "  <th>Dep. Variable:</th>   <td>['outcome[default]', 'outcome[paid off]']</td> <th>  No. Observations:  </th>  <td> 45342</td> \n",
       "</tr>\n",
       "<tr>\n",
       "  <th>Model:</th>                              <td>GLM</td>                    <th>  Df Residuals:      </th>  <td> 45319</td> \n",
       "</tr>\n",
       "<tr>\n",
       "  <th>Model Family:</th>                    <td>Binomial</td>                  <th>  Df Model:          </th>  <td>    22</td> \n",
       "</tr>\n",
       "<tr>\n",
       "  <th>Link Function:</th>                     <td>Logit</td>                   <th>  Scale:             </th> <td>  1.0000</td>\n",
       "</tr>\n",
       "<tr>\n",
       "  <th>Method:</th>                            <td>IRLS</td>                    <th>  Log-Likelihood:    </th> <td> -28730.</td>\n",
       "</tr>\n",
       "<tr>\n",
       "  <th>Date:</th>                        <td>Thu, 21 Sep 2023</td>              <th>  Deviance:          </th> <td>  57461.</td>\n",
       "</tr>\n",
       "<tr>\n",
       "  <th>Time:</th>                            <td>16:04:21</td>                  <th>  Pearson chi2:      </th> <td>4.54e+04</td>\n",
       "</tr>\n",
       "<tr>\n",
       "  <th>No. Iterations:</th>                      <td>5</td>                     <th>  Pseudo R-squ. (CS):</th>  <td>0.1122</td> \n",
       "</tr>\n",
       "<tr>\n",
       "  <th>Covariance Type:</th>                 <td>nonrobust</td>                 <th>                     </th>     <td> </td>   \n",
       "</tr>\n",
       "</table>\n",
       "<table class=\"simpletable\">\n",
       "<tr>\n",
       "                 <td></td>                   <th>coef</th>     <th>std err</th>      <th>z</th>      <th>P>|z|</th>  <th>[0.025</th>    <th>0.975]</th>  \n",
       "</tr>\n",
       "<tr>\n",
       "  <th>Intercept</th>                      <td>    2.0413</td> <td>    0.387</td> <td>    5.280</td> <td> 0.000</td> <td>    1.284</td> <td>    2.799</td>\n",
       "</tr>\n",
       "<tr>\n",
       "  <th>purpose_[T.credit_card]</th>        <td>   -0.2201</td> <td>    0.082</td> <td>   -2.691</td> <td> 0.007</td> <td>   -0.380</td> <td>   -0.060</td>\n",
       "</tr>\n",
       "<tr>\n",
       "  <th>purpose_[T.debt_consolidation]</th> <td>    0.0289</td> <td>    0.079</td> <td>    0.365</td> <td> 0.715</td> <td>   -0.126</td> <td>    0.184</td>\n",
       "</tr>\n",
       "<tr>\n",
       "  <th>purpose_[T.home_improvement]</th>   <td>    0.1949</td> <td>    0.088</td> <td>    2.204</td> <td> 0.028</td> <td>    0.022</td> <td>    0.368</td>\n",
       "</tr>\n",
       "<tr>\n",
       "  <th>purpose_[T.house]</th>              <td>    0.1934</td> <td>    0.135</td> <td>    1.432</td> <td> 0.152</td> <td>   -0.071</td> <td>    0.458</td>\n",
       "</tr>\n",
       "<tr>\n",
       "  <th>purpose_[T.major_purchase]</th>     <td>    0.0337</td> <td>    0.098</td> <td>    0.344</td> <td> 0.731</td> <td>   -0.158</td> <td>    0.226</td>\n",
       "</tr>\n",
       "<tr>\n",
       "  <th>purpose_[T.medical]</th>            <td>    0.2999</td> <td>    0.114</td> <td>    2.640</td> <td> 0.008</td> <td>    0.077</td> <td>    0.523</td>\n",
       "</tr>\n",
       "<tr>\n",
       "  <th>purpose_[T.moving]</th>             <td>    0.4772</td> <td>    0.126</td> <td>    3.789</td> <td> 0.000</td> <td>    0.230</td> <td>    0.724</td>\n",
       "</tr>\n",
       "<tr>\n",
       "  <th>purpose_[T.other]</th>              <td>    0.4623</td> <td>    0.085</td> <td>    5.424</td> <td> 0.000</td> <td>    0.295</td> <td>    0.629</td>\n",
       "</tr>\n",
       "<tr>\n",
       "  <th>purpose_[T.small_business]</th>     <td>    1.0051</td> <td>    0.097</td> <td>   10.334</td> <td> 0.000</td> <td>    0.815</td> <td>    1.196</td>\n",
       "</tr>\n",
       "<tr>\n",
       "  <th>purpose_[T.vacation]</th>           <td>    0.4892</td> <td>    0.145</td> <td>    3.372</td> <td> 0.001</td> <td>    0.205</td> <td>    0.774</td>\n",
       "</tr>\n",
       "<tr>\n",
       "  <th>purpose_[T.wedding]</th>            <td>   -0.0270</td> <td>    0.120</td> <td>   -0.225</td> <td> 0.822</td> <td>   -0.262</td> <td>    0.208</td>\n",
       "</tr>\n",
       "<tr>\n",
       "  <th>home_[T.OWN]</th>                   <td>    0.0470</td> <td>    0.038</td> <td>    1.237</td> <td> 0.216</td> <td>   -0.028</td> <td>    0.122</td>\n",
       "</tr>\n",
       "<tr>\n",
       "  <th>home_[T.RENT]</th>                  <td>    0.1593</td> <td>    0.021</td> <td>    7.487</td> <td> 0.000</td> <td>    0.118</td> <td>    0.201</td>\n",
       "</tr>\n",
       "<tr>\n",
       "  <th>emp_len_[T. > 1 Year]</th>          <td>   -0.3484</td> <td>    0.053</td> <td>   -6.618</td> <td> 0.000</td> <td>   -0.452</td> <td>   -0.245</td>\n",
       "</tr>\n",
       "<tr>\n",
       "  <th>bs(payment_inc_ratio, df=4)[0]</th> <td>    0.0218</td> <td>    0.121</td> <td>    0.180</td> <td> 0.857</td> <td>   -0.215</td> <td>    0.259</td>\n",
       "</tr>\n",
       "<tr>\n",
       "  <th>bs(payment_inc_ratio, df=4)[1]</th> <td>    1.6124</td> <td>    0.142</td> <td>   11.349</td> <td> 0.000</td> <td>    1.334</td> <td>    1.891</td>\n",
       "</tr>\n",
       "<tr>\n",
       "  <th>bs(payment_inc_ratio, df=4)[2]</th> <td>    1.9360</td> <td>    0.488</td> <td>    3.969</td> <td> 0.000</td> <td>    0.980</td> <td>    2.892</td>\n",
       "</tr>\n",
       "<tr>\n",
       "  <th>bs(payment_inc_ratio, df=4)[3]</th> <td>   -0.8900</td> <td>    1.925</td> <td>   -0.462</td> <td> 0.644</td> <td>   -4.662</td> <td>    2.882</td>\n",
       "</tr>\n",
       "<tr>\n",
       "  <th>bs(borrower_score, df=4)[0]</th>    <td>   -1.0110</td> <td>    0.476</td> <td>   -2.124</td> <td> 0.034</td> <td>   -1.944</td> <td>   -0.078</td>\n",
       "</tr>\n",
       "<tr>\n",
       "  <th>bs(borrower_score, df=4)[1]</th>    <td>   -2.6430</td> <td>    0.287</td> <td>   -9.208</td> <td> 0.000</td> <td>   -3.206</td> <td>   -2.080</td>\n",
       "</tr>\n",
       "<tr>\n",
       "  <th>bs(borrower_score, df=4)[2]</th>    <td>   -3.7021</td> <td>    0.473</td> <td>   -7.826</td> <td> 0.000</td> <td>   -4.629</td> <td>   -2.775</td>\n",
       "</tr>\n",
       "<tr>\n",
       "  <th>bs(borrower_score, df=4)[3]</th>    <td>   -5.8490</td> <td>    0.525</td> <td>  -11.141</td> <td> 0.000</td> <td>   -6.878</td> <td>   -4.820</td>\n",
       "</tr>\n",
       "</table>"
      ],
      "text/plain": [
       "<class 'statsmodels.iolib.summary.Summary'>\n",
       "\"\"\"\n",
       "                             Generalized Linear Model Regression Results                             \n",
       "=====================================================================================================\n",
       "Dep. Variable:     ['outcome[default]', 'outcome[paid off]']   No. Observations:                45342\n",
       "Model:                                                   GLM   Df Residuals:                    45319\n",
       "Model Family:                                       Binomial   Df Model:                           22\n",
       "Link Function:                                         Logit   Scale:                          1.0000\n",
       "Method:                                                 IRLS   Log-Likelihood:                -28730.\n",
       "Date:                                       Thu, 21 Sep 2023   Deviance:                       57461.\n",
       "Time:                                               16:04:21   Pearson chi2:                 4.54e+04\n",
       "No. Iterations:                                            5   Pseudo R-squ. (CS):             0.1122\n",
       "Covariance Type:                                   nonrobust                                         \n",
       "==================================================================================================\n",
       "                                     coef    std err          z      P>|z|      [0.025      0.975]\n",
       "--------------------------------------------------------------------------------------------------\n",
       "Intercept                          2.0413      0.387      5.280      0.000       1.284       2.799\n",
       "purpose_[T.credit_card]           -0.2201      0.082     -2.691      0.007      -0.380      -0.060\n",
       "purpose_[T.debt_consolidation]     0.0289      0.079      0.365      0.715      -0.126       0.184\n",
       "purpose_[T.home_improvement]       0.1949      0.088      2.204      0.028       0.022       0.368\n",
       "purpose_[T.house]                  0.1934      0.135      1.432      0.152      -0.071       0.458\n",
       "purpose_[T.major_purchase]         0.0337      0.098      0.344      0.731      -0.158       0.226\n",
       "purpose_[T.medical]                0.2999      0.114      2.640      0.008       0.077       0.523\n",
       "purpose_[T.moving]                 0.4772      0.126      3.789      0.000       0.230       0.724\n",
       "purpose_[T.other]                  0.4623      0.085      5.424      0.000       0.295       0.629\n",
       "purpose_[T.small_business]         1.0051      0.097     10.334      0.000       0.815       1.196\n",
       "purpose_[T.vacation]               0.4892      0.145      3.372      0.001       0.205       0.774\n",
       "purpose_[T.wedding]               -0.0270      0.120     -0.225      0.822      -0.262       0.208\n",
       "home_[T.OWN]                       0.0470      0.038      1.237      0.216      -0.028       0.122\n",
       "home_[T.RENT]                      0.1593      0.021      7.487      0.000       0.118       0.201\n",
       "emp_len_[T. > 1 Year]             -0.3484      0.053     -6.618      0.000      -0.452      -0.245\n",
       "bs(payment_inc_ratio, df=4)[0]     0.0218      0.121      0.180      0.857      -0.215       0.259\n",
       "bs(payment_inc_ratio, df=4)[1]     1.6124      0.142     11.349      0.000       1.334       1.891\n",
       "bs(payment_inc_ratio, df=4)[2]     1.9360      0.488      3.969      0.000       0.980       2.892\n",
       "bs(payment_inc_ratio, df=4)[3]    -0.8900      1.925     -0.462      0.644      -4.662       2.882\n",
       "bs(borrower_score, df=4)[0]       -1.0110      0.476     -2.124      0.034      -1.944      -0.078\n",
       "bs(borrower_score, df=4)[1]       -2.6430      0.287     -9.208      0.000      -3.206      -2.080\n",
       "bs(borrower_score, df=4)[2]       -3.7021      0.473     -7.826      0.000      -4.629      -2.775\n",
       "bs(borrower_score, df=4)[3]       -5.8490      0.525    -11.141      0.000      -6.878      -4.820\n",
       "==================================================================================================\n",
       "\"\"\""
      ]
     },
     "execution_count": 520,
     "metadata": {},
     "output_type": "execute_result"
    }
   ],
   "source": [
    "import statsmodels.formula.api as smf\n",
    "\n",
    "formula = ('outcome ~ bs(payment_inc_ratio, df=4) + purpose_ + ' +\n",
    "            'home_ + emp_len_ + bs(borrower_score, df=4)')\n",
    "model = smf.glm(formula=formula, data=loan_data, family=sm.families.Binomial())\n",
    "results = model.fit()\n",
    "results.summary()"
   ]
  },
  {
   "cell_type": "markdown",
   "metadata": {},
   "source": [
    "<b><h4>Analysis of residuals</h4></b>\n",
    "\n",
    "One area where logistic regression differs from linear regression is in the analysis of the residuals. Below is Python code for generating partial residuals."
   ]
  },
  {
   "cell_type": "code",
   "execution_count": 521,
   "metadata": {},
   "outputs": [
    {
     "data": {
      "image/png": "[encoded data removed]",
      "text/plain": [
       "<Figure size 500x500 with 1 Axes>"
      ]
     },
     "metadata": {},
     "output_type": "display_data"
    }
   ],
   "source": [
    "from statsmodels.genmod.generalized_linear_model import GLMResults\n",
    "def partialResidualPlot(model, df, outcome, feature, fig, ax):\n",
    "    y_actual = [0 if s== 'default' else 1 for s in df[outcome]]  \n",
    "    y_pred = model.predict(df)  \n",
    "    org_params = model.params.copy()  \n",
    "    zero_params = model.params.copy()\n",
    "    # set model parameters of other features to 0\n",
    "    for i,name in enumerate(zero_params.index):\n",
    "        if feature in name:\n",
    "            continue\n",
    "        zero_params[i] = 0.0\n",
    "    model.initialize(model.model, zero_params)\n",
    "    feature_prediction = model.predict(df)\n",
    "    ypartial = -np.log(1/feature_prediction - 1)\n",
    "    ypartial = ypartial - np.mean(ypartial)\n",
    "    model.initialize(model.model, org_params)\n",
    "    results = pd.DataFrame({\n",
    "        'feature' : df[feature],\n",
    "        'residual': -2 * (y_actual - y_pred),\n",
    "        'ypartial' : ypartial / 2,\n",
    "    })\n",
    "    results = results.sort_values(by=['feature'])\n",
    "\n",
    "    ax.scatter(results.feature, results.residual, marker='.', s=72./fig.dpi)\n",
    "    ax.plot(results.feature, results.ypartial, color='black')\n",
    "    ax.set_xlabel(feature)\n",
    "    ax.set_ylabel(f\"Residual + {feature} contribution \")\n",
    "    return ax\n",
    "\n",
    "fig, ax = plt.subplots(figsize=(5,5))\n",
    "partialResidualPlot(results, loan_data, 'outcome', 'payment_inc_ratio', fig, ax)\n",
    "ax.set_xlim(0, 25)\n",
    "ax.set_ylim(-2.5, 2.5)\n",
    "\n",
    "\n",
    "plt.tight_layout()\n",
    "plt.show()"
   ]
  },
  {
   "cell_type": "markdown",
   "metadata": {},
   "source": [
    "<b><h3>Evaluating Classification Models</h3></b>\n",
    "\n",
    "It is common in predictive modeling to train a number of different models, apply each to a holdout sample, and assess their performance. Sometimes, after a number of models have been evaluated and tuned, and if there are enough data, a third holdout sample, not previously used, is used to estimate how the chosen model will perform with completely new data. Different disciplines and practitioners will also use the terms validation and test to refer to the holdout samples. Fundamentally, the assessment process attempts to learn which model produces the most accurate and useful predictions.\n",
    "\n",
    "A simple way to measure classification performance is to count the proportion of predictions that are correct, ie measure the accuracy. Accuracy is simply a measure of total error:\n",
    "\n",
    "$accuracy = \\dfrac{\\sum True Positive + \\sum True Negative}{SampleSize}$\n",
    "\n",
    "In most classification algorithms, each case is assigned an \"estimated probability of being a 1\". The default decision point or cutoff, is typically 0.50 or 50%. If the probability is above 0.5, the classification is \"1\"; otherwise it is \"0\". An alternative default cutoff is the prevalent probability of 1s in the data."
   ]
  },
  {
   "cell_type": "markdown",
   "metadata": {},
   "source": [
    "<b><h4>Confusion Matrix</h4></b>\n",
    "\n",
    "At the heart of classification metrics is the confusion matrix. The confusion matrix is a table showing the number of correct and incorrect predictions categorized by type of response."
   ]
  },
  {
   "cell_type": "code",
   "execution_count": 522,
   "metadata": {},
   "outputs": [
    {
     "name": "stdout",
     "output_type": "stream",
     "text": [
      "              Yhat = default  Yhat = paid off\n",
      "Y = default            14354             8317\n",
      "Y = paid off            8135            14536\n"
     ]
    }
   ],
   "source": [
    "pred = logit_reg.predict(X)                     # prediction\n",
    "pred_y = logit_reg.predict(X) == 'default'      # boolean if class 1 was predicted\n",
    "true_y = y == 'default'                         # boolean if actual label was class 1\n",
    "true_pos = true_y & pred_y                      # prediction of class 1 was correct\n",
    "true_neg = ~true_y & ~pred_y                    # prediction of class 0 was correct\n",
    "false_pos = ~true_y & pred_y                    # prediction of class 1 was actually class 0\n",
    "false_neg = true_y & ~pred_y                    # prediction of class 0 was actually class 1\n",
    "\n",
    "conf_mat = pd.DataFrame([[np.sum(true_pos), np.sum(false_neg)],\n",
    "                            [np.sum(false_pos), np.sum(true_neg)]],\n",
    "                            index=['Y = default', 'Y = paid off'],\n",
    "                            columns=['Yhat = default', 'Yhat = paid off'])\n",
    "print(conf_mat)"
   ]
  },
  {
   "cell_type": "markdown",
   "metadata": {},
   "source": [
    "The predicted outcomes are the columns and the true outcomes are the rows (index) in the confusion matrix above. The diagonal elements of the matrix show the number of correct predictions, and the off-diagonal elements show the number of incorrect predictions.\n",
    "\n",
    "One important metric not explicitly called out is the false positive rate (the mirror image of precision). When 1s are rare, the ratio of false positives to all predicted positives can be high, leading to the unintuitive situation in which a predicted 1 is most likely a 0. This problem plagues medical screening tests (eg mammograms) that are widely applied: due to the relative rarity of the condition, positive test results most likely do not mean breast cancer. This leads to much confusion in the public."
   ]
  },
  {
   "cell_type": "markdown",
   "metadata": {},
   "source": [
    "<b><h4>The Rare Class Problem</h4></b>\n",
    "\n",
    "In many cases, there is an imbalance in the classes to be predicted, with one class much more prevalent than the other - for example, legitimate insurance claims versus fraudulent ones, or browsers versus purchasers at a website. The rare class (eg the fraudulent claims) is usually the class of more interest and is typically designated 1, in contrast to the more prevalent 0s. In the typical scenario, the 1s are the more important case, in the sense that misclassifying them as 0s is costlier than misclassifying 0s as 1s. For example, correctly identifying a fraudulent insurance claim may save thousands of dollars. On the other hand, correctly identifying a nonfraudulent claim merely saves you the cost and effort of going through the claim by hand with a more careful review (which is what you would do if the claim were tagged as \"fraudulent\").\n",
    "\n",
    "In such cases, unless the classes are easily separable, the most accurate classification model may be one that simply classifies everythin as 0. For example, if only 0.1% of the browsers at a web store end up purchasing, a model that predicts that each browser will leave without purchasing will be 99.9% accurate. However, it will be useless. Instead, we would be happy with a model that is less accurate overall but is good at picking out the purchasers, even if it misclassifies some nonpurchasers along the way."
   ]
  },
  {
   "cell_type": "markdown",
   "metadata": {},
   "source": [
    "<b><h4>Precision, Recall, and Specificity</h4></b>\n",
    "\n",
    "Metrics other than pure accuracy - metrics that are more nuanced - are commonly used in evaluating classification models. Several of these have a long history in statistics - especially biostatistics, where they are used to describe the expected performance of diagnostic tests. The $precision$ measures the accuracy of the predicted positive outcome.\n",
    "\n",
    "$precision=\\dfrac{\\sum True\\;Positive}{\\sum Predicted\\;Positive}=\\dfrac{\\sum True\\;Positive}{\\sum True\\;Positive\\;+\\;\\sum False\\;Positive}$\n",
    "\n",
    "The $recall$, also known as $sensitivity$, measures the strength of the model to predict a positive outcome - the proportion of 1s that it correctly identifies. The term sensitivity is used a lot in biostatistics and medical diagnosis, whereas recall is used more in the machne learning community. The definition of recall is:\n",
    "\n",
    "$recall\\;(sensitivity)=\\dfrac{\\sum True\\;Positive}{\\sum Actual\\;Positive}=\\dfrac{\\sum True\\;Positive}{\\sum True\\;Positive\\;+\\;\\sum False\\;Negative}$\n",
    "\n",
    "Another metric used is $specificity$, which measures a model's ability to predict a negative outcome. Specificity is like the opposite of sensitivity (recall) ie specificity is to the negative outcome what sensitivity (recall) is to the positive outcome:\n",
    "\n",
    "$specificity=\\dfrac{\\sum True\\;Negative}{\\sum Actual\\;Negative}=\\dfrac{\\sum True\\;Negative}{\\sum True\\;Negative\\;+\\;\\sum False\\;Positive}$\n"
   ]
  },
  {
   "cell_type": "markdown",
   "metadata": {},
   "source": [
    "scikit-learn has a confusion_matrix() function from sklearn.metrics for the confusion matrix, which puts the actual on the index and the predicted on the columns. It also has a custom method precision_recall_fscore_support() that calculates precision and recall / specificity all at once for all the labels ( positive class and negative class), and the arrangement is again actual on the index, predicted on the rows."
   ]
  },
  {
   "cell_type": "code",
   "execution_count": 523,
   "metadata": {},
   "outputs": [
    {
     "data": {
      "text/plain": [
       "array([[14354,  8317],\n",
       "       [ 8135, 14536]])"
      ]
     },
     "execution_count": 523,
     "metadata": {},
     "output_type": "execute_result"
    }
   ],
   "source": [
    "conf_mat = confusion_matrix(y, logit_reg.predict(X))\n",
    "conf_mat # matches the previous manual calculation, actual on index, predicted on rows"
   ]
  },
  {
   "cell_type": "code",
   "execution_count": 524,
   "metadata": {},
   "outputs": [
    {
     "name": "stdout",
     "output_type": "stream",
     "text": [
      "Precision 0.6382675974921073\n"
     ]
    }
   ],
   "source": [
    "print('Precision', conf_mat[0,0]/sum(conf_mat[:,0]))"
   ]
  },
  {
   "cell_type": "code",
   "execution_count": 525,
   "metadata": {},
   "outputs": [
    {
     "name": "stdout",
     "output_type": "stream",
     "text": [
      "Recall 0.6331436637113493\n"
     ]
    }
   ],
   "source": [
    "print('Recall', conf_mat[0,0]/sum(conf_mat[0,:]))"
   ]
  },
  {
   "cell_type": "code",
   "execution_count": 526,
   "metadata": {},
   "outputs": [
    {
     "name": "stdout",
     "output_type": "stream",
     "text": [
      "Specificity 0.6411715407348595\n"
     ]
    }
   ],
   "source": [
    "print('Specificity', conf_mat[1,1]/sum(conf_mat[1,:]))"
   ]
  },
  {
   "cell_type": "code",
   "execution_count": 527,
   "metadata": {},
   "outputs": [
    {
     "data": {
      "text/plain": [
       "(array([0.6382676 , 0.63606529]),\n",
       " array([0.63314366, 0.64117154]),\n",
       " array([0.63569531, 0.63860821]),\n",
       " array([22671, 22671]))"
      ]
     },
     "execution_count": 527,
     "metadata": {},
     "output_type": "execute_result"
    }
   ],
   "source": [
    "precision_recall_fscore_support(y, logit_reg.predict(X), labels=['default','paid off'])"
   ]
  },
  {
   "cell_type": "markdown",
   "metadata": {},
   "source": [
    "<b><h4>ROC Curve</h4></b>\n",
    "\n",
    "There is a trade-off between recall and specificity. Capturing more 1s generally means misclassifying more 0s as 1s. The ideal classifier would do an excellent job of classifying the 1s, without misclassifying more 0s as 1s. The metric that captures this trade-off is the \"Receiver Operating Characteristics\" curve, usually referred to as the ROC curve. The ROC curve plots recall (sensitivity) on the y-axis against specificity on the x-axis. The ROC curve shows the trade-off between recall and specificity as you change the cutoff to determine how to classifiy a record. Sensitivity (recall) is plotted on the y-axis, and you may encounter two forms in which the x-axis is labeled:\n",
    "\n",
    "- Specificity plotted on the x-axis, with 1 on the left and 0 on the right\n",
    "- 1-Specificity plotted on the x-axis, with 0 on the left and 1 on the right\n",
    "\n",
    "The curve looks identical whichever way it is done. The process to compute the ROC curve is:\n",
    "\n",
    "1. Sort the records by the predicted probability of being a 1, starting with the most probable and ending with the least probable (descending order).\n",
    "2. Compute the cumulative specificity and recall based on the sorted records.\n",
    "\n",
    "In Python, we can use the scikit-learn function sklearn.metrics.roc_curve() to calculate the required information for the ROC curve. We need to provide the probabilities of the positive class ie predict_proba[:,0] and the positive label in the actual y e.g pos_label='default'. The sklearn.metrics.roc_curve() will output the true positive rate which is the same as recall, and the false positive rate which is 1 - specificity, so we obtain specificity as 1 - fpr. "
   ]
  },
  {
   "cell_type": "code",
   "execution_count": 528,
   "metadata": {},
   "outputs": [
    {
     "data": {
      "text/plain": [
       "Text(0, 0.5, 'recall')"
      ]
     },
     "execution_count": 528,
     "metadata": {},
     "output_type": "execute_result"
    },
    {
     "data": {
      "image/png": "[encoded data removed]",
      "text/plain": [
       "<Figure size 400x400 with 1 Axes>"
      ]
     },
     "metadata": {},
     "output_type": "display_data"
    }
   ],
   "source": [
    "fpr, tpr, thresholds = roc_curve(y, logit_reg.predict_proba(X)[:,0], pos_label='default')\n",
    "roc_df = pd.DataFrame({'recall':tpr, 'specificity': 1 - fpr})\n",
    "\n",
    "ax = roc_df.plot(x='specificity', y='recall', figsize=(4,4), legend=False)\n",
    "ax.set_ylim(0,1)\n",
    "ax.set_xlim(1,0)\n",
    "ax.plot((1,0), (0,1), ':')\n",
    "ax.set_xlabel('specificity')\n",
    "ax.set_ylabel('recall')\n"
   ]
  },
  {
   "cell_type": "code",
   "execution_count": 529,
   "metadata": {},
   "outputs": [
    {
     "data": {
      "text/html": [
       "<div>\n",
       "<style scoped>\n",
       "    .dataframe tbody tr th:only-of-type {\n",
       "        vertical-align: middle;\n",
       "    }\n",
       "\n",
       "    .dataframe tbody tr th {\n",
       "        vertical-align: top;\n",
       "    }\n",
       "\n",
       "    .dataframe thead th {\n",
       "        text-align: right;\n",
       "    }\n",
       "</style>\n",
       "<table border=\"1\" class=\"dataframe\">\n",
       "  <thead>\n",
       "    <tr style=\"text-align: right;\">\n",
       "      <th></th>\n",
       "      <th>recall</th>\n",
       "      <th>specificity</th>\n",
       "    </tr>\n",
       "  </thead>\n",
       "  <tbody>\n",
       "    <tr>\n",
       "      <th>0</th>\n",
       "      <td>0.000000</td>\n",
       "      <td>1.000000</td>\n",
       "    </tr>\n",
       "    <tr>\n",
       "      <th>1</th>\n",
       "      <td>0.000044</td>\n",
       "      <td>1.000000</td>\n",
       "    </tr>\n",
       "    <tr>\n",
       "      <th>2</th>\n",
       "      <td>0.000132</td>\n",
       "      <td>1.000000</td>\n",
       "    </tr>\n",
       "    <tr>\n",
       "      <th>3</th>\n",
       "      <td>0.000132</td>\n",
       "      <td>0.999956</td>\n",
       "    </tr>\n",
       "    <tr>\n",
       "      <th>4</th>\n",
       "      <td>0.000353</td>\n",
       "      <td>0.999956</td>\n",
       "    </tr>\n",
       "  </tbody>\n",
       "</table>\n",
       "</div>"
      ],
      "text/plain": [
       "     recall  specificity\n",
       "0  0.000000     1.000000\n",
       "1  0.000044     1.000000\n",
       "2  0.000132     1.000000\n",
       "3  0.000132     0.999956\n",
       "4  0.000353     0.999956"
      ]
     },
     "execution_count": 529,
     "metadata": {},
     "output_type": "execute_result"
    }
   ],
   "source": [
    "roc_df.head()"
   ]
  },
  {
   "cell_type": "markdown",
   "metadata": {},
   "source": [
    "The dotted line corresponds to a classifier no better than random chance. An extremely effective classifier (or, in medical situations, an extremely effective diagnostic test) will have an ROC that hugs the upper-left corner- it will correctly identify lots of 1s without misclassifying lots of 0s as 1s. For this model, if we want a classifier with a specificity of at least 50%, then the recall is about 75%"
   ]
  },
  {
   "cell_type": "markdown",
   "metadata": {},
   "source": [
    "<b><h4>Precision-Recall Curve</h4></b>\n",
    "\n",
    "In addition to ROC curves, it can be illuminating to examine the <em>precision_recall (PR) curve</em>. PR curves are computed in a similar way except that the data is ordered from least to most probable and cumulative precision and recall statistics are computed. PR curves are especially useful in evaluating data with highly unbalanced outcomes."
   ]
  },
  {
   "cell_type": "markdown",
   "metadata": {},
   "source": [
    "<b><h4>AUC</h4></b>\n",
    "\n",
    "The ROC curve is a valuable graphical tool, but by itself doesnt constitute a single measure for the performance of a classifier. The ROC curve can be used, however, to produce the area under the curve (AUC) metric. AUC is simply the total area under the ROc curve. The larger the value of AUC, the more effective the classifier. An AUC of 1 indicates a perfect classifier; it gets all the 1s correctly classified, and it doesnt misclassify any 0s as 1s. A completely ineffective classifier - the diagonal line - will have an AUC of 0.5.\n",
    "\n",
    "In Python, we can either calculate the accuracy or use scikit-learn's function sklearn.metrics.roc_auc_score(). You will need to provide the expected value as 0 or 1. The logit_reg model has an AUC of 0.69 making it a rather weak classifier. "
   ]
  },
  {
   "cell_type": "code",
   "execution_count": 530,
   "metadata": {},
   "outputs": [
    {
     "data": {
      "text/plain": [
       "0.6922340549747511"
      ]
     },
     "execution_count": 530,
     "metadata": {},
     "output_type": "execute_result"
    }
   ],
   "source": [
    "np.sum(roc_df.recall[:-1] * np.diff(1 - roc_df.specificity))"
   ]
  },
  {
   "cell_type": "code",
   "execution_count": 531,
   "metadata": {},
   "outputs": [
    {
     "data": {
      "text/plain": [
       "0.6922341318268517"
      ]
     },
     "execution_count": 531,
     "metadata": {},
     "output_type": "execute_result"
    }
   ],
   "source": [
    "roc_auc_score([1 if yi == 'default' else 0 for yi in y], logit_reg.predict_proba(X)[:,0])"
   ]
  },
  {
   "cell_type": "code",
   "execution_count": 532,
   "metadata": {},
   "outputs": [
    {
     "data": {
      "text/plain": [
       "<matplotlib.collections.PolyCollection at 0x7f82aca00580>"
      ]
     },
     "execution_count": 532,
     "metadata": {},
     "output_type": "execute_result"
    },
    {
     "data": {
      "image/png": "[encoded data removed]",
      "text/plain": [
       "<Figure size 400x400 with 1 Axes>"
      ]
     },
     "metadata": {},
     "output_type": "display_data"
    }
   ],
   "source": [
    "fpr, tpr, thresholds = roc_curve(y, logit_reg.predict_proba(X)[:,0], pos_label='default')\n",
    "roc_df = pd.DataFrame({'recall':tpr, 'specificity': 1 - fpr})\n",
    "\n",
    "ax = roc_df.plot(x='specificity', y='recall', figsize=(4,4), legend=False)\n",
    "ax.set_ylim(0,1)\n",
    "ax.set_xlim(1,0)\n",
    "# ax.plot((1,0), (0,1), ':')\n",
    "ax.set_xlabel('specificity')\n",
    "ax.set_ylabel('recall')\n",
    "ax.fill_between(roc_df.specificity, 0, roc_df.recall, alpha=0.3)\n"
   ]
  },
  {
   "cell_type": "markdown",
   "metadata": {},
   "source": [
    "<b><h4>Lift</h4></b>\n",
    "\n",
    "Using the AUC as a metric to evaluate a model is an improvement over simple accuracy, as it can assess how well a classifier handles the trade-off between overall accuracy and the need to identify the more important 1s. But it does not completely address the rare-case problem, where you need to lower the model's probability cutoff below 0.5 to avoid having all records classified as 0s. In such cases, for a record to be classified as a 1, it might be sufficient to have a probability of 0.4, 0.3 or lower. In effect, we end up overidentifying 1s, reflecting their greater importance.\n",
    "Changing this cutoff will improve your chances of catching the 1s (at the cost of misclassifying more 0s as 1s). But what is the optimum cutoff?\n",
    "\n",
    "The concept of lift lets you defer answering that question. Instead, you consider the records in order of their predicted probability of being 1s. Say, of the top 10% classified as 1s, how much better did the algorithm do, compared to the benchmark of simply picking blindly? If you can get 0.3% response in this top decile insted of the 0.1% you get overall by picking randomly, the algorithm is said to have a lift (also called gains) of 3 in the top decile. A lift chart (gains chart) quantifies this over the range of the data. It can be produced decile by decile, or continuously over the range of the data.\n",
    "\n",
    "To compute a lift chart, you first produce a cumulative gains chart that shows the recall on the y-axis and the total number of records on the x-axis. The lift curve is the ratio of the cumulative gains to the diagonal line corresponding to random selection. Decile gains charts are one of the oldest techniques in predictive modeling, dating from the days before internet commerce. They were particularly popular among direct mail professionals. Direct mail is an expensive method of advertising if applied indiscriminately, and advertisers used predictive models (quite simple ones) to identify the potential customers with the likeliest prospect of payoff.\n",
    "\n",
    "A lift curve lets you look at the consequences of setting different probability cutoffs for classifying records as 1s. It can be an intermediate step in settling on an appropriate cutoff level. For example, a tax authority might have only a certain amount of resources that it can spend on tax audits, and it wants to spend them on the likeliest tax cheats. With its resource constraint in mind, the authority would use a lift chart to estimate where to draw the line between tax returns selected for audit and those left alone."
   ]
  },
  {
   "cell_type": "markdown",
   "metadata": {},
   "source": [
    "<b><h3>Strategies for Imbalanced Data</h3></b>\n",
    "\n",
    "In addition to evaluation metrics that are suitable for imbalanced data - data in which the outcome of interest is rare, there are strategies that can improve predictive modeling performance with imbalanced data."
   ]
  },
  {
   "cell_type": "markdown",
   "metadata": {},
   "source": [
    "<b><h4>Undersampling</h4></b>\n",
    "\n",
    "If you have enough data, as is the case with the loan data, one solution is to undersample (or downsample) the prevalent class, so the data to be modeled is more balanced between 0s and 1s. The basic idea in undersampling is that the data for the dominant class has many redundant records. Dealing with a smaller, more balanced data set yields benefits in model performance, and it makes it easier to prepare the data and to explore and pilot models.\n",
    "\n",
    "How much data is enough? It depends on the application, but in general, having tens of thousands of records for the less dominant class is enough. The more easily distinguishable the 1s are from the 0s, the less data needed.\n",
    "\n",
    "The loan data analyzed previously, was based on a balanced training set: half of the loans were paid ooff, and the other half were in default. The predicted values were similar: half of the probabilities were less than 0.5, and half were greater than 0.5. In the full data set, only about 19% of the loans were in default. We can use the full data to train the model to see what happens. In the code below only 0.15% of the loans are predicted to be in default, or less than 1/100 of the expected number. The loans that were paid off overwhelm the loans in default because the model is trained using all the data equally. Thinking about it intuitively, the presence of so many nondefaulting loans, coupled with the inevitable variability in predictor data, means that , even for a defaulting loan, the model is likely to find some nondefaulting loan that it is similar to, by chance. When a balanced sample was used, roughly 50% of the loans were predicted to be in default."
   ]
  },
  {
   "cell_type": "code",
   "execution_count": 533,
   "metadata": {},
   "outputs": [
    {
     "data": {
      "text/html": [
       "<div>\n",
       "<style scoped>\n",
       "    .dataframe tbody tr th:only-of-type {\n",
       "        vertical-align: middle;\n",
       "    }\n",
       "\n",
       "    .dataframe tbody tr th {\n",
       "        vertical-align: top;\n",
       "    }\n",
       "\n",
       "    .dataframe thead th {\n",
       "        text-align: right;\n",
       "    }\n",
       "</style>\n",
       "<table border=\"1\" class=\"dataframe\">\n",
       "  <thead>\n",
       "    <tr style=\"text-align: right;\">\n",
       "      <th></th>\n",
       "      <th>status</th>\n",
       "      <th>loan_amnt</th>\n",
       "      <th>term</th>\n",
       "      <th>annual_inc</th>\n",
       "      <th>dti</th>\n",
       "      <th>payment_inc_ratio</th>\n",
       "      <th>revol_bal</th>\n",
       "      <th>revol_util</th>\n",
       "      <th>purpose</th>\n",
       "      <th>home_ownership</th>\n",
       "      <th>delinq_2yrs_zero</th>\n",
       "      <th>pub_rec_zero</th>\n",
       "      <th>open_acc</th>\n",
       "      <th>grade</th>\n",
       "      <th>outcome</th>\n",
       "      <th>emp_length</th>\n",
       "      <th>purpose_</th>\n",
       "      <th>home_</th>\n",
       "      <th>emp_len_</th>\n",
       "    </tr>\n",
       "  </thead>\n",
       "  <tbody>\n",
       "    <tr>\n",
       "      <th>0</th>\n",
       "      <td>Fully Paid</td>\n",
       "      <td>5000</td>\n",
       "      <td>36 months</td>\n",
       "      <td>24000</td>\n",
       "      <td>27.65</td>\n",
       "      <td>8.14350</td>\n",
       "      <td>13648.0</td>\n",
       "      <td>83.7</td>\n",
       "      <td>credit_card</td>\n",
       "      <td>RENT</td>\n",
       "      <td>1</td>\n",
       "      <td>1</td>\n",
       "      <td>3</td>\n",
       "      <td>5.4</td>\n",
       "      <td>paid off</td>\n",
       "      <td>11</td>\n",
       "      <td>credit_card</td>\n",
       "      <td>RENT</td>\n",
       "      <td>&gt; 1 Year</td>\n",
       "    </tr>\n",
       "    <tr>\n",
       "      <th>1</th>\n",
       "      <td>Charged Off</td>\n",
       "      <td>2500</td>\n",
       "      <td>60 months</td>\n",
       "      <td>30000</td>\n",
       "      <td>1.00</td>\n",
       "      <td>2.39320</td>\n",
       "      <td>1687.0</td>\n",
       "      <td>9.4</td>\n",
       "      <td>car</td>\n",
       "      <td>RENT</td>\n",
       "      <td>1</td>\n",
       "      <td>1</td>\n",
       "      <td>3</td>\n",
       "      <td>4.8</td>\n",
       "      <td>default</td>\n",
       "      <td>1</td>\n",
       "      <td>major_purchase</td>\n",
       "      <td>RENT</td>\n",
       "      <td>&gt; 1 Year</td>\n",
       "    </tr>\n",
       "    <tr>\n",
       "      <th>2</th>\n",
       "      <td>Fully Paid</td>\n",
       "      <td>2400</td>\n",
       "      <td>36 months</td>\n",
       "      <td>12252</td>\n",
       "      <td>8.72</td>\n",
       "      <td>8.25955</td>\n",
       "      <td>2956.0</td>\n",
       "      <td>98.5</td>\n",
       "      <td>small_business</td>\n",
       "      <td>RENT</td>\n",
       "      <td>1</td>\n",
       "      <td>1</td>\n",
       "      <td>2</td>\n",
       "      <td>5.0</td>\n",
       "      <td>paid off</td>\n",
       "      <td>11</td>\n",
       "      <td>small_business</td>\n",
       "      <td>RENT</td>\n",
       "      <td>&gt; 1 Year</td>\n",
       "    </tr>\n",
       "    <tr>\n",
       "      <th>3</th>\n",
       "      <td>Fully Paid</td>\n",
       "      <td>10000</td>\n",
       "      <td>36 months</td>\n",
       "      <td>49200</td>\n",
       "      <td>20.00</td>\n",
       "      <td>8.27585</td>\n",
       "      <td>5598.0</td>\n",
       "      <td>21.0</td>\n",
       "      <td>other</td>\n",
       "      <td>RENT</td>\n",
       "      <td>1</td>\n",
       "      <td>1</td>\n",
       "      <td>10</td>\n",
       "      <td>4.2</td>\n",
       "      <td>paid off</td>\n",
       "      <td>11</td>\n",
       "      <td>other</td>\n",
       "      <td>RENT</td>\n",
       "      <td>&gt; 1 Year</td>\n",
       "    </tr>\n",
       "    <tr>\n",
       "      <th>4</th>\n",
       "      <td>Fully Paid</td>\n",
       "      <td>5000</td>\n",
       "      <td>36 months</td>\n",
       "      <td>36000</td>\n",
       "      <td>11.20</td>\n",
       "      <td>5.21533</td>\n",
       "      <td>7963.0</td>\n",
       "      <td>28.3</td>\n",
       "      <td>wedding</td>\n",
       "      <td>RENT</td>\n",
       "      <td>1</td>\n",
       "      <td>1</td>\n",
       "      <td>9</td>\n",
       "      <td>6.8</td>\n",
       "      <td>paid off</td>\n",
       "      <td>4</td>\n",
       "      <td>other</td>\n",
       "      <td>RENT</td>\n",
       "      <td>&gt; 1 Year</td>\n",
       "    </tr>\n",
       "  </tbody>\n",
       "</table>\n",
       "</div>"
      ],
      "text/plain": [
       "        status  loan_amnt       term  annual_inc    dti  payment_inc_ratio  \\\n",
       "0   Fully Paid       5000  36 months       24000  27.65            8.14350   \n",
       "1  Charged Off       2500  60 months       30000   1.00            2.39320   \n",
       "2   Fully Paid       2400  36 months       12252   8.72            8.25955   \n",
       "3   Fully Paid      10000  36 months       49200  20.00            8.27585   \n",
       "4   Fully Paid       5000  36 months       36000  11.20            5.21533   \n",
       "\n",
       "   revol_bal  revol_util         purpose home_ownership  delinq_2yrs_zero  \\\n",
       "0    13648.0        83.7     credit_card           RENT                 1   \n",
       "1     1687.0         9.4             car           RENT                 1   \n",
       "2     2956.0        98.5  small_business           RENT                 1   \n",
       "3     5598.0        21.0           other           RENT                 1   \n",
       "4     7963.0        28.3         wedding           RENT                 1   \n",
       "\n",
       "   pub_rec_zero  open_acc  grade   outcome  emp_length        purpose_ home_  \\\n",
       "0             1         3    5.4  paid off          11     credit_card  RENT   \n",
       "1             1         3    4.8   default           1  major_purchase  RENT   \n",
       "2             1         2    5.0  paid off          11  small_business  RENT   \n",
       "3             1        10    4.2  paid off          11           other  RENT   \n",
       "4             1         9    6.8  paid off           4           other  RENT   \n",
       "\n",
       "    emp_len_  \n",
       "0   > 1 Year  \n",
       "1   > 1 Year  \n",
       "2   > 1 Year  \n",
       "3   > 1 Year  \n",
       "4   > 1 Year  "
      ]
     },
     "execution_count": 533,
     "metadata": {},
     "output_type": "execute_result"
    }
   ],
   "source": [
    "full_train_set = pd.read_csv('../data/full_train_set.csv.gz')\n",
    "full_train_set.head()"
   ]
  },
  {
   "cell_type": "code",
   "execution_count": 534,
   "metadata": {},
   "outputs": [
    {
     "data": {
      "text/plain": [
       "'percentage of loans in defaut:  18.894546909248504'"
      ]
     },
     "execution_count": 534,
     "metadata": {},
     "output_type": "execute_result"
    }
   ],
   "source": [
    "f\"percentage of loans in defaut:  {100*np.mean(full_train_set.outcome == 'default')}\""
   ]
  },
  {
   "cell_type": "code",
   "execution_count": 535,
   "metadata": {},
   "outputs": [],
   "source": [
    "predictors = ['payment_inc_ratio', 'purpose_', 'home_', 'emp_len_', 'dti', 'revol_bal', 'revol_util']\n",
    "outcome = 'outcome'"
   ]
  },
  {
   "cell_type": "code",
   "execution_count": 536,
   "metadata": {},
   "outputs": [],
   "source": [
    "X = pd.get_dummies(full_train_set[predictors], prefix='', prefix_sep='', drop_first=True)\n",
    "y = full_train_set[outcome]"
   ]
  },
  {
   "cell_type": "code",
   "execution_count": 537,
   "metadata": {},
   "outputs": [
    {
     "data": {
      "text/plain": [
       "'percentage of loans in defaut:  0.1525165226232842'"
      ]
     },
     "execution_count": 537,
     "metadata": {},
     "output_type": "execute_result"
    }
   ],
   "source": [
    "full_model = LogisticRegression(penalty='l2', C=1e42, solver='liblinear')\n",
    "full_model.fit(X,y)\n",
    "f\"percentage of loans in defaut:  {100*np.mean(full_model.predict(X) == 'default')}\""
   ]
  },
  {
   "cell_type": "code",
   "execution_count": 538,
   "metadata": {},
   "outputs": [
    {
     "data": {
      "text/plain": [
       "array(['default', 'paid off'], dtype=object)"
      ]
     },
     "execution_count": 538,
     "metadata": {},
     "output_type": "execute_result"
    }
   ],
   "source": [
    "full_model.classes_"
   ]
  },
  {
   "cell_type": "markdown",
   "metadata": {},
   "source": [
    "<b><h4>Oversampling and Up/Down Weighting</h4></b>\n",
    "\n",
    "One criticism of the undersampling method is that it throws away data and is not using all the information at hand. If you have a relatively small data set, and the rarer class contains a few hundred or a few thousand records, then undersampling the dominant class has the risk of throwing out useful information. In this case, instead of downsampling the dominant cse, you sould oversample (upsample) the rarer class by drawing additional rows with replacement (bootstrapping).\n",
    "\n",
    "You can achieve a similar effect by weighting the data. Many classification algorithms take a weight argument that will allow you to up/down weight the data. Most scikit-lean methods allow specifying weights in the fit() function using the keyword sample_weight.\n",
    "\n",
    "The weights for loans that default are set to $\\dfrac{1}{p}$, where $p$ is the probability of default. The nondefaulting loans have a weight of 1. The sums of the weights for the defaulting loans and nondefaulting loans are roughly equal. The mean of the predicted values is now about 58% instead of 0.39%. \n",
    "\n",
    "Note that weighting provides an alternative to both upsampling the rarer class and downsampling the dominant class. Weighting is an easy way to adapt the loss function, discounting errors for records with low weights in favor of records with higher weights."
   ]
  },
  {
   "cell_type": "code",
   "execution_count": 539,
   "metadata": {},
   "outputs": [
    {
     "data": {
      "text/plain": [
       "5.292532309999559"
      ]
     },
     "execution_count": 539,
     "metadata": {},
     "output_type": "execute_result"
    }
   ],
   "source": [
    "default_wt = 1/ np.mean(full_train_set.outcome == 'default')\n",
    "default_wt"
   ]
  },
  {
   "cell_type": "code",
   "execution_count": 540,
   "metadata": {},
   "outputs": [],
   "source": [
    "wt = [default_wt if outcome == 'default' else 1 for outcome in full_train_set.outcome]\n"
   ]
  },
  {
   "cell_type": "code",
   "execution_count": 541,
   "metadata": {},
   "outputs": [
    {
     "data": {
      "text/plain": [
       "'percentage of loans predicted to defaullt (weighting): 61.79836148916132'"
      ]
     },
     "execution_count": 541,
     "metadata": {},
     "output_type": "execute_result"
    }
   ],
   "source": [
    "full_model = LogisticRegression(penalty='l2', C=1e42, solver='liblinear')\n",
    "full_model.fit(X, y, sample_weight=wt)\n",
    "f\"percentage of loans predicted to defaullt (weighting): {100*np.mean(full_model.predict(X) == 'default')}\""
   ]
  },
  {
   "cell_type": "markdown",
   "metadata": {},
   "source": [
    "<b><h4>Data Generation</h4></b>\n",
    "\n",
    "A variation of upsampling via bootstrapping is data generation by perturbing existing records to create new records. The intuition behind this idea is that since we only observe only a limited set of instances, the algorithm doesnt have a rich set of information to build classification \"rules\". By creating new records that are similar but not identical to exisiting records, the algorithm has a chance to learn a more robust set of rules. This notion is similar in spirit to ensemble statistical models such as boosting and bagging. \n",
    "\n",
    "The idea gained traction with the publication of the SMOTE algorithm, which stands for \"Synthetic Minority Oversampling Technique\". The SMOTE algorithm finds a record that is similar to the record being upsampled and creates a synthetic record, where the weight is generated separately for each predictor. The number of synthetic oversampled records created depends on the oversampling ratio required to bring the data set into approximate balance with respect to outcome classes.\n",
    "\n",
    "The Python package <em>imbalanced-learn</em> implements a variety of methods with an API that is compatible with scikit-learn. It provides various methods for over- and undersampling and support for using these techniques with boosting and bagging classifiers."
   ]
  },
  {
   "cell_type": "code",
   "execution_count": 542,
   "metadata": {},
   "outputs": [
    {
     "data": {
      "text/plain": [
       "'percentage of loans in default in (SMOTE resampled) : 50.0'"
      ]
     },
     "execution_count": 542,
     "metadata": {},
     "output_type": "execute_result"
    }
   ],
   "source": [
    "X_resampled, y_resampled = SMOTE().fit_resample(X,y)\n",
    "f\"percentage of loans in default in (SMOTE resampled) : {100 * np.mean(y_resampled == 'default')}\""
   ]
  },
  {
   "cell_type": "code",
   "execution_count": 543,
   "metadata": {},
   "outputs": [
    {
     "data": {
      "text/plain": [
       "'percentage of loans predicted to default (SMOTE resampled): 29.34067857351213'"
      ]
     },
     "execution_count": 543,
     "metadata": {},
     "output_type": "execute_result"
    }
   ],
   "source": [
    "full_model = LogisticRegression(penalty='l2', C=1e42, solver='liblinear')\n",
    "full_model.fit(X_resampled, y_resampled)\n",
    "f\"percentage of loans predicted to default (SMOTE resampled): {100 * np.mean(full_model.predict(X) == 'default')}\""
   ]
  },
  {
   "cell_type": "code",
   "execution_count": 544,
   "metadata": {},
   "outputs": [
    {
     "data": {
      "text/plain": [
       "'percentage of loans in default in (ADASYN resampled) : 48.56040383751355'"
      ]
     },
     "execution_count": 544,
     "metadata": {},
     "output_type": "execute_result"
    }
   ],
   "source": [
    "X_resampled, y_resampled = ADASYN().fit_resample(X,y)\n",
    "f\"percentage of loans in default in (ADASYN resampled) : {100 * np.mean(y_resampled == 'default')}\""
   ]
  },
  {
   "cell_type": "code",
   "execution_count": 545,
   "metadata": {},
   "outputs": [
    {
     "data": {
      "text/plain": [
       "'percentage of loans predicted default (ADASYN resampled): 27.39213414786602'"
      ]
     },
     "execution_count": 545,
     "metadata": {},
     "output_type": "execute_result"
    }
   ],
   "source": [
    "full_model = LogisticRegression(penalty='l2', C=1e42, solver='liblinear')\n",
    "full_model.fit(X_resampled, y_resampled)\n",
    "f\"percentage of loans predicted default (ADASYN resampled): {100 * np.mean(full_model.predict(X) == 'default')}\""
   ]
  },
  {
   "cell_type": "markdown",
   "metadata": {},
   "source": [
    "<b><h4>Cost-Based Classification</h4></b>\n",
    "\n",
    "In practice, accuracy and AUC are a poor man's way to choose a classification rule. Often, an estimated cost can be assigned to false positives versus false negatives, and it is more appropriate to incorporate these costs to determine the best cutoff when classifying 1s and 0s. For example, suppose the expected cost of a default of a new loan is C and the expected return from a paid-off loan is R. Then the expected return for that loan is:\n",
    "\n",
    "$expected\\;return = P(Y=0) * R + P(Y=1)*C$\n",
    "\n",
    "Instead of simply labeling a loan as default or paid off, or determining the probability of default, it makes more sense to determine if the loan has a positive expected return. Predicted probability of default is an intermediate step, and it must be combined with the loan's total value to determine expected profit, which is the ultimate planning metric of business. For example, a smaller value loan might be passed over in favor of a larger one with a slightly higher predicted default probability."
   ]
  },
  {
   "cell_type": "markdown",
   "metadata": {},
   "source": [
    "<b><h4>Exploring the Predictions</h4></b>\n",
    "\n"
   ]
  },
  {
   "cell_type": "code",
   "execution_count": 546,
   "metadata": {},
   "outputs": [
    {
     "data": {
      "text/html": [
       "<div>\n",
       "<style scoped>\n",
       "    .dataframe tbody tr th:only-of-type {\n",
       "        vertical-align: middle;\n",
       "    }\n",
       "\n",
       "    .dataframe tbody tr th {\n",
       "        vertical-align: top;\n",
       "    }\n",
       "\n",
       "    .dataframe thead th {\n",
       "        text-align: right;\n",
       "    }\n",
       "</style>\n",
       "<table border=\"1\" class=\"dataframe\">\n",
       "  <thead>\n",
       "    <tr style=\"text-align: right;\">\n",
       "      <th></th>\n",
       "      <th>Unnamed: 0</th>\n",
       "      <th>outcome</th>\n",
       "      <th>purpose_</th>\n",
       "      <th>dti</th>\n",
       "      <th>borrower_score</th>\n",
       "      <th>payment_inc_ratio</th>\n",
       "    </tr>\n",
       "  </thead>\n",
       "  <tbody>\n",
       "    <tr>\n",
       "      <th>0</th>\n",
       "      <td>32109</td>\n",
       "      <td>paid off</td>\n",
       "      <td>debt_consolidation</td>\n",
       "      <td>21.23</td>\n",
       "      <td>0.40</td>\n",
       "      <td>5.11135</td>\n",
       "    </tr>\n",
       "    <tr>\n",
       "      <th>1</th>\n",
       "      <td>16982</td>\n",
       "      <td>default</td>\n",
       "      <td>credit_card</td>\n",
       "      <td>15.49</td>\n",
       "      <td>0.40</td>\n",
       "      <td>5.43165</td>\n",
       "    </tr>\n",
       "    <tr>\n",
       "      <th>2</th>\n",
       "      <td>25335</td>\n",
       "      <td>paid off</td>\n",
       "      <td>debt_consolidation</td>\n",
       "      <td>27.30</td>\n",
       "      <td>0.70</td>\n",
       "      <td>9.23003</td>\n",
       "    </tr>\n",
       "    <tr>\n",
       "      <th>3</th>\n",
       "      <td>34580</td>\n",
       "      <td>paid off</td>\n",
       "      <td>major_purchase</td>\n",
       "      <td>21.11</td>\n",
       "      <td>0.40</td>\n",
       "      <td>2.33482</td>\n",
       "    </tr>\n",
       "    <tr>\n",
       "      <th>4</th>\n",
       "      <td>14424</td>\n",
       "      <td>default</td>\n",
       "      <td>debt_consolidation</td>\n",
       "      <td>16.46</td>\n",
       "      <td>0.45</td>\n",
       "      <td>12.10320</td>\n",
       "    </tr>\n",
       "  </tbody>\n",
       "</table>\n",
       "</div>"
      ],
      "text/plain": [
       "   Unnamed: 0   outcome            purpose_    dti  borrower_score  \\\n",
       "0       32109  paid off  debt_consolidation  21.23            0.40   \n",
       "1       16982   default         credit_card  15.49            0.40   \n",
       "2       25335  paid off  debt_consolidation  27.30            0.70   \n",
       "3       34580  paid off      major_purchase  21.11            0.40   \n",
       "4       14424   default  debt_consolidation  16.46            0.45   \n",
       "\n",
       "   payment_inc_ratio  \n",
       "0            5.11135  \n",
       "1            5.43165  \n",
       "2            9.23003  \n",
       "3            2.33482  \n",
       "4           12.10320  "
      ]
     },
     "execution_count": 546,
     "metadata": {},
     "output_type": "execute_result"
    }
   ],
   "source": [
    "loan3000.head()"
   ]
  },
  {
   "cell_type": "code",
   "execution_count": 547,
   "metadata": {},
   "outputs": [
    {
     "name": "stderr",
     "output_type": "stream",
     "text": [
      "  0% (0 of 11) |                         | Elapsed Time: 0:00:00 ETA:  --:--:--\n"
     ]
    },
    {
     "name": "stderr",
     "output_type": "stream",
     "text": [
      "  9% (1 of 11) |##                       | Elapsed Time: 0:00:00 ETA:  00:00:00\n",
      " 27% (3 of 11) |######                   | Elapsed Time: 0:00:00 ETA:   0:00:00\n",
      " 45% (5 of 11) |###########              | Elapsed Time: 0:00:00 ETA:   0:00:00\n",
      " 63% (7 of 11) |###############          | Elapsed Time: 0:00:00 ETA:   0:00:00\n",
      " 81% (9 of 11) |####################     | Elapsed Time: 0:00:00 ETA:   0:00:00\n",
      "100% (11 of 11) |########################| Elapsed Time: 0:00:00 Time:  0:00:00\n"
     ]
    },
    {
     "name": "stdout",
     "output_type": "stream",
     "text": [
      "LinearGAM(callbacks=[Deviance(), Diffs()], fit_intercept=True, \n",
      "   max_iter=100, scale=None, terms=s(0) + s(1) + intercept, \n",
      "   tol=0.0001, verbose=False)\n"
     ]
    }
   ],
   "source": [
    "predictors = ['borrower_score', 'payment_inc_ratio']\n",
    "outcome = 'outcome'\n",
    "\n",
    "X = loan3000[predictors]\n",
    "y = loan3000[outcome]\n",
    "\n",
    "loan_tree = DecisionTreeClassifier(random_state =1, criterion='entropy', min_impurity_decrease=0.003)\n",
    "loan_tree.fit(X,y)\n",
    "\n",
    "loan_lda = LinearDiscriminantAnalysis()\n",
    "loan_lda.fit(X,y)\n",
    "\n",
    "logit_reg = LogisticRegression(penalty='l2', solver='liblinear')\n",
    "logit_reg.fit(X,y)\n",
    "\n",
    "gam = LinearGAM(s(0) + s(1))\n",
    "print(gam.gridsearch(X.values, [1 if yi == 'default' else 0 for yi in y]))"
   ]
  },
  {
   "cell_type": "code",
   "execution_count": 562,
   "metadata": {},
   "outputs": [
    {
     "data": {
      "image/png": "[encoded data removed]",
      "text/plain": [
       "<Figure size 500x500 with 4 Axes>"
      ]
     },
     "metadata": {},
     "output_type": "display_data"
    }
   ],
   "source": [
    "models = {\n",
    "    'Decision Tree' : loan_tree,\n",
    "    'Linear Discriminant Analysis' : loan_lda,\n",
    "    'Logistic Regression' : logit_reg,\n",
    "    'Generalized Additive Model' : gam\n",
    "}\n",
    "\n",
    "fig, axes = plt.subplots(nrows=2, ncols=2, figsize=(5,5))\n",
    "\n",
    "xvalues = np.arange(0.25, 0.73, 0.005)\n",
    "yvalues = np.arange(-0.1, 20.1, 0.1)\n",
    "xx, yy = np.meshgrid(xvalues, yvalues)\n",
    "\n",
    "X = pd.DataFrame({\n",
    "    'borrower_score': xx.ravel(),\n",
    "    'payment_inc_ratio': yy.ravel(),\n",
    "})\n",
    "\n",
    "boundary = {}\n",
    "\n",
    "for n, (title, model) in enumerate(models.items()):\n",
    "    ax = axes[n//2, n%2]\n",
    "    predict = model.predict(X)\n",
    "    if 'Generalized' in title:\n",
    "        Z = np.array([1 if z > 0.5 else 0 for z in predict])\n",
    "    else:\n",
    "        Z = np.array([1 if z == 'default' else 0 for z in predict])\n",
    "    \n",
    "    Z = Z.reshape(xx.shape)\n",
    "    \n",
    "    boundary[title] = yvalues[np.argmax(Z > 0, axis=0)]\n",
    "    boundary[title][Z[-1,:] == 0] = yvalues[-1]\n",
    "\n",
    "    c = ax.pcolormesh(xx, yy, Z, cmap='Blues', vmin=0.1, vmax=1.3, shading='auto')\n",
    "    ax.set_title(title)\n",
    "    \n",
    "plt.tight_layout()"
   ]
  },
  {
   "cell_type": "code",
   "execution_count": 549,
   "metadata": {},
   "outputs": [
    {
     "data": {
      "text/html": [
       "<div>\n",
       "<style scoped>\n",
       "    .dataframe tbody tr th:only-of-type {\n",
       "        vertical-align: middle;\n",
       "    }\n",
       "\n",
       "    .dataframe tbody tr th {\n",
       "        vertical-align: top;\n",
       "    }\n",
       "\n",
       "    .dataframe thead th {\n",
       "        text-align: right;\n",
       "    }\n",
       "</style>\n",
       "<table border=\"1\" class=\"dataframe\">\n",
       "  <thead>\n",
       "    <tr style=\"text-align: right;\">\n",
       "      <th></th>\n",
       "      <th>Decision Tree</th>\n",
       "      <th>Linear Discriminant Analysis</th>\n",
       "      <th>Logistic Regression</th>\n",
       "      <th>Generalized Additive Model</th>\n",
       "      <th>borrower_score</th>\n",
       "    </tr>\n",
       "  </thead>\n",
       "  <tbody>\n",
       "    <tr>\n",
       "      <th>0</th>\n",
       "      <td>-0.1</td>\n",
       "      <td>-0.1</td>\n",
       "      <td>-0.1</td>\n",
       "      <td>-0.1</td>\n",
       "      <td>0.250</td>\n",
       "    </tr>\n",
       "    <tr>\n",
       "      <th>1</th>\n",
       "      <td>-0.1</td>\n",
       "      <td>-0.1</td>\n",
       "      <td>-0.1</td>\n",
       "      <td>-0.1</td>\n",
       "      <td>0.255</td>\n",
       "    </tr>\n",
       "    <tr>\n",
       "      <th>2</th>\n",
       "      <td>-0.1</td>\n",
       "      <td>-0.1</td>\n",
       "      <td>-0.1</td>\n",
       "      <td>-0.1</td>\n",
       "      <td>0.260</td>\n",
       "    </tr>\n",
       "    <tr>\n",
       "      <th>3</th>\n",
       "      <td>-0.1</td>\n",
       "      <td>-0.1</td>\n",
       "      <td>-0.1</td>\n",
       "      <td>-0.1</td>\n",
       "      <td>0.265</td>\n",
       "    </tr>\n",
       "    <tr>\n",
       "      <th>4</th>\n",
       "      <td>-0.1</td>\n",
       "      <td>-0.1</td>\n",
       "      <td>-0.1</td>\n",
       "      <td>-0.1</td>\n",
       "      <td>0.270</td>\n",
       "    </tr>\n",
       "  </tbody>\n",
       "</table>\n",
       "</div>"
      ],
      "text/plain": [
       "   Decision Tree  Linear Discriminant Analysis  Logistic Regression  \\\n",
       "0           -0.1                          -0.1                 -0.1   \n",
       "1           -0.1                          -0.1                 -0.1   \n",
       "2           -0.1                          -0.1                 -0.1   \n",
       "3           -0.1                          -0.1                 -0.1   \n",
       "4           -0.1                          -0.1                 -0.1   \n",
       "\n",
       "   Generalized Additive Model  borrower_score  \n",
       "0                        -0.1           0.250  \n",
       "1                        -0.1           0.255  \n",
       "2                        -0.1           0.260  \n",
       "3                        -0.1           0.265  \n",
       "4                        -0.1           0.270  "
      ]
     },
     "execution_count": 549,
     "metadata": {},
     "output_type": "execute_result"
    }
   ],
   "source": [
    "boundary['borrower_score'] = xvalues\n",
    "boundaries = pd.DataFrame(boundary)\n",
    "boundaries.head()"
   ]
  },
  {
   "cell_type": "code",
   "execution_count": 555,
   "metadata": {},
   "outputs": [
    {
     "data": {
      "image/png": "[encoded data removed]",
      "text/plain": [
       "<Figure size 500x400 with 1 Axes>"
      ]
     },
     "metadata": {},
     "output_type": "display_data"
    }
   ],
   "source": [
    "fig, ax = plt.subplots(figsize=(5,4))\n",
    "boundaries.plot(x='borrower_score', ax=ax)\n",
    "ax.set_ylabel('payment_inc_ratio')\n",
    "ax.set_ylim(0,20)\n",
    "plt.tight_layout()"
   ]
  },
  {
   "cell_type": "code",
   "execution_count": null,
   "metadata": {},
   "outputs": [],
   "source": []
  }
 ],
 "metadata": {
  "kernelspec": {
   "display_name": "base",
   "language": "python",
   "name": "python3"
  },
  "language_info": {
   "codemirror_mode": {
    "name": "ipython",
    "version": 3
   },
   "file_extension": ".py",
   "mimetype": "text/x-python",
   "name": "python",
   "nbconvert_exporter": "python",
   "pygments_lexer": "ipython3",
   "version": "3.8.8"
  },
  "orig_nbformat": 4
 },
 "nbformat": 4,
 "nbformat_minor": 2
}
